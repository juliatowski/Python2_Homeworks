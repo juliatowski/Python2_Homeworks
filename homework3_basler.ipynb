{
 "cells": [
  {
   "cell_type": "markdown",
   "metadata": {},
   "source": [
    "# Homework exercise 3\n",
    "## Deadline: upload to Moodle by 7 June 18:00 h\n",
    "\n",
    "__Please submit your homework either as a Jupyter Notebook or using .py files.__\n",
    "\n",
    "If you use .py files, please also include a PDF containing the output of your code and your explanations. Either way, the code needs to be in a form that can be easily run on another computer.\n",
    "\n",
    "__Name 1:__\n",
    "\n",
    "__Name 2:__\n",
    "\n",
    "__Name 3:__\n",
    "\n",
    "\n",
    "The name of the file that you upload should be named *Homework1_YourLastName_YourStudentID*.\n",
    "\n",
    "Reminder: you are required to attend class on 26 May to earn points for this homework exercise unless you have a valid reason for your absence.\n",
    "\n",
    "You are encouraged to work on this exercise in teams of up to three students. If any part of the questions is unclear, please ask on the Moodle forum."
   ]
  },
  {
   "cell_type": "markdown",
   "metadata": {},
   "source": [
    "#### APIs, NLP, ML\n"
   ]
  },
  {
   "cell_type": "markdown",
   "metadata": {},
   "source": [
    "__Reddit__\n",
    "\n",
    "\n",
    "The Reddit offers an API providing free access to up to 1000 submissions (i.e. posts), comments on those submissions, and some meta data. `PRAW` is a module that facilitates usage of the Reddit API, and it is recommended that you use it. It is documented at https://praw.readthedocs.io/en/latest/index.html and the Quick Start page should give you most of the information you need.\n",
    "\n",
    "(If you would like to use more Reddit data, you may want to consider `PSAW`. You won't need it for this homework exercise, though it might be of interest if you'd like to use Reddit in your course project.)\n",
    "\n",
    "Please note that using the Reddit API requires users to register. Feel free to use any temporary email address if you have any concerns with sharing your usual address with Reddit.\n",
    "\n",
    "Please collect data for the top 1000 submissions and all the comments on those submissions for the subreddits 'wallstreetbets' and 'StockMarket'.\n",
    "\n",
    "The goal will be to classify submissions, i.e., to predict which subreddit each submission belongs to. \n",
    "\n",
    "Write a class RedditClassifier that contains two object attributes: the categorical variable to be used in the classification (here: the subreddit) and a list (for now, since you have only encountered a binary classifier, of length 2) of values for that category (i.e. a list of the names of the two subreddits). The class should be derived from the Perceptron class from Chapter 7. It should contain a method that combines the preprocessing and the estimation.\n",
    "\n",
    "The preprocessing should generate features that might help predict the category. Please don't use features such as the frequency of each word as we will take a look at appropriate ways of working with such information only in the next class. Possible features could be: length of title, number of comments, average sentence length, word length, number of sentences in the comments, shares of nouns, verbs, etc., number of stop words used compared to other words, etc.. Please add any other features that you think might be useful for this task but don't include features that are likely to perfectly predict the category (e.g. the author of a submission).\n",
    "\n",
    "Please use this class to classify the submissions. Plot the percentage of submissions that are incorrectly classified in each epoch for different learning rates. Don't expect to achieve near-perfect predictions as the features you employ may not be able to easily distinguish between categories the way they did in the example in class."
   ]
  },
  {
   "cell_type": "code",
   "execution_count": null,
   "metadata": {
    "tags": []
   },
   "outputs": [],
   "source": [
    "import praw\n",
    "from sklearn.model_selection import train_test_split\n",
    "from praw.models import MoreComments\n",
    "import pandas as pd\n",
    "import numpy as np\n",
    "\n",
    "reddit = praw.Reddit(\n",
    "    client_id=\"cuDmFCTelGCG4w\",\n",
    "    client_secret=\"JJKHv_s7LlxkTKJE90xkPMiZIEqFRQ\",\n",
    "    user_agent=\"Homework3\"\n",
    ")\n",
    "\n",
    "wallstreetbets=reddit.subreddit('wallstreetbets')\n",
    "stockmarket=reddit.subreddit('StockMarket')\n",
    "\n",
    "\n",
    "hot_stockmarket=stockmarket.hot(limit=1000)\n",
    "hot_wsb=wallstreetbets.hot(limit=1000)\n",
    "\n",
    "wsb_list = [submission for submission in hot_wsb]\n",
    "stockmarket_list = [submission for submission in hot_stockmarket]\n",
    "y = [\"stockmarket\"]*len(stockmarket_list) +[\"wsb\"]*len(wsb_list)\n",
    "X = stockmarket_list + wsb_list\n",
    "\n",
    "X_train, X_test, y_train, y_test = train_test_split(X, y, test_size=0.2, random_state=42)\n",
    "\n",
    "def preprocessing(X):\n",
    "    titles=[]\n",
    "    comment_count=[]\n",
    "    comments=[]\n",
    "    over_18=[]\n",
    "    upvote_ratio=[]\n",
    "    num_comments=[]\n",
    "    text=[]\n",
    "    spoiler=[]\n",
    "    lentitles=[]\n",
    "    isself=[]\n",
    "    subred=[]\n",
    "\n",
    "    for submission in X:\n",
    "        over_18.append(submission.over_18)\n",
    "        upvote_ratio.append(submission.upvote_ratio)\n",
    "        comment_count.append(submission.num_comments)\n",
    "        titles.append(submission.title)\n",
    "        if submission.selftext=='': \n",
    "            text.append(0)\n",
    "        else: \n",
    "            text.append(submission.selftext)\n",
    "        spoiler.append(submission.spoiler)\n",
    "        #Whether or not the submission is a selfpost (text-only).\n",
    "        isself.append(submission.is_self) \n",
    "        #print(dir(submission))\n",
    "\n",
    "    for title in titles:\n",
    "        lentitles.append(len(title))\n",
    "\n",
    "\n",
    "    data = pd.DataFrame(\n",
    "        {#'Titles': titles,\n",
    "         'Comment Count':comment_count,\n",
    "         #'Comments':comments,\n",
    "         'Over 18':self.over_18, \n",
    "         'Upvotoe Ratio':upvote_ratio,\n",
    "         #'Num Comments':num_comments, \n",
    "         #'Text':text, \n",
    "         'Spoiler':spoiler, \n",
    "         'lengh titles':lentitles, \n",
    "         'Isself':isself,\n",
    "        })\n",
    "    return data\n",
    "\n",
    "print(preprocessing(X))\n",
    "\n",
    "data=(preprocessing(X))\n",
    "\n"
   ]
  },
  {
   "cell_type": "code",
   "execution_count": 51,
   "metadata": {},
   "outputs": [
    {
     "name": "stdout",
     "output_type": "stream",
     "text": [
      "0.82\n"
     ]
    }
   ],
   "source": [
    "print(X_train[10].upvote_ratio)"
   ]
  },
  {
   "cell_type": "code",
   "execution_count": 109,
   "metadata": {
    "tags": []
   },
   "outputs": [
    {
     "name": "stdout",
     "output_type": "stream",
     "text": [
      "[Submission(id='nqy1ep'), Submission(id='nqpvk5'), Submission(id='nqu7ef'), Submission(id='nqy6pi'), Submission(id='nr9sn3'), Submission(id='nqjqho'), Submission(id='nqwf03'), Submission(id='nr2khe'), Submission(id='nqu9yr'), Submission(id='nr50qi'), Submission(id='nqb495'), Submission(id='nr5pd4'), Submission(id='nr8y91'), Submission(id='nqpov9'), Submission(id='nradv0'), Submission(id='nr5vcq'), Submission(id='nr35t3'), Submission(id='nqwi32'), Submission(id='nrbt75'), Submission(id='nr5ki7'), Submission(id='nr9hst'), Submission(id='nr9bjg'), Submission(id='nqwglr'), Submission(id='nqpct2'), Submission(id='nr0t6s'), Submission(id='nr52gr'), Submission(id='nqsmyo'), Submission(id='nqopub'), Submission(id='nquhqj'), Submission(id='nqow4r'), Submission(id='nquhwx'), Submission(id='nrcm28'), Submission(id='nrc3uk'), Submission(id='nrc1eq'), Submission(id='nrc007'), Submission(id='nrb5ft'), Submission(id='nr5u5r'), Submission(id='nqbzjp'), Submission(id='nqryh4'), Submission(id='nqwkgt'), Submission(id='nqys8l'), Submission(id='nquoxk'), Submission(id='nqq1s4'), Submission(id='nqq204'), Submission(id='nr0fv7'), Submission(id='nqupr3'), Submission(id='nr22n4'), Submission(id='nr7r1n'), Submission(id='nr40nx'), Submission(id='nqy0t4'), Submission(id='nr3i3x'), Submission(id='nrc717'), Submission(id='nqxyso'), Submission(id='nqq4ek'), Submission(id='nqrniw'), Submission(id='nqzke0'), Submission(id='nqsmik'), Submission(id='nr4bsc'), Submission(id='nqs2hs'), Submission(id='nqx7id'), Submission(id='nqztjf'), Submission(id='nqzrel'), Submission(id='nqz38o'), Submission(id='nqlm5n'), Submission(id='nqvkc8'), Submission(id='nr25zp'), Submission(id='nr5wrf'), Submission(id='nqwgn0'), Submission(id='nr04nm'), Submission(id='nqnzh6'), Submission(id='nr2ppp'), Submission(id='nqperx'), Submission(id='nqkek5'), Submission(id='nqmwqu'), Submission(id='nqm55b'), Submission(id='nqlffg'), Submission(id='nqn4vt'), Submission(id='nquht9'), Submission(id='nqthxm'), Submission(id='nqasy1'), Submission(id='nqnx20'), Submission(id='npeox6'), Submission(id='nqrx9i'), Submission(id='nqc8lr'), Submission(id='nqbp2v'), Submission(id='nqd6eq'), Submission(id='nqqzhl'), Submission(id='nqp76c'), Submission(id='nqx9y2'), Submission(id='nqow42'), Submission(id='nqc19i'), Submission(id='nqx74x'), Submission(id='nqoluo'), Submission(id='nqjymf'), Submission(id='nq7ym6'), Submission(id='nqo6ky'), Submission(id='nqznpa'), Submission(id='nqevtn'), Submission(id='nqqtir'), Submission(id='nq3ir6'), Submission(id='nqak0q'), Submission(id='nq7n1q'), Submission(id='nq8t5f'), Submission(id='nqcz5o'), Submission(id='nqq1id'), Submission(id='nq4rg7'), Submission(id='nq45wi'), Submission(id='npzu17'), Submission(id='nq41o1'), Submission(id='npydg8'), Submission(id='nptd2u'), Submission(id='nq7pr2'), Submission(id='nqkdqf'), Submission(id='nq2vfj'), Submission(id='nqcwd9'), Submission(id='np5ecn'), Submission(id='nq7xsk'), Submission(id='nq7u40'), Submission(id='nppg8j'), Submission(id='npltzt'), Submission(id='npdw38'), Submission(id='nptlb4'), Submission(id='nq6lcv'), Submission(id='npyy0m'), Submission(id='npnxbp'), Submission(id='npxh0e'), Submission(id='npwrk6'), Submission(id='npwihj'), Submission(id='nq0urt'), Submission(id='npvey8'), Submission(id='npveiu'), Submission(id='npr36s'), Submission(id='nq04jc'), Submission(id='npzike'), Submission(id='npycg5'), Submission(id='npy562'), Submission(id='npqw6x'), Submission(id='npy1ga'), Submission(id='npxzrj'), Submission(id='nq1vcy'), Submission(id='nppli3'), Submission(id='npr1mp'), Submission(id='npv6lo'), Submission(id='npuz2w'), Submission(id='npfpdw'), Submission(id='npulnz'), Submission(id='npakhx'), Submission(id='np9snq'), Submission(id='nploiu'), Submission(id='npiv9j'), Submission(id='nprsus'), Submission(id='npd3gn'), Submission(id='nochhz'), Submission(id='nplo0e'), Submission(id='npfb5o'), Submission(id='npu6he'), Submission(id='noltdw'), Submission(id='np3p6z'), Submission(id='noy53o'), Submission(id='npb270'), Submission(id='nou3jn'), Submission(id='np3pk9'), Submission(id='np61mj'), Submission(id='nozwoe'), Submission(id='npkg72'), Submission(id='nob9lg'), Submission(id='nogmjz'), Submission(id='nonapu'), Submission(id='npeg1z'), Submission(id='nope6g'), Submission(id='noevys'), Submission(id='npc7xr'), Submission(id='npcsj4'), Submission(id='nob6d0'), Submission(id='nohlhi'), Submission(id='noktd2'), Submission(id='noqm7o'), Submission(id='nopark'), Submission(id='nojdok'), Submission(id='nnmy1f'), Submission(id='noha9d'), Submission(id='nofn53'), Submission(id='noj5ea'), Submission(id='non72m'), Submission(id='no6k8d'), Submission(id='nnrby5'), Submission(id='nnw6cf'), Submission(id='nnvas3'), Submission(id='not5yn'), Submission(id='nonhll'), Submission(id='no0hd9'), Submission(id='nnl69s'), Submission(id='no0odm'), Submission(id='nnzg3g'), Submission(id='nomvsy'), Submission(id='nokosq'), Submission(id='nogqgj'), Submission(id='nnu10h'), Submission(id='nn9yvt'), Submission(id='nng635'), Submission(id='no4y2j'), Submission(id='nnr3bz'), Submission(id='nnrhw5'), Submission(id='nnsrir'), Submission(id='nnxwvy'), Submission(id='nnez7b'), Submission(id='nnnm3m'), Submission(id='nntbgo'), Submission(id='nnc05y'), Submission(id='nnoiu1'), Submission(id='nmsccr'), Submission(id='nnntym'), Submission(id='nnqb9y'), Submission(id='nnpx31'), Submission(id='nnp60e'), Submission(id='nngi2i'), Submission(id='nn3bzx'), Submission(id='nndpmc'), Submission(id='nn7f59'), Submission(id='nneqyl'), Submission(id='nnbt5a'), Submission(id='nnnhuj'), Submission(id='nnjxy5'), Submission(id='nnj05o'), Submission(id='nmohy9'), Submission(id='nmxhpc'), Submission(id='nnd0yk'), Submission(id='nnd036'), Submission(id='nmz235'), Submission(id='nni3tg'), Submission(id='nn3eqn'), Submission(id='nne5me'), Submission(id='nns2od'), Submission(id='nna7ej'), Submission(id='nn50jl'), Submission(id='nn5e45'), Submission(id='nn9sfc'), Submission(id='nmmciz'), Submission(id='nmf42f'), Submission(id='nmx4ft'), Submission(id='nmuhji'), Submission(id='nn0zmm'), Submission(id='nn2sat'), Submission(id='nn3ang'), Submission(id='nmv88y'), Submission(id='nmtuso'), Submission(id='nmol1z'), Submission(id='nmtb88'), Submission(id='nmwfdq'), Submission(id='nn0cl4'), Submission(id='nmvq9o'), Submission(id='nmoqlo'), Submission(id='nmym7g'), Submission(id='nn3fng'), Submission(id='nmj4w3'), Submission(id='nmxv5i'), Submission(id='nmu306'), Submission(id='nmwlar'), Submission(id='nmmyfo'), Submission(id='nmdhhi'), Submission(id='nmmwbb'), Submission(id='nmnc4z'), Submission(id='nmgrju'), Submission(id='nlmktd'), Submission(id='nmguyg'), Submission(id='nmxgzv'), Submission(id='nn607t'), Submission(id='nmkp7h'), Submission(id='nmnksd'), Submission(id='nmmbcv'), Submission(id='nm5vcm'), Submission(id='nn6g3b'), Submission(id='nmln3i'), Submission(id='nmseh7'), Submission(id='nmxjl7'), Submission(id='nmjmzp'), Submission(id='nn0gmj'), Submission(id='nmhh7s'), Submission(id='nm9dlj'), Submission(id='nm7xhm'), Submission(id='nml9zv'), Submission(id='nmz232'), Submission(id='nmj43s'), Submission(id='nmbxcq'), Submission(id='nmbm9u'), Submission(id='nmmewo'), Submission(id='nmtis9'), Submission(id='nmbega'), Submission(id='nmgdnu'), Submission(id='nm4lsn'), Submission(id='nmari8'), Submission(id='nm78up'), Submission(id='nmitnd'), Submission(id='nlye9q'), Submission(id='nmgrrv'), Submission(id='nmaxd2'), Submission(id='nm0qr6'), Submission(id='nm7rkb'), Submission(id='nm7d2n'), Submission(id='nm9z5d'), Submission(id='nm9dx7'), Submission(id='nm7pl8'), Submission(id='nlr5ex'), Submission(id='nlx3zv'), Submission(id='nmb2yv'), Submission(id='nmauea'), Submission(id='nlua4c'), Submission(id='nmdwgv'), Submission(id='nlgm08'), Submission(id='nlr818'), Submission(id='nm0jqo'), Submission(id='nlpm2r'), Submission(id='nm2uxw'), Submission(id='nlrcmi'), Submission(id='nm2c0m'), Submission(id='nltpne'), Submission(id='nlxuky'), Submission(id='nlscf4'), Submission(id='nloq0o'), Submission(id='nlv48n'), Submission(id='nlrxbd'), Submission(id='nlo2mb'), Submission(id='nlxljs'), Submission(id='nlplpn'), Submission(id='nlirbm'), Submission(id='nlh00e'), Submission(id='nlv3a1'), Submission(id='nlq57k'), Submission(id='nlmzjk'), Submission(id='nlk64p'), Submission(id='nlu5pn'), Submission(id='nltwsl'), Submission(id='nlnszq'), Submission(id='nlsor3'), Submission(id='nlwtr4'), Submission(id='nm01ha'), Submission(id='nlcets'), Submission(id='nlk71a'), Submission(id='nlj3wc'), Submission(id='nl2fpc'), Submission(id='nlbhlb'), Submission(id='nlclx1'), Submission(id='nkzhv8'), Submission(id='nlklzt'), Submission(id='nlulou'), Submission(id='nl0he2'), Submission(id='nldxds'), Submission(id='nli651'), Submission(id='nk6cwh'), Submission(id='nkzr8v'), Submission(id='nlgrzq'), Submission(id='nlgmci'), Submission(id='nloev9'), Submission(id='nl9kjf'), Submission(id='nl3al5'), Submission(id='nkw41u'), Submission(id='nl346b'), Submission(id='nl6erb'), Submission(id='nllqk4'), Submission(id='nlgwh8'), Submission(id='nlq6hs'), Submission(id='nl55c2'), Submission(id='nl6pds'), Submission(id='nl29sv'), Submission(id='nkyol6'), Submission(id='nkxsna'), Submission(id='nkxnc6'), Submission(id='nkqbtm'), Submission(id='nl33s0'), Submission(id='nl9ts7'), Submission(id='nl1klt'), Submission(id='nky9ga'), Submission(id='nkrr6g'), Submission(id='nl3ncj'), Submission(id='nkyj5e'), Submission(id='nkuxd4'), Submission(id='nl1viw'), Submission(id='nl1tfp'), Submission(id='nkamjm'), Submission(id='nkhubp'), Submission(id='nkuqxc'), Submission(id='njupgh'), Submission(id='nk6m4i'), Submission(id='nl3cli'), Submission(id='nktih5'), Submission(id='nkkazx'), Submission(id='nkq8gu'), Submission(id='nkt2k4'), Submission(id='njxvcd'), Submission(id='nkhg2c'), Submission(id='nkr0vt'), Submission(id='nkv26k'), Submission(id='nl2rt2'), Submission(id='nk7f7m'), Submission(id='nkb69k'), Submission(id='nl4dme'), Submission(id='nkckrq'), Submission(id='nkvebf'), Submission(id='nk7j2u'), Submission(id='nl0zhx'), Submission(id='nku0es'), Submission(id='nkkwm0'), Submission(id='nkayq9'), Submission(id='nknzg4'), Submission(id='nkaiui'), Submission(id='nkrzf4'), Submission(id='nk2bnl'), Submission(id='nky0hp'), Submission(id='nkjf2v'), Submission(id='nkmjob'), Submission(id='nka9qk'), Submission(id='nkfzw0'), Submission(id='nkw0vh'), Submission(id='nk69eb'), Submission(id='njdh2d'), Submission(id='nk7fjw'), Submission(id='njugwe'), Submission(id='nk0bgr'), Submission(id='nkuw2v'), Submission(id='njk9t1'), Submission(id='nki95y'), Submission(id='nkpcwe'), Submission(id='nkdg0h'), Submission(id='njxndj'), Submission(id='nkcyxg'), Submission(id='nja698'), Submission(id='nkq0j1'), Submission(id='njwvyl'), Submission(id='nkn87u'), Submission(id='nk0uzf'), Submission(id='nk90g5'), Submission(id='njxxz1'), Submission(id='nkc3tv'), Submission(id='nkbmms'), Submission(id='nk3cly'), Submission(id='njrn0o'), Submission(id='njlday'), Submission(id='nj14zc'), Submission(id='nk9kqs'), Submission(id='njwb05'), Submission(id='njxc17'), Submission(id='nk5x7d'), Submission(id='njtzna'), Submission(id='nkglr4'), Submission(id='nj9xar'), Submission(id='njw8a4'), Submission(id='njn6ur'), Submission(id='nk37cq'), Submission(id='nk30r4'), Submission(id='njilv3'), Submission(id='njnu61'), Submission(id='njzkko'), Submission(id='njka4i'), Submission(id='njfe1v'), Submission(id='nk21d9'), Submission(id='nr9r9t'), Submission(id='nng6r6'), Submission(id='nr97ko'), Submission(id='nr29c0'), Submission(id='nr4tlg'), Submission(id='nr2p3p'), Submission(id='nraqzo'), Submission(id='nquj1u'), Submission(id='nra13l'), Submission(id='nrbin0'), Submission(id='nr21l5'), Submission(id='nr4hps'), Submission(id='nr1za9'), Submission(id='nqqzwd'), Submission(id='nr6non'), Submission(id='nqpe3q'), Submission(id='nr0fv1'), Submission(id='nr2mdu'), Submission(id='nqw1e3'), Submission(id='nqrkp0'), Submission(id='nqqre9'), Submission(id='nqxigm'), Submission(id='nquubf'), Submission(id='nra3qb'), Submission(id='nqndf2'), Submission(id='nqsgln'), Submission(id='nqsxi8'), Submission(id='nqxtzd'), Submission(id='nqxz66'), Submission(id='nrb4q1'), Submission(id='nr3fzu'), Submission(id='nr7hdr'), Submission(id='nqmt2i'), Submission(id='nraoia'), Submission(id='nraw3v'), Submission(id='nqstw1'), Submission(id='nqtn8u'), Submission(id='nqygx3'), Submission(id='nqn02x'), Submission(id='nr6rpz'), Submission(id='nr6mps'), Submission(id='nra92h'), Submission(id='nr5mhr'), Submission(id='nqwg00'), Submission(id='nra7ha'), Submission(id='nqwmlw'), Submission(id='nr18f6'), Submission(id='nrbrnx'), Submission(id='nqxm94'), Submission(id='nqgql1'), Submission(id='nqop11'), Submission(id='nqz0rg'), Submission(id='nqxbbr'), Submission(id='nravsn'), Submission(id='nrb387'), Submission(id='nqtc6r'), Submission(id='nr5d5t'), Submission(id='nqy7ys'), Submission(id='nqv2m4'), Submission(id='nr9oil'), Submission(id='nr94r2'), Submission(id='nqyndj'), Submission(id='nqs0j1'), Submission(id='nqmzc3'), Submission(id='nqst1w'), Submission(id='nr6806'), Submission(id='nqt2up'), Submission(id='nr3jmz'), Submission(id='nr4qtv'), Submission(id='nqnby8'), Submission(id='nqpu0v'), Submission(id='nr7l7l'), Submission(id='nr1j9z'), Submission(id='nqwkul'), Submission(id='nr04oz'), Submission(id='nqnjph'), Submission(id='nr54n0'), Submission(id='nqrvgo'), Submission(id='nr0lzk'), Submission(id='nqs1hi'), Submission(id='nqte85'), Submission(id='nr7mj5'), Submission(id='nqoguh'), Submission(id='nrbig0'), Submission(id='nr96a8'), Submission(id='nqx7zm'), Submission(id='nrbyru'), Submission(id='nrajun'), Submission(id='nqt8jy'), Submission(id='nr5cdm'), Submission(id='nqyicj'), Submission(id='nqwsle'), Submission(id='nr00rx'), Submission(id='nqwvrf'), Submission(id='nqyz6b'), Submission(id='nrbdpk'), Submission(id='nr1bqr'), Submission(id='nqogsx'), Submission(id='nqwp72'), Submission(id='nr77g0'), Submission(id='nqxtej'), Submission(id='nrcajl'), Submission(id='nqyzhs'), Submission(id='nqphl2'), Submission(id='nqi9f6'), Submission(id='nqzb3z'), Submission(id='nqxu7e'), Submission(id='nr1yhz'), Submission(id='nqke1z'), Submission(id='nqvtt0'), Submission(id='nqygu5'), Submission(id='nr1aus'), Submission(id='nqsjek'), Submission(id='nr55ft'), Submission(id='nqx4d0'), Submission(id='nqnsci'), Submission(id='nqob2g'), Submission(id='nr116t'), Submission(id='nr4i90'), Submission(id='nqtl8e'), Submission(id='nqxmqb'), Submission(id='nr5cuz'), Submission(id='nqsikz'), Submission(id='nr2aea'), Submission(id='nr5bpp'), Submission(id='nraqny'), Submission(id='nqm55v'), Submission(id='nqn2ar'), Submission(id='nqz0u4'), Submission(id='nr47br'), Submission(id='nqv3wa'), Submission(id='nquioo'), Submission(id='nq6p5x'), Submission(id='nqwin1'), Submission(id='nqxze5'), Submission(id='nqrn7x'), Submission(id='nqy0p6'), Submission(id='nqrw4f'), Submission(id='nqy0t3'), Submission(id='nqvcc9'), Submission(id='nqojo5'), Submission(id='nqzyjo'), Submission(id='nqm6up'), Submission(id='nqwqv3'), Submission(id='nqw0ur'), Submission(id='nqxqb7'), Submission(id='nr1aeo'), Submission(id='nr7pde'), Submission(id='nqq6w9'), Submission(id='nr685y'), Submission(id='nqa5x8'), Submission(id='nqxuxd'), Submission(id='nqv07u'), Submission(id='nr51nn'), Submission(id='nqmhp7'), Submission(id='nquepa'), Submission(id='nr7v3a'), Submission(id='nrbqfw'), Submission(id='nqp6fd'), Submission(id='nqsuvm'), Submission(id='nqxrzr'), Submission(id='nr13e0'), Submission(id='nqvnui'), Submission(id='nqnx5q'), Submission(id='nr353r'), Submission(id='nr2gej'), Submission(id='nqzesm'), Submission(id='nr08hw'), Submission(id='nqyztj'), Submission(id='nquotl'), Submission(id='nraqxq'), Submission(id='nqwjjl'), Submission(id='nqmnky'), Submission(id='nqwmlz'), Submission(id='nqsnfj'), Submission(id='nqm45n'), Submission(id='nr1l2m'), Submission(id='nrcaoz'), Submission(id='nqz2wt'), Submission(id='nqx9nh'), Submission(id='nqxmty'), Submission(id='nqxj3j'), Submission(id='nramnt'), Submission(id='nqtcts'), Submission(id='nrbwu6'), Submission(id='nqz4n4'), Submission(id='nqn7ik'), Submission(id='nqwiby'), Submission(id='nr4xe0'), Submission(id='nqsef1'), Submission(id='nqwj56'), Submission(id='nqvbws'), Submission(id='nqx3vm'), Submission(id='nq8c5t'), Submission(id='nqvj7q'), Submission(id='nqx16c'), Submission(id='nqsyy3'), Submission(id='nq4w0i'), Submission(id='nquul5'), Submission(id='nqus8q'), Submission(id='nqw7uj'), Submission(id='nqs7kd'), Submission(id='nq9dt3'), Submission(id='npxze9'), Submission(id='nqstic'), Submission(id='nqom7p'), Submission(id='nqviqm'), Submission(id='nqxupu'), Submission(id='nr264n'), Submission(id='nqx39u'), Submission(id='nqy6ld'), Submission(id='nqrn5c'), Submission(id='nr1uz7'), Submission(id='nqs5qt'), Submission(id='nqkuc4'), Submission(id='nqrsf3'), Submission(id='nrcewp'), Submission(id='nqwa6w'), Submission(id='nqn1xu'), Submission(id='nr2kki'), Submission(id='nq9y08'), Submission(id='nqv1z3'), Submission(id='nqn5we'), Submission(id='nqbs4h'), Submission(id='nqigor'), Submission(id='nqsuc0'), Submission(id='nqmvt6'), Submission(id='nqx33a'), Submission(id='nqvqok'), Submission(id='nqwaa6'), Submission(id='nqmj8u'), Submission(id='nqs777'), Submission(id='nrcntc'), Submission(id='nqx0zj'), Submission(id='nrcdiz'), Submission(id='npy7f7'), Submission(id='npzixq'), Submission(id='nqv2ic'), Submission(id='nrbdnv'), Submission(id='nqlaor'), Submission(id='nqmwpf'), Submission(id='nqomvi'), Submission(id='nqwjqd'), Submission(id='npso9s'), Submission(id='nq78gw'), Submission(id='nqnjaa'), Submission(id='nq7u3y'), Submission(id='nqd1qt'), Submission(id='nqn7p3'), Submission(id='nqv9za'), Submission(id='npynk4'), Submission(id='nq3l12'), Submission(id='nqmdgb'), Submission(id='nqovv3'), Submission(id='nqrxfi'), Submission(id='nrcgnn'), Submission(id='nql0dh'), Submission(id='nqnatu'), Submission(id='nqkzbc'), Submission(id='nr51dx'), Submission(id='nqs1vh'), Submission(id='nqmbjs'), Submission(id='nq9kz3'), Submission(id='nqa2me'), Submission(id='nq32sc'), Submission(id='npzfzx'), Submission(id='nq5zj0'), Submission(id='nqbqpl'), Submission(id='nqtgxa'), Submission(id='nqjtwl'), Submission(id='nqnx3a'), Submission(id='nq6tgm'), Submission(id='nqlsep'), Submission(id='nq36v6'), Submission(id='nqnuiv'), Submission(id='nq9vxz')]\n"
     ]
    }
   ],
   "source": [
    "comments = []\n",
    "for x in X_train[:10]:\n",
    "    x.comments.replace_more(limit=0)\n",
    "    comments.append([top_level_comment for top_level_comment in x.comments[:10]])"
   ]
  },
  {
   "cell_type": "code",
   "execution_count": 124,
   "metadata": {},
   "outputs": [],
   "source": [
    "class Perceptron(object):\n",
    "  \n",
    "    def __init__(self, eta=0.01, n_iter=50, random_state=1):\n",
    "        self.eta = eta\n",
    "        self.n_iter = n_iter\n",
    "        self.random_state = random_state\n",
    "    \n",
    "    \"\"\"Perceptron classifier.\n",
    "    Parameters\n",
    "    ------------\n",
    "    eta : float\n",
    "    Learning rate (between 0.0 and 1.0)\n",
    "    n_iter : int\n",
    "    Passes over the training dataset.\n",
    "    random_state : int\n",
    "    Random number generator seed for random weight\n",
    "    initialization.\n",
    "    Attributes\n",
    "    -----------\n",
    "    w_ : 1d-array\n",
    "    Weights after fitting.\n",
    "    errors_ : list\n",
    "    Number of misclassifications (updates) in each epoch.\n",
    "    \"\"\"\n",
    "   \n",
    "        \n",
    "\n",
    "\n",
    "\n",
    "    def fit(self, X, y):\n",
    "        \n",
    "        \"\"\"Fit training data.\n",
    "        Parameters\n",
    "        ----------\n",
    "        X : {array-like}, shape = [n_samples, n_features]\n",
    "        Training vectors, where n_samples is the number of samples and\n",
    "        n_features is the number of features.\n",
    "        y : array-like, shape = [n_samples]\n",
    "        Target values.\n",
    "        Returns\n",
    "        -------\n",
    "        self : object\n",
    "        \"\"\"\n",
    "        \n",
    "        self.X = preprocessing(self,X)\n",
    "        rgen = np.random.RandomState(self.random_state)\n",
    "        self.w_ = rgen.normal(loc=0.0, scale=0.01, size=1 + X.shape[1])\n",
    "        self.errors_ = []\n",
    "        for _ in range(self.n_iter):\n",
    "            errors = 0\n",
    "        for xi, target in zip(self.X, y):\n",
    "            update = self.eta * (target - self.predict(xi))\n",
    "            self.w_[1:] += update * xi\n",
    "            self.w_[0] += update\n",
    "            errors += int(update != 0.0)\n",
    "        self.errors_.append(errors)\n",
    "        return self\n",
    "    def net_input(self, X):\n",
    "        \"\"\"Calculate net input\"\"\"\n",
    "        return np.dot(X, self.w_[1:]) + self.w_[0]\n",
    "    def predict(self, X):\n",
    "        self.X = self.preprocessing(X)\n",
    "        \"\"\"Return class label after unit step\"\"\"\n",
    "        return np.where(self.net_input(X) >= 0.0, 1, -1)\n"
   ]
  },
  {
   "cell_type": "code",
   "execution_count": 127,
   "metadata": {},
   "outputs": [
    {
     "ename": "AttributeError",
     "evalue": "'Perceptron' object has no attribute 'X'",
     "output_type": "error",
     "traceback": [
      "\u001b[0;31m---------------------------------------------------------------------------\u001b[0m",
      "\u001b[0;31mAttributeError\u001b[0m                            Traceback (most recent call last)",
      "\u001b[0;32m<ipython-input-127-11b3b4cac3b7>\u001b[0m in \u001b[0;36m<module>\u001b[0;34m\u001b[0m\n\u001b[1;32m      1\u001b[0m \u001b[0mperc\u001b[0m \u001b[0;34m=\u001b[0m \u001b[0mPerceptron\u001b[0m\u001b[0;34m(\u001b[0m\u001b[0mX\u001b[0m\u001b[0;34m)\u001b[0m\u001b[0;34m\u001b[0m\u001b[0;34m\u001b[0m\u001b[0m\n\u001b[1;32m      2\u001b[0m \u001b[0;34m\u001b[0m\u001b[0m\n\u001b[0;32m----> 3\u001b[0;31m \u001b[0mperc\u001b[0m\u001b[0;34m.\u001b[0m\u001b[0mpreprocessing\u001b[0m\u001b[0;34m(\u001b[0m\u001b[0mX\u001b[0m\u001b[0;34m)\u001b[0m\u001b[0;34m\u001b[0m\u001b[0;34m\u001b[0m\u001b[0m\n\u001b[0m\u001b[1;32m      4\u001b[0m \u001b[0;31m#perc.fit(X_train, y_train)\u001b[0m\u001b[0;34m\u001b[0m\u001b[0;34m\u001b[0m\u001b[0;34m\u001b[0m\u001b[0m\n",
      "\u001b[0;32m<ipython-input-124-40f10e3ba240>\u001b[0m in \u001b[0;36mpreprocessing\u001b[0;34m(self, X)\u001b[0m\n\u001b[1;32m     36\u001b[0m         \u001b[0msubred\u001b[0m\u001b[0;34m=\u001b[0m\u001b[0;34m[\u001b[0m\u001b[0;34m]\u001b[0m\u001b[0;34m\u001b[0m\u001b[0;34m\u001b[0m\u001b[0m\n\u001b[1;32m     37\u001b[0m \u001b[0;34m\u001b[0m\u001b[0m\n\u001b[0;32m---> 38\u001b[0;31m         \u001b[0;32mfor\u001b[0m \u001b[0msubmission\u001b[0m \u001b[0;32min\u001b[0m \u001b[0mself\u001b[0m\u001b[0;34m.\u001b[0m\u001b[0mX\u001b[0m\u001b[0;34m:\u001b[0m\u001b[0;34m\u001b[0m\u001b[0;34m\u001b[0m\u001b[0m\n\u001b[0m\u001b[1;32m     39\u001b[0m             \u001b[0mself\u001b[0m\u001b[0;34m.\u001b[0m\u001b[0mover_18\u001b[0m\u001b[0;34m.\u001b[0m\u001b[0mappend\u001b[0m\u001b[0;34m(\u001b[0m\u001b[0msubmission\u001b[0m\u001b[0;34m.\u001b[0m\u001b[0mover_18\u001b[0m\u001b[0;34m)\u001b[0m\u001b[0;34m\u001b[0m\u001b[0;34m\u001b[0m\u001b[0m\n\u001b[1;32m     40\u001b[0m             \u001b[0mself\u001b[0m\u001b[0;34m.\u001b[0m\u001b[0mupvote_ratio\u001b[0m\u001b[0;34m.\u001b[0m\u001b[0mappend\u001b[0m\u001b[0;34m(\u001b[0m\u001b[0msubmission\u001b[0m\u001b[0;34m.\u001b[0m\u001b[0mupvote_ratio\u001b[0m\u001b[0;34m)\u001b[0m\u001b[0;34m\u001b[0m\u001b[0;34m\u001b[0m\u001b[0m\n",
      "\u001b[0;31mAttributeError\u001b[0m: 'Perceptron' object has no attribute 'X'"
     ]
    }
   ],
   "source": [
    "perc = Perceptron()\n",
    "\n",
    "perc.preprocessing(X)\n",
    "#perc.fit(X_train, y_train)"
   ]
  },
  {
   "cell_type": "code",
   "execution_count": null,
   "metadata": {},
   "outputs": [],
   "source": []
  },
  {
   "cell_type": "code",
   "execution_count": null,
   "metadata": {},
   "outputs": [],
   "source": []
  }
 ],
 "metadata": {
  "kernelspec": {
   "display_name": "Python 3",
   "language": "python",
   "name": "python3"
  },
  "language_info": {
   "codemirror_mode": {
    "name": "ipython",
    "version": 3
   },
   "file_extension": ".py",
   "mimetype": "text/x-python",
   "name": "python",
   "nbconvert_exporter": "python",
   "pygments_lexer": "ipython3",
   "version": "3.8.5"
  },
  "metadata": {
   "interpreter": {
    "hash": "d3adbaf49ae7f507e83f0ccfbb2546a5cc19668fb515a7486c42bc7952ccb80e"
   }
  },
  "varInspector": {
   "cols": {
    "lenName": 16,
    "lenType": 16,
    "lenVar": 40
   },
   "kernels_config": {
    "python": {
     "delete_cmd_postfix": "",
     "delete_cmd_prefix": "del ",
     "library": "var_list.py",
     "varRefreshCmd": "print(var_dic_list())"
    },
    "r": {
     "delete_cmd_postfix": ") ",
     "delete_cmd_prefix": "rm(",
     "library": "var_list.r",
     "varRefreshCmd": "cat(var_dic_list()) "
    }
   },
   "types_to_exclude": [
    "module",
    "function",
    "builtin_function_or_method",
    "instance",
    "_Feature"
   ],
   "window_display": false
  }
 },
 "nbformat": 4,
 "nbformat_minor": 4
}