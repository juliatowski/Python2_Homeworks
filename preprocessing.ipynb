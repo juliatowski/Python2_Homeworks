{
 "cells": [
  {
   "cell_type": "code",
   "execution_count": 101,
   "metadata": {},
   "outputs": [],
   "source": [
    "from sklearn import datasets\n",
    "from sklearn.linear_model import Perceptron\n",
    "\n",
    "from sklearn.model_selection import train_test_split\n",
    "from sklearn.preprocessing import StandardScaler\n",
    "from sklearn.metrics import confusion_matrix\n",
    "from sklearn import tree\n",
    "from sklearn.model_selection import GridSearchCV \n",
    "from sklearn.metrics import make_scorer \n",
    "from sklearn.metrics import mean_absolute_error \n",
    "from sklearn import metrics\n",
    "from sklearn.metrics import r2_score\n",
    "from sklearn.model_selection import cross_val_score\n",
    "from sklearn import linear_model\n",
    "\n",
    "import numpy as np\n",
    "from matplotlib.colors import ListedColormap\n",
    "import matplotlib.pyplot as plt\n",
    "import pandas as pd\n",
    "import re\n",
    "\n",
    "\n",
    "%matplotlib inline\n",
    "from sklearn.tree import DecisionTreeClassifier, DecisionTreeRegressor, plot_tree\n",
    "from sklearn.feature_extraction.text import CountVectorizer\n",
    "from sklearn.feature_extraction.text import TfidfVectorizer\n",
    "\n",
    "import nltk\n",
    "from nltk.corpus import reuters\n",
    "from nltk.corpus import stopwords\n",
    "from nltk import word_tokenize\n",
    "import re\n",
    "import string\n",
    "\n",
    "import tensorflow.keras as keras\n",
    "from tensorflow.keras.models import Model\n",
    "from tensorflow.keras.preprocessing.text import Tokenizer\n",
    "from tensorflow.keras.preprocessing.sequence import pad_sequences\n",
    "from tensorflow.keras import layers\n",
    "from tensorflow.keras import Input"
   ]
  },
  {
   "cell_type": "code",
   "execution_count": 6,
   "metadata": {},
   "outputs": [
    {
     "name": "stderr",
     "output_type": "stream",
     "text": [
      "[nltk_data] Downloading package punkt to\n",
      "[nltk_data]     C:\\Users\\Evi\\AppData\\Roaming\\nltk_data...\n",
      "[nltk_data]   Package punkt is already up-to-date!\n",
      "[nltk_data] Downloading package stopwords to\n",
      "[nltk_data]     C:\\Users\\Evi\\AppData\\Roaming\\nltk_data...\n",
      "[nltk_data]   Package stopwords is already up-to-date!\n",
      "[nltk_data] Downloading package wordnet to\n",
      "[nltk_data]     C:\\Users\\Evi\\AppData\\Roaming\\nltk_data...\n",
      "[nltk_data]   Package wordnet is already up-to-date!\n"
     ]
    },
    {
     "data": {
      "text/plain": [
       "True"
      ]
     },
     "execution_count": 6,
     "metadata": {},
     "output_type": "execute_result"
    }
   ],
   "source": [
    "nltk.download('punkt')\n",
    "nltk.download('stopwords')\n",
    "nltk.download('wordnet')"
   ]
  },
  {
   "cell_type": "code",
   "execution_count": 7,
   "metadata": {},
   "outputs": [
    {
     "data": {
      "text/html": [
       "<div>\n",
       "<style scoped>\n",
       "    .dataframe tbody tr th:only-of-type {\n",
       "        vertical-align: middle;\n",
       "    }\n",
       "\n",
       "    .dataframe tbody tr th {\n",
       "        vertical-align: top;\n",
       "    }\n",
       "\n",
       "    .dataframe thead th {\n",
       "        text-align: right;\n",
       "    }\n",
       "</style>\n",
       "<table border=\"1\" class=\"dataframe\">\n",
       "  <thead>\n",
       "    <tr style=\"text-align: right;\">\n",
       "      <th></th>\n",
       "      <th>Symbol</th>\n",
       "      <th>text</th>\n",
       "      <th>Volatility</th>\n",
       "    </tr>\n",
       "  </thead>\n",
       "  <tbody>\n",
       "    <tr>\n",
       "      <th>0</th>\n",
       "      <td>MMM</td>\n",
       "      <td>About 3M Co3M Co is a technology company. The Company operates through four segments: Safety and Industrial, Transportation and Electronics, Health Care and Consumer. Safety and Industrial segment consist of abrasives, automotive aftermarket, closure and masking systems, communication markets, electrical markets, industrial adhesives and tapes, personal safety, roofing granules and other safety and industrial. Transportation and Electronics segment consists of advanced materials, automotive ...</td>\n",
       "      <td>0.013422</td>\n",
       "    </tr>\n",
       "    <tr>\n",
       "      <th>1</th>\n",
       "      <td>ABT</td>\n",
       "      <td>About Abbott LaboratoriesAbbott Laboratories (Abbott) is engaged in the discovery, development, manufacture, and sale of a diversified line of health care products. The Company operates through four segments: Established Pharmaceutical Products, Diagnostic Products, Nutritional Products, and Medical Devices. The Company focuses on cardiovascular, diabetes care, diagnostics, neuromodulation, nutrition and medicine. It offers products, including FreeStyle, PediaSure, Pedialyte, Similac, EleCar...</td>\n",
       "      <td>0.015707</td>\n",
       "    </tr>\n",
       "    <tr>\n",
       "      <th>2</th>\n",
       "      <td>ABBV</td>\n",
       "      <td>About AbbVie IncAbbVie Inc. (AbbVie) is a research-based biopharmaceutical company. The Company is engaged in research and development, manufacturing, commercialization and sale of medicines and therapies. AbbVie offers its products in various therapeutic categories, including Immunology products, which include Humira, Skyrizi and Rinvoq; Oncology products consists of Imbruvica and Venclexta; Aesthetics products include Botox Cosmetic, Juvederm Collection and other aesthetics; Neuroscience p...</td>\n",
       "      <td>0.014242</td>\n",
       "    </tr>\n",
       "    <tr>\n",
       "      <th>3</th>\n",
       "      <td>ABMD</td>\n",
       "      <td>About ABIOMED, Inc.ABIOMED, Inc. is a provider of temporary percutaneous mechanical circulatory support devices. The Company offers care to heart failure patients. The Company operates in the segment of the research, development and sale of medical devices to assist or replace the pumping function of the failing heart. The Company develops, manufactures and markets products that are designed to enable the heart to rest, heal and recover by improving blood flow to the coronary arteries and en...</td>\n",
       "      <td>0.022429</td>\n",
       "    </tr>\n",
       "    <tr>\n",
       "      <th>4</th>\n",
       "      <td>ACN</td>\n",
       "      <td>About Accenture PlcAccenture plc is a professional services company. It provides management and technology consulting services. Its segments include Communications, Media and Technology; Financial Services; Health and Public Service; Products, and Resources. The Communications, Media &amp; Technology segment serves communications, electronics, technology, media and entertainment industries. The Financial Services segment serves banking, capital markets and insurance industries. The Health &amp; Publ...</td>\n",
       "      <td>0.013775</td>\n",
       "    </tr>\n",
       "    <tr>\n",
       "      <th>...</th>\n",
       "      <td>...</td>\n",
       "      <td>...</td>\n",
       "      <td>...</td>\n",
       "    </tr>\n",
       "    <tr>\n",
       "      <th>495</th>\n",
       "      <td>YUM</td>\n",
       "      <td>About Yum! Brands, Inc.YUM! Brands, Inc. is engaged in restaurant business. The Company operates or franchised over 50,000 restaurants in more than 150 countries and territories operating under the KFC, Pizza Hut or Taco Bell (collectively the Concepts) brands. The Company operates through three segments: The KFC Division, which includes the operations of the KFC concept around the world; The Pizza Hut Division, which includes the operations of the Pizza Hut concept around the world, and The...</td>\n",
       "      <td>0.012367</td>\n",
       "    </tr>\n",
       "    <tr>\n",
       "      <th>496</th>\n",
       "      <td>ZBRA</td>\n",
       "      <td>About Zebra Technologies Corp.Zebra Technologies Corporation designs, manufactures and sells a range of automatic identification and data capture (AIDC) products. The Company's AIDC products include mobile computers, barcode scanners, radio frequency identification devices readers, specialty printers for barcode labeling and personal identification, real-time location systems, related accessories and supplies, such as self-adhesive labels and other consumables, and software utilities and app...</td>\n",
       "      <td>0.019611</td>\n",
       "    </tr>\n",
       "    <tr>\n",
       "      <th>497</th>\n",
       "      <td>ZBH</td>\n",
       "      <td>About Zimmer Biomet Holdings IncZimmer Biomet Holdings, Inc. is engaged in designing, manufacturing and marketing of orthopedic reconstructive products; sports medicine, biologics, extremities and trauma products; office-based technologies; spine, craniomaxillofacial and thoracic products; dental implants, and related surgical products. The Company's products and solutions help treat patients suffering from disorders of, or injuries to, bones, joints or supporting soft tissues. The Company m...</td>\n",
       "      <td>0.017338</td>\n",
       "    </tr>\n",
       "    <tr>\n",
       "      <th>498</th>\n",
       "      <td>ZION</td>\n",
       "      <td>About Zions Bancorporation NAZions Bancorporation, National Association is a financial holding company. The Company conducts its banking operations through separately managed and branded segments, including Zions Bank, Amegy Bank, California Bank &amp; Trust, National Bank of Arizona, Nevada State Bank (NSB), Vectra Bank Colorado, The Commerce Bank of Washington (TCBW) and Other. It focuses on providing community banking services through its business lines, including small and medium-sized busin...</td>\n",
       "      <td>0.030188</td>\n",
       "    </tr>\n",
       "    <tr>\n",
       "      <th>499</th>\n",
       "      <td>ZTS</td>\n",
       "      <td>About Zoetis IncZoetis Inc. is engaged in the discovery, development, manufacture and commercialization of animal health medicines and vaccines, with a focus on both livestock and companion animals. The Company has a business, commercializing products across eight core species: cattle, swine, poultry, sheep and fish (collectively, livestock) and dogs, cats and horses (collectively, companion animals), and within five product categories: anti-infectives, vaccines, parasiticides, medicated fee...</td>\n",
       "      <td>0.013904</td>\n",
       "    </tr>\n",
       "  </tbody>\n",
       "</table>\n",
       "<p>500 rows × 3 columns</p>\n",
       "</div>"
      ],
      "text/plain": [
       "    Symbol  \\\n",
       "0      MMM   \n",
       "1      ABT   \n",
       "2     ABBV   \n",
       "3     ABMD   \n",
       "4      ACN   \n",
       "..     ...   \n",
       "495    YUM   \n",
       "496   ZBRA   \n",
       "497    ZBH   \n",
       "498   ZION   \n",
       "499    ZTS   \n",
       "\n",
       "                                                                                                                                                                                                                                                                                                                                                                                                                                                                                                                    text  \\\n",
       "0    About 3M Co3M Co is a technology company. The Company operates through four segments: Safety and Industrial, Transportation and Electronics, Health Care and Consumer. Safety and Industrial segment consist of abrasives, automotive aftermarket, closure and masking systems, communication markets, electrical markets, industrial adhesives and tapes, personal safety, roofing granules and other safety and industrial. Transportation and Electronics segment consists of advanced materials, automotive ...   \n",
       "1    About Abbott LaboratoriesAbbott Laboratories (Abbott) is engaged in the discovery, development, manufacture, and sale of a diversified line of health care products. The Company operates through four segments: Established Pharmaceutical Products, Diagnostic Products, Nutritional Products, and Medical Devices. The Company focuses on cardiovascular, diabetes care, diagnostics, neuromodulation, nutrition and medicine. It offers products, including FreeStyle, PediaSure, Pedialyte, Similac, EleCar...   \n",
       "2    About AbbVie IncAbbVie Inc. (AbbVie) is a research-based biopharmaceutical company. The Company is engaged in research and development, manufacturing, commercialization and sale of medicines and therapies. AbbVie offers its products in various therapeutic categories, including Immunology products, which include Humira, Skyrizi and Rinvoq; Oncology products consists of Imbruvica and Venclexta; Aesthetics products include Botox Cosmetic, Juvederm Collection and other aesthetics; Neuroscience p...   \n",
       "3    About ABIOMED, Inc.ABIOMED, Inc. is a provider of temporary percutaneous mechanical circulatory support devices. The Company offers care to heart failure patients. The Company operates in the segment of the research, development and sale of medical devices to assist or replace the pumping function of the failing heart. The Company develops, manufactures and markets products that are designed to enable the heart to rest, heal and recover by improving blood flow to the coronary arteries and en...   \n",
       "4    About Accenture PlcAccenture plc is a professional services company. It provides management and technology consulting services. Its segments include Communications, Media and Technology; Financial Services; Health and Public Service; Products, and Resources. The Communications, Media & Technology segment serves communications, electronics, technology, media and entertainment industries. The Financial Services segment serves banking, capital markets and insurance industries. The Health & Publ...   \n",
       "..                                                                                                                                                                                                                                                                                                                                                                                                                                                                                                                   ...   \n",
       "495  About Yum! Brands, Inc.YUM! Brands, Inc. is engaged in restaurant business. The Company operates or franchised over 50,000 restaurants in more than 150 countries and territories operating under the KFC, Pizza Hut or Taco Bell (collectively the Concepts) brands. The Company operates through three segments: The KFC Division, which includes the operations of the KFC concept around the world; The Pizza Hut Division, which includes the operations of the Pizza Hut concept around the world, and The...   \n",
       "496  About Zebra Technologies Corp.Zebra Technologies Corporation designs, manufactures and sells a range of automatic identification and data capture (AIDC) products. The Company's AIDC products include mobile computers, barcode scanners, radio frequency identification devices readers, specialty printers for barcode labeling and personal identification, real-time location systems, related accessories and supplies, such as self-adhesive labels and other consumables, and software utilities and app...   \n",
       "497  About Zimmer Biomet Holdings IncZimmer Biomet Holdings, Inc. is engaged in designing, manufacturing and marketing of orthopedic reconstructive products; sports medicine, biologics, extremities and trauma products; office-based technologies; spine, craniomaxillofacial and thoracic products; dental implants, and related surgical products. The Company's products and solutions help treat patients suffering from disorders of, or injuries to, bones, joints or supporting soft tissues. The Company m...   \n",
       "498  About Zions Bancorporation NAZions Bancorporation, National Association is a financial holding company. The Company conducts its banking operations through separately managed and branded segments, including Zions Bank, Amegy Bank, California Bank & Trust, National Bank of Arizona, Nevada State Bank (NSB), Vectra Bank Colorado, The Commerce Bank of Washington (TCBW) and Other. It focuses on providing community banking services through its business lines, including small and medium-sized busin...   \n",
       "499  About Zoetis IncZoetis Inc. is engaged in the discovery, development, manufacture and commercialization of animal health medicines and vaccines, with a focus on both livestock and companion animals. The Company has a business, commercializing products across eight core species: cattle, swine, poultry, sheep and fish (collectively, livestock) and dogs, cats and horses (collectively, companion animals), and within five product categories: anti-infectives, vaccines, parasiticides, medicated fee...   \n",
       "\n",
       "     Volatility  \n",
       "0      0.013422  \n",
       "1      0.015707  \n",
       "2      0.014242  \n",
       "3      0.022429  \n",
       "4      0.013775  \n",
       "..          ...  \n",
       "495    0.012367  \n",
       "496    0.019611  \n",
       "497    0.017338  \n",
       "498    0.030188  \n",
       "499    0.013904  \n",
       "\n",
       "[500 rows x 3 columns]"
      ]
     },
     "execution_count": 7,
     "metadata": {},
     "output_type": "execute_result"
    }
   ],
   "source": [
    "df = pd.read_csv(\"final_data.csv\")\n",
    "text=df['text'] \n",
    "pd.options.display.max_colwidth=500\n",
    "df"
   ]
  },
  {
   "cell_type": "code",
   "execution_count": 8,
   "metadata": {},
   "outputs": [],
   "source": [
    "\n",
    "# wordnet = nltk.WordNetLemmatizer()\n",
    "# def my_preprocessor(text):\n",
    "    \n",
    "#     text=text.lower() \n",
    "#     text=re.sub(\"\\\\W\",\" \",text) # remove special chars\n",
    "    \n",
    "#     # lemmatize words\n",
    "#     words=re.split(\"\\\\s+\",text)\n",
    "#     lemmatized_words=[wordnet.lemmatize(t) for t in words] \n",
    "#     return ' '.join(lemmatized_words)\n",
    "\n",
    "# df['text prep'] = df['text'].apply(my_preprocessor)\n",
    "# df\n",
    "\n",
    "\n",
    "\n",
    "# in a first step I want to try my preprocessor --> it removes any special chars and lemmatizes the words"
   ]
  },
  {
   "cell_type": "code",
   "execution_count": 9,
   "metadata": {},
   "outputs": [
    {
     "data": {
      "text/plain": [
       "<500x7269 sparse matrix of type '<class 'numpy.int64'>'\n",
       "\twith 37356 stored elements in Compressed Sparse Row format>"
      ]
     },
     "execution_count": 9,
     "metadata": {},
     "output_type": "execute_result"
    }
   ],
   "source": [
    "count = CountVectorizer()\n",
    "bag = count.fit_transform(df['text'])\n",
    "bag  \n",
    "#still need to try to clean the data a bit"
   ]
  },
  {
   "cell_type": "code",
   "execution_count": 10,
   "metadata": {},
   "outputs": [],
   "source": [
    "# count.vocabulary_"
   ]
  },
  {
   "cell_type": "code",
   "execution_count": 11,
   "metadata": {},
   "outputs": [
    {
     "name": "stderr",
     "output_type": "stream",
     "text": [
      "C:\\Users\\Evi\\anaconda3.1\\lib\\site-packages\\sklearn\\feature_extraction\\text.py:383: UserWarning: Your stop_words may be inconsistent with your preprocessing. Tokenizing the stop words generated tokens ['ha', 'le', 'wa'] not in stop_words.\n",
      "  warnings.warn('Your stop_words may be inconsistent with '\n"
     ]
    },
    {
     "data": {
      "text/plain": [
       "<500x6449 sparse matrix of type '<class 'numpy.int64'>'\n",
       "\twith 28345 stored elements in Compressed Sparse Row format>"
      ]
     },
     "execution_count": 11,
     "metadata": {},
     "output_type": "execute_result"
    }
   ],
   "source": [
    "def my_preprocessor(text):\n",
    "    \n",
    "    text=text.lower() \n",
    "    text=re.sub(\"\\\\W\",\" \",text) # remove special chars\n",
    "    \n",
    "    # lemmatize words\n",
    "    words=re.split(\"\\\\s+\",text)\n",
    "    wordnet = nltk.WordNetLemmatizer()\n",
    "    lemmatized_words=[wordnet.lemmatize(t) for t in words] \n",
    "    #stemmed_words=[porter_stemmer.stem(word=word) for word in words]\n",
    "    return ' '.join(lemmatized_words)\n",
    "\n",
    "count = CountVectorizer(stop_words='english',preprocessor=my_preprocessor)\n",
    "bag = count.fit_transform(df['text'])\n",
    "bag\n",
    "\n",
    "##with preprocessor we got rid of almost 10k stored elements"
   ]
  },
  {
   "cell_type": "code",
   "execution_count": 12,
   "metadata": {},
   "outputs": [],
   "source": [
    "# count.vocabulary_"
   ]
  },
  {
   "cell_type": "code",
   "execution_count": 13,
   "metadata": {},
   "outputs": [],
   "source": [
    "X = df['text']\n",
    "y = df['Volatility']"
   ]
  },
  {
   "cell_type": "code",
   "execution_count": 14,
   "metadata": {},
   "outputs": [
    {
     "data": {
      "text/plain": [
       "(500, 10000)"
      ]
     },
     "execution_count": 14,
     "metadata": {},
     "output_type": "execute_result"
    }
   ],
   "source": [
    "tfidf = TfidfVectorizer(stop_words='english',ngram_range=(1, 2),preprocessor=my_preprocessor, max_features=10000)   #bigrams and unigrams\n",
    "X_bag = tfidf.fit_transform(X)\n",
    "X_bag.shape"
   ]
  },
  {
   "cell_type": "code",
   "execution_count": 31,
   "metadata": {},
   "outputs": [
    {
     "data": {
      "text/plain": [
       "((400, 10000), (100, 10000), (400,), (100,))"
      ]
     },
     "execution_count": 31,
     "metadata": {},
     "output_type": "execute_result"
    }
   ],
   "source": [
    "X_train, X_test, y_train, y_test = train_test_split(X_bag, y, test_size=0.2,random_state=1)\n",
    "\n",
    "X_train.shape, X_test.shape, y_train.shape, y_test.shape"
   ]
  },
  {
   "cell_type": "markdown",
   "metadata": {},
   "source": [
    "# Linear Regression"
   ]
  },
  {
   "cell_type": "code",
   "execution_count": 102,
   "metadata": {},
   "outputs": [
    {
     "data": {
      "text/plain": [
       "array([0.02190971, 0.0254293 , 0.01809457, 0.02146981, 0.01835392,\n",
       "       0.01760751, 0.0295616 , 0.01970777, 0.0195914 , 0.01688232,\n",
       "       0.02094748, 0.03278584, 0.02075034, 0.01723952, 0.01720777,\n",
       "       0.02454875, 0.01687936, 0.02245668, 0.02638129, 0.02145121,\n",
       "       0.02583519, 0.02059064, 0.02019377, 0.01568032, 0.02084924,\n",
       "       0.01651283, 0.01763112, 0.02025572, 0.02229775, 0.02214106,\n",
       "       0.02422392, 0.01920519, 0.01950923, 0.01885304, 0.01857753,\n",
       "       0.01582429, 0.02092015, 0.0174194 , 0.01590209, 0.0145131 ,\n",
       "       0.02246319, 0.02044782, 0.02298233, 0.01927364, 0.0211455 ,\n",
       "       0.02309267, 0.0277521 , 0.01789653, 0.01748042, 0.02222919,\n",
       "       0.02223756, 0.01931365, 0.02169127, 0.01717638, 0.01389002,\n",
       "       0.01688382, 0.01421861, 0.01861913, 0.02105536, 0.01995386,\n",
       "       0.02861624, 0.01961314, 0.01787353, 0.01875654, 0.01953862,\n",
       "       0.02226166, 0.02065102, 0.03494039, 0.01957842, 0.01742844,\n",
       "       0.01505663, 0.01894062, 0.01674656, 0.0180564 , 0.0185001 ,\n",
       "       0.02021758, 0.01964942, 0.02165804, 0.01779498, 0.01997754,\n",
       "       0.01631756, 0.01733031, 0.01867315, 0.01653207, 0.01839152,\n",
       "       0.01714956, 0.01761382, 0.01768667, 0.0255537 , 0.01912532,\n",
       "       0.02516791, 0.01463737, 0.02406572, 0.02441488, 0.01822384,\n",
       "       0.01672207, 0.01938736, 0.0210941 , 0.01830102, 0.02180523])"
      ]
     },
     "execution_count": 102,
     "metadata": {},
     "output_type": "execute_result"
    }
   ],
   "source": [
    "model = linear_model.LinearRegression()\n",
    "scoring = make_scorer(r2_score)\n",
    "parameters = {'fit_intercept':[True,False], 'normalize':[True,False], 'copy_X':[True, False]}\n",
    "grid_linear = GridSearchCV(model,parameters,scoring=scoring, cv=None)\n",
    "grid_linear.fit(X_train, y_train)\n",
    "\n",
    "grid_linear.best_params_\n",
    "\n",
    "\n",
    "result = grid_linear.cv_results_\n",
    "\n",
    "score=r2_score(y_test, grid_linear.best_estimator_.predict(X_test))\n",
    "\n",
    "y_pred_linear=grid_linear.best_estimator_.predict(X_test)\n",
    "y_pred_linear\n",
    "\n"
   ]
  },
  {
   "cell_type": "code",
   "execution_count": 107,
   "metadata": {},
   "outputs": [
    {
     "name": "stdout",
     "output_type": "stream",
     "text": [
      "Best Hyperparameters::\n",
      "{'copy_X': True, 'fit_intercept': True, 'normalize': False}\n",
      "Mean Absolute Error: 0.0039790229865631875\n",
      "Mean Squared Error: 3.0807505534053494e-05\n",
      "R2 score: 0.46919099419000987\n"
     ]
    }
   ],
   "source": [
    "print(\"Best Hyperparameters::\\n{}\".format(grid_linear.best_params_))\n",
    "print('Mean Absolute Error:', metrics.mean_absolute_error(y_test, y_pred_linear))\n",
    "print('Mean Squared Error:', metrics.mean_squared_error(y_test, y_pred_linear))\n",
    "print('R2 score:',score)\n"
   ]
  },
  {
   "cell_type": "markdown",
   "metadata": {},
   "source": [
    "# Regression Tree"
   ]
  },
  {
   "cell_type": "code",
   "execution_count": 97,
   "metadata": {},
   "outputs": [],
   "source": [
    "\n",
    "# tree_reg = DecisionTreeRegressor(max_depth=3, random_state=42)\n",
    "# tree_reg.fit(X_train, y_train)\n",
    "# fig, ax = plt.subplots(figsize=(10, 10))\n",
    "# plot_tree(tree_reg, filled = True, ax=ax)\n",
    "# #plt.show()\n",
    "# y_pred = tree_reg.predict(X_test)\n",
    "\n"
   ]
  },
  {
   "cell_type": "code",
   "execution_count": null,
   "metadata": {},
   "outputs": [],
   "source": [
    "param_grid = {\"criterion\": [\"mse\", \"mae\"],\n",
    "              \"min_samples_split\": range(2, 1000),\n",
    "              \"max_depth\": range(2, 1000),\n",
    "              \"min_samples_leaf\": range(2, 1000),\n",
    "            \n",
    "              }"
   ]
  },
  {
   "cell_type": "code",
   "execution_count": 113,
   "metadata": {},
   "outputs": [
    {
     "data": {
      "text/plain": [
       "array([0.01538978, 0.02682101, 0.01538978, 0.01936714, 0.01936714,\n",
       "       0.01936714, 0.04061674, 0.01936714, 0.01538978, 0.01936714,\n",
       "       0.01936714, 0.02682101, 0.01936714, 0.01538978, 0.01936714,\n",
       "       0.01936714, 0.01936714, 0.01936714, 0.02682101, 0.01936714,\n",
       "       0.01936714, 0.01936714, 0.01936714, 0.01570943, 0.01936714,\n",
       "       0.01936714, 0.01936714, 0.01936714, 0.01936714, 0.02682101,\n",
       "       0.01936714, 0.01936714, 0.01936714, 0.01936714, 0.01936714,\n",
       "       0.01538978, 0.01936714, 0.01570943, 0.01936714, 0.01538978,\n",
       "       0.01936714, 0.01936714, 0.03120793, 0.01936714, 0.01936714,\n",
       "       0.01936714, 0.02682101, 0.01936714, 0.01936714, 0.01936714,\n",
       "       0.01936714, 0.01936714, 0.01936714, 0.01538978, 0.01538978,\n",
       "       0.01936714, 0.01570943, 0.01936714, 0.01936714, 0.01936714,\n",
       "       0.02682101, 0.01936714, 0.01936714, 0.01936714, 0.01936714,\n",
       "       0.01936714, 0.01936714, 0.03576604, 0.01936714, 0.01570943,\n",
       "       0.01936714, 0.01936714, 0.03120793, 0.01936714, 0.01936714,\n",
       "       0.01936714, 0.01538978, 0.01570943, 0.01936714, 0.01538978,\n",
       "       0.01936714, 0.01936714, 0.01936714, 0.01936714, 0.02682101,\n",
       "       0.01936714, 0.01936714, 0.01538978, 0.03576604, 0.01936714,\n",
       "       0.01936714, 0.01570943, 0.03576604, 0.01936714, 0.01936714,\n",
       "       0.01936714, 0.01936714, 0.01936714, 0.01936714, 0.01936714])"
      ]
     },
     "execution_count": 113,
     "metadata": {},
     "output_type": "execute_result"
    }
   ],
   "source": [
    "\n",
    "\n",
    "scoring = make_scorer(r2_score)\n",
    "grid_decisiontree = GridSearchCV(DecisionTreeRegressor(random_state=0), param_grid={\"min_samples_split\": range(2, 10000)}, scoring=scoring, cv=None, refit=True)\n",
    "\n",
    "grid_decisiontree.fit(X_train, y_train)\n",
    "grid_decisiontree.best_params_\n",
    "\n",
    "\n",
    "result = grid_decisiontree.cv_results_\n",
    "\n",
    "score=r2_score(y_test, grid_decisiontree.best_estimator_.predict(X_test))\n",
    "\n",
    "y_pred=grid_decisiontree.best_estimator_.predict(X_test)\n",
    "y_pred\n",
    "\n",
    "#B. In this next section, using cross-validation for performing GridSerach on the parameter 'min_samples_split', \n",
    "#then using the best estimator for scoring on the valiation/holdout set. "
   ]
  },
  {
   "cell_type": "code",
   "execution_count": 114,
   "metadata": {},
   "outputs": [
    {
     "name": "stdout",
     "output_type": "stream",
     "text": [
      "Best Hyperparameters::\n",
      "{'min_samples_split': 321}\n",
      "Mean Absolute Error: 0.004915088875069484\n",
      "Mean Squared Error: 4.337804885271514e-05\n",
      "R2 score: 0.25260229329390516\n"
     ]
    }
   ],
   "source": [
    "\n",
    "print(\"Best Hyperparameters::\\n{}\".format(grid_decisiontree.best_params_))\n",
    "print('Mean Absolute Error:', metrics.mean_absolute_error(y_test, y_pred))\n",
    "print('Mean Squared Error:', metrics.mean_squared_error(y_test, y_pred))\n",
    "print('R2 score:',score)"
   ]
  },
  {
   "cell_type": "code",
   "execution_count": 115,
   "metadata": {},
   "outputs": [
    {
     "data": {
      "text/plain": [
       "array([0.01887348, 0.02175636, 0.01887348, 0.01887348, 0.01887348,\n",
       "       0.01887348, 0.04488002, 0.01887348, 0.01887348, 0.01887348,\n",
       "       0.01887348, 0.04069517, 0.01887348, 0.01887348, 0.01887348,\n",
       "       0.01887348, 0.01887348, 0.01887348, 0.0302664 , 0.01887348,\n",
       "       0.01887348, 0.01887348, 0.01887348, 0.01887348, 0.01887348,\n",
       "       0.01887348, 0.01887348, 0.01887348, 0.01887348, 0.0302664 ,\n",
       "       0.01887348, 0.01887348, 0.01887348, 0.01887348, 0.01887348,\n",
       "       0.01887348, 0.01887348, 0.01887348, 0.01887348, 0.01887348,\n",
       "       0.01887348, 0.01887348, 0.03419918, 0.01887348, 0.01887348,\n",
       "       0.01887348, 0.02175636, 0.01887348, 0.01887348, 0.01887348,\n",
       "       0.01887348, 0.01887348, 0.01887348, 0.01887348, 0.01887348,\n",
       "       0.01887348, 0.01887348, 0.01887348, 0.01887348, 0.01887348,\n",
       "       0.0302664 , 0.01887348, 0.01887348, 0.01887348, 0.01887348,\n",
       "       0.01887348, 0.01887348, 0.03519727, 0.01887348, 0.01887348,\n",
       "       0.01887348, 0.01887348, 0.03419918, 0.01887348, 0.01887348,\n",
       "       0.01887348, 0.01887348, 0.01887348, 0.01887348, 0.01887348,\n",
       "       0.01887348, 0.01887348, 0.01887348, 0.01887348, 0.0302664 ,\n",
       "       0.01887348, 0.01887348, 0.01887348, 0.03416608, 0.01887348,\n",
       "       0.01887348, 0.01887348, 0.03519727, 0.01887348, 0.01887348,\n",
       "       0.01887348, 0.01887348, 0.01887348, 0.01887348, 0.01887348])"
      ]
     },
     "execution_count": 115,
     "metadata": {},
     "output_type": "execute_result"
    }
   ],
   "source": [
    "\n",
    "\n",
    "scoring = make_scorer(r2_score)\n",
    "grid_decisiontree1 = GridSearchCV(DecisionTreeRegressor(random_state=0), param_grid={\"max_depth\": range(2, 1000)}, scoring=scoring, cv=None, refit=True)\n",
    "\n",
    "grid_decisiontree1.fit(X_train, y_train)\n",
    "grid_decisiontree1.best_params_\n",
    "\n",
    "result = grid_decisiontree1.cv_results_\n",
    "\n",
    "score1=r2_score(y_test, grid_decisiontree1.best_estimator_.predict(X_test))\n",
    "y_pred1=grid_decisiontree1.best_estimator_.predict(X_test)\n",
    "y_pred1"
   ]
  },
  {
   "cell_type": "code",
   "execution_count": 116,
   "metadata": {},
   "outputs": [
    {
     "name": "stdout",
     "output_type": "stream",
     "text": [
      "Best Hyperparameters::\n",
      "{'max_depth': 5}\n",
      "Mean Absolute Error: 0.005274906075629513\n",
      "Mean Squared Error: 4.8782436893966935e-05\n",
      "0.25260229329390516\n"
     ]
    }
   ],
   "source": [
    "\n",
    "print(\"Best Hyperparameters::\\n{}\".format(grid_decisiontree1.best_params_))\n",
    "print('Mean Absolute Error:', metrics.mean_absolute_error(y_test, y_pred1))\n",
    "print('Mean Squared Error:', metrics.mean_squared_error(y_test, y_pred1))\n",
    "print(score)"
   ]
  },
  {
   "cell_type": "code",
   "execution_count": 117,
   "metadata": {},
   "outputs": [
    {
     "data": {
      "text/plain": [
       "array([0.01887348, 0.02175636, 0.01887348, 0.01887348, 0.01887348,\n",
       "       0.01887348, 0.04488002, 0.01887348, 0.01887348, 0.01887348,\n",
       "       0.01887348, 0.04069517, 0.01887348, 0.01887348, 0.01887348,\n",
       "       0.01887348, 0.01887348, 0.01887348, 0.0302664 , 0.01887348,\n",
       "       0.01887348, 0.01887348, 0.01887348, 0.01887348, 0.01887348,\n",
       "       0.01887348, 0.01887348, 0.01887348, 0.01887348, 0.0302664 ,\n",
       "       0.01887348, 0.01887348, 0.01887348, 0.01887348, 0.01887348,\n",
       "       0.01887348, 0.01887348, 0.01887348, 0.01887348, 0.01887348,\n",
       "       0.01887348, 0.01887348, 0.03419918, 0.01887348, 0.01887348,\n",
       "       0.01887348, 0.02175636, 0.01887348, 0.01887348, 0.01887348,\n",
       "       0.01887348, 0.01887348, 0.01887348, 0.01887348, 0.01887348,\n",
       "       0.01887348, 0.01887348, 0.01887348, 0.01887348, 0.01887348,\n",
       "       0.0302664 , 0.01887348, 0.01887348, 0.01887348, 0.01887348,\n",
       "       0.01887348, 0.01887348, 0.03519727, 0.01887348, 0.01887348,\n",
       "       0.01887348, 0.01887348, 0.03419918, 0.01887348, 0.01887348,\n",
       "       0.01887348, 0.01887348, 0.01887348, 0.01887348, 0.01887348,\n",
       "       0.01887348, 0.01887348, 0.01887348, 0.01887348, 0.0302664 ,\n",
       "       0.01887348, 0.01887348, 0.01887348, 0.03416608, 0.01887348,\n",
       "       0.01887348, 0.01887348, 0.03519727, 0.01887348, 0.01887348,\n",
       "       0.01887348, 0.01887348, 0.01887348, 0.01887348, 0.01887348])"
      ]
     },
     "execution_count": 117,
     "metadata": {},
     "output_type": "execute_result"
    }
   ],
   "source": [
    "\n",
    "\n",
    "scoring = make_scorer(r2_score)\n",
    "grid_decisiontree2 = GridSearchCV(DecisionTreeRegressor(random_state=0), param_grid={'max_features': ['auto', 'log2','sqrt']}, scoring=scoring, cv=None, refit=True)\n",
    "\n",
    "grid_decisiontree2.fit(X_train, y_train)\n",
    "grid_decisiontree2.best_params_\n",
    "\n",
    "result = grid_decisiontree1.cv_results_\n",
    "\n",
    "score2=r2_score(y_test, grid_decisiontree2.best_estimator_.predict(X_test))\n",
    "y_pred2=grid_decisiontree1.best_estimator_.predict(X_test)\n",
    "y_pred2"
   ]
  },
  {
   "cell_type": "code",
   "execution_count": 118,
   "metadata": {},
   "outputs": [
    {
     "name": "stdout",
     "output_type": "stream",
     "text": [
      "Best Hyperparameters::\n",
      "{'max_features': 'sqrt'}\n",
      "Mean Absolute Error: 0.005274906075629513\n",
      "Mean Squared Error: 4.8782436893966935e-05\n",
      "-0.329050098066207\n"
     ]
    }
   ],
   "source": [
    "print(\"Best Hyperparameters::\\n{}\".format(grid_decisiontree2.best_params_))\n",
    "print('Mean Absolute Error:', metrics.mean_absolute_error(y_test, y_pred2))\n",
    "print('Mean Squared Error:', metrics.mean_squared_error(y_test, y_pred2))\n",
    "print(score2)"
   ]
  },
  {
   "cell_type": "code",
   "execution_count": null,
   "metadata": {},
   "outputs": [],
   "source": []
  },
  {
   "cell_type": "code",
   "execution_count": 17,
   "metadata": {},
   "outputs": [
    {
     "data": {
      "text/plain": [
       "(400, 10000)"
      ]
     },
     "execution_count": 17,
     "metadata": {},
     "output_type": "execute_result"
    }
   ],
   "source": [
    "X_train_keras = X_train.toarray()\n",
    "X_train_keras.shape"
   ]
  },
  {
   "cell_type": "code",
   "execution_count": 18,
   "metadata": {},
   "outputs": [
    {
     "name": "stdout",
     "output_type": "stream",
     "text": [
      "Epoch 1/8\n",
      "12/12 [==============================] - 1s 35ms/step - loss: 1.9587e-04 - accuracy: 0.0000e+00 - val_loss: 6.5144e-05 - val_accuracy: 0.0000e+00\n",
      "WARNING:tensorflow:Early stopping conditioned on metric `acc` which is not available. Available metrics are: loss,accuracy,val_loss,val_accuracy\n",
      "Epoch 2/8\n",
      "12/12 [==============================] - 0s 17ms/step - loss: 5.9218e-05 - accuracy: 0.0000e+00 - val_loss: 5.7868e-05 - val_accuracy: 0.0000e+00\n",
      "WARNING:tensorflow:Early stopping conditioned on metric `acc` which is not available. Available metrics are: loss,accuracy,val_loss,val_accuracy\n",
      "Epoch 3/8\n",
      "12/12 [==============================] - 0s 16ms/step - loss: 3.7695e-05 - accuracy: 0.0000e+00 - val_loss: 6.6437e-05 - val_accuracy: 0.0000e+00\n",
      "WARNING:tensorflow:Early stopping conditioned on metric `acc` which is not available. Available metrics are: loss,accuracy,val_loss,val_accuracy\n",
      "Epoch 4/8\n",
      "12/12 [==============================] - 0s 19ms/step - loss: 3.0339e-05 - accuracy: 0.0000e+00 - val_loss: 5.5145e-05 - val_accuracy: 0.0000e+00\n",
      "WARNING:tensorflow:Early stopping conditioned on metric `acc` which is not available. Available metrics are: loss,accuracy,val_loss,val_accuracy\n",
      "Epoch 5/8\n",
      "12/12 [==============================] - 0s 19ms/step - loss: 2.5921e-05 - accuracy: 0.0000e+00 - val_loss: 5.4094e-05 - val_accuracy: 0.0000e+00\n",
      "WARNING:tensorflow:Early stopping conditioned on metric `acc` which is not available. Available metrics are: loss,accuracy,val_loss,val_accuracy\n",
      "Epoch 6/8\n",
      "12/12 [==============================] - 0s 16ms/step - loss: 2.0785e-05 - accuracy: 0.0000e+00 - val_loss: 5.3354e-05 - val_accuracy: 0.0000e+00\n",
      "WARNING:tensorflow:Early stopping conditioned on metric `acc` which is not available. Available metrics are: loss,accuracy,val_loss,val_accuracy\n",
      "Epoch 7/8\n",
      "12/12 [==============================] - 0s 17ms/step - loss: 1.6378e-05 - accuracy: 0.0000e+00 - val_loss: 5.1433e-05 - val_accuracy: 0.0000e+00\n",
      "WARNING:tensorflow:Early stopping conditioned on metric `acc` which is not available. Available metrics are: loss,accuracy,val_loss,val_accuracy\n",
      "Epoch 8/8\n",
      "12/12 [==============================] - 0s 17ms/step - loss: 1.2352e-05 - accuracy: 0.0000e+00 - val_loss: 5.1581e-05 - val_accuracy: 0.0000e+00\n",
      "WARNING:tensorflow:Early stopping conditioned on metric `acc` which is not available. Available metrics are: loss,accuracy,val_loss,val_accuracy\n"
     ]
    }
   ],
   "source": [
    "callbacks_list = [\n",
    "keras.callbacks.EarlyStopping(monitor='acc', patience=1,),\n",
    "keras.callbacks.ModelCheckpoint(filepath='my_model.h5', monitor='val_loss', save_best_only=True,)\n",
    "]\n",
    "\n",
    "\n",
    "text_input =  Input(shape= (X_train.shape[1],), dtype='float64')\n",
    "x = layers.Flatten()(text_input)\n",
    "x = layers.Dense(8, activation='relu')(x)\n",
    "x = layers.Dense(8, activation='relu')(x)\n",
    "x = layers.Dense(8, activation='relu')(x)\n",
    "x = layers.Dense(8, activation='relu')(x)\n",
    "output = layers.Dense(1)(x)\n",
    "\n",
    "model = Model(text_input, output)\n",
    "model.compile(optimizer='adam',\n",
    "loss='mean_squared_error',\n",
    "metrics=['accuracy'])\n",
    "\n",
    "\n",
    "history = model.fit(X_train_keras, y_train, epochs=8, callbacks=callbacks_list, validation_split=0.1)"
   ]
  },
  {
   "cell_type": "code",
   "execution_count": 19,
   "metadata": {},
   "outputs": [
    {
     "data": {
      "image/png": "[encoded data removed]",
      "text/plain": [
       "<Figure size 432x288 with 1 Axes>"
      ]
     },
     "metadata": {
      "needs_background": "light"
     },
     "output_type": "display_data"
    }
   ],
   "source": [
    "loss = history.history['loss']\n",
    "val_loss = history.history['val_loss']\n",
    "epochs = range(1, len(loss) + 1)\n",
    "plt.figure()\n",
    "plt.plot(epochs, loss, 'bo', label='Training loss')\n",
    "plt.plot(epochs, val_loss, 'b', label='Validation loss')\n",
    "plt.title('Training and validation loss')\n",
    "plt.legend()\n",
    "plt.show()"
   ]
  },
  {
   "cell_type": "code",
   "execution_count": 20,
   "metadata": {},
   "outputs": [
    {
     "name": "stdout",
     "output_type": "stream",
     "text": [
      "[[0.02236766]\n",
      " [0.02182538]\n",
      " [0.01739479]\n",
      " [0.0163129 ]\n",
      " [0.01617541]] \n",
      "\n",
      "304    0.010336\n",
      "340    0.038552\n",
      "47     0.014366\n",
      "67     0.045281\n",
      "479    0.016811\n",
      "Name: Volatility, dtype: float64\n"
     ]
    }
   ],
   "source": [
    "print(model.predict(X_test.toarray())[:5],\"\\n\")\n",
    "print(y_test[:5])"
   ]
  },
  {
   "cell_type": "code",
   "execution_count": null,
   "metadata": {},
   "outputs": [],
   "source": []
  },
  {
   "cell_type": "code",
   "execution_count": null,
   "metadata": {},
   "outputs": [],
   "source": []
  },
  {
   "cell_type": "code",
   "execution_count": null,
   "metadata": {},
   "outputs": [],
   "source": []
  },
  {
   "cell_type": "code",
   "execution_count": null,
   "metadata": {},
   "outputs": [],
   "source": []
  },
  {
   "cell_type": "code",
   "execution_count": null,
   "metadata": {},
   "outputs": [],
   "source": [
    " "
   ]
  }
 ],
 "metadata": {
  "kernelspec": {
   "display_name": "Python 3",
   "language": "python",
   "name": "python3"
  },
  "language_info": {
   "codemirror_mode": {
    "name": "ipython",
    "version": 3
   },
   "file_extension": ".py",
   "mimetype": "text/x-python",
   "name": "python",
   "nbconvert_exporter": "python",
   "pygments_lexer": "ipython3",
   "version": "3.8.5"
  }
 },
 "nbformat": 4,
 "nbformat_minor": 4
}
