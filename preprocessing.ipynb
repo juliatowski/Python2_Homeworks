{
 "cells": [
  {
   "cell_type": "code",
   "execution_count": 29,
   "source": [
    "from sklearn import datasets\r\n",
    "from sklearn.linear_model import Perceptron\r\n",
    "\r\n",
    "from sklearn.model_selection import train_test_split\r\n",
    "from sklearn.preprocessing import StandardScaler\r\n",
    "from sklearn.metrics import confusion_matrix\r\n",
    "\r\n",
    "import numpy as np\r\n",
    "from matplotlib.colors import ListedColormap\r\n",
    "import matplotlib.pyplot as plt\r\n",
    "import pandas as pd\r\n",
    "import re\r\n",
    "\r\n",
    "\r\n",
    "%matplotlib inline\r\n",
    "from sklearn.tree import DecisionTreeClassifier, DecisionTreeRegressor, plot_tree\r\n",
    "from sklearn.feature_extraction.text import CountVectorizer\r\n",
    "from sklearn.feature_extraction.text import TfidfVectorizer\r\n",
    "\r\n",
    "import nltk\r\n",
    "from nltk.corpus import reuters\r\n",
    "from nltk.corpus import stopwords\r\n",
    "from nltk import word_tokenize\r\n",
    "import re\r\n",
    "import string\r\n",
    "\r\n",
    "import keras\r\n",
    "from keras.models import Model\r\n",
    "from keras.preprocessing.text import Tokenizer\r\n",
    "from keras.preprocessing.sequence import pad_sequences\r\n",
    "from keras import layers\r\n",
    "from keras import Input\r\n",
    "from keras.models import load_model"
   ],
   "outputs": [],
   "metadata": {}
  },
  {
   "cell_type": "code",
   "execution_count": null,
   "source": [
    "nltk.download('punkt')\r\n",
    "nltk.download('stopwords')\r\n",
    "nltk.download('wordnet')"
   ],
   "outputs": [
    {
     "output_type": "stream",
     "name": "stderr",
     "text": [
      "[nltk_data] Downloading package punkt to\n",
      "[nltk_data]     C:\\Users\\Fabian\\AppData\\Roaming\\nltk_data...\n",
      "[nltk_data]   Package punkt is already up-to-date!\n",
      "[nltk_data] Downloading package stopwords to\n",
      "[nltk_data]     C:\\Users\\Fabian\\AppData\\Roaming\\nltk_data...\n",
      "[nltk_data]   Package stopwords is already up-to-date!\n",
      "[nltk_data] Downloading package wordnet to\n",
      "[nltk_data]     C:\\Users\\Fabian\\AppData\\Roaming\\nltk_data...\n",
      "[nltk_data]   Package wordnet is already up-to-date!\n"
     ]
    },
    {
     "output_type": "execute_result",
     "data": {
      "text/plain": [
       "True"
      ]
     },
     "metadata": {},
     "execution_count": 3
    }
   ],
   "metadata": {}
  },
  {
   "cell_type": "code",
   "execution_count": null,
   "source": [
    "df = pd.read_csv(\"final_data.csv\")\r\n",
    "text=df['text'] \r\n",
    "pd.options.display.max_colwidth=500\r\n",
    "df"
   ],
   "outputs": [
    {
     "output_type": "execute_result",
     "data": {
      "text/plain": [
       "    Symbol  \\\n",
       "0      MMM   \n",
       "1      ABT   \n",
       "2     ABBV   \n",
       "3     ABMD   \n",
       "4      ACN   \n",
       "..     ...   \n",
       "495    YUM   \n",
       "496   ZBRA   \n",
       "497    ZBH   \n",
       "498   ZION   \n",
       "499    ZTS   \n",
       "\n",
       "                                                                                                                                                                                                                                                                                                                                                                                                                                                                                                                    text  \\\n",
       "0    About 3M Co3M Co is a technology company. The Company operates through four segments: Safety and Industrial, Transportation and Electronics, Health Care and Consumer. Safety and Industrial segment consist of abrasives, automotive aftermarket, closure and masking systems, communication markets, electrical markets, industrial adhesives and tapes, personal safety, roofing granules and other safety and industrial. Transportation and Electronics segment consists of advanced materials, automotive ...   \n",
       "1    About Abbott LaboratoriesAbbott Laboratories (Abbott) is engaged in the discovery, development, manufacture, and sale of a diversified line of health care products. The Company operates through four segments: Established Pharmaceutical Products, Diagnostic Products, Nutritional Products, and Medical Devices. The Company focuses on cardiovascular, diabetes care, diagnostics, neuromodulation, nutrition and medicine. It offers products, including FreeStyle, PediaSure, Pedialyte, Similac, EleCar...   \n",
       "2    About AbbVie IncAbbVie Inc. (AbbVie) is a research-based biopharmaceutical company. The Company is engaged in research and development, manufacturing, commercialization and sale of medicines and therapies. AbbVie offers its products in various therapeutic categories, including Immunology products, which include Humira, Skyrizi and Rinvoq; Oncology products consists of Imbruvica and Venclexta; Aesthetics products include Botox Cosmetic, Juvederm Collection and other aesthetics; Neuroscience p...   \n",
       "3    About ABIOMED, Inc.ABIOMED, Inc. is a provider of temporary percutaneous mechanical circulatory support devices. The Company offers care to heart failure patients. The Company operates in the segment of the research, development and sale of medical devices to assist or replace the pumping function of the failing heart. The Company develops, manufactures and markets products that are designed to enable the heart to rest, heal and recover by improving blood flow to the coronary arteries and en...   \n",
       "4    About Accenture PlcAccenture plc is a professional services company. It provides management and technology consulting services. Its segments include Communications, Media and Technology; Financial Services; Health and Public Service; Products, and Resources. The Communications, Media & Technology segment serves communications, electronics, technology, media and entertainment industries. The Financial Services segment serves banking, capital markets and insurance industries. The Health & Publ...   \n",
       "..                                                                                                                                                                                                                                                                                                                                                                                                                                                                                                                   ...   \n",
       "495  About Yum! Brands, Inc.YUM! Brands, Inc. is engaged in restaurant business. The Company operates or franchised over 50,000 restaurants in more than 150 countries and territories operating under the KFC, Pizza Hut or Taco Bell (collectively the Concepts) brands. The Company operates through three segments: The KFC Division, which includes the operations of the KFC concept around the world; The Pizza Hut Division, which includes the operations of the Pizza Hut concept around the world, and The...   \n",
       "496  About Zebra Technologies Corp.Zebra Technologies Corporation designs, manufactures and sells a range of automatic identification and data capture (AIDC) products. The Company's AIDC products include mobile computers, barcode scanners, radio frequency identification devices readers, specialty printers for barcode labeling and personal identification, real-time location systems, related accessories and supplies, such as self-adhesive labels and other consumables, and software utilities and app...   \n",
       "497  About Zimmer Biomet Holdings IncZimmer Biomet Holdings, Inc. is engaged in designing, manufacturing and marketing of orthopedic reconstructive products; sports medicine, biologics, extremities and trauma products; office-based technologies; spine, craniomaxillofacial and thoracic products; dental implants, and related surgical products. The Company's products and solutions help treat patients suffering from disorders of, or injuries to, bones, joints or supporting soft tissues. The Company m...   \n",
       "498  About Zions Bancorporation NAZions Bancorporation, National Association is a financial holding company. The Company conducts its banking operations through separately managed and branded segments, including Zions Bank, Amegy Bank, California Bank & Trust, National Bank of Arizona, Nevada State Bank (NSB), Vectra Bank Colorado, The Commerce Bank of Washington (TCBW) and Other. It focuses on providing community banking services through its business lines, including small and medium-sized busin...   \n",
       "499  About Zoetis IncZoetis Inc. is engaged in the discovery, development, manufacture and commercialization of animal health medicines and vaccines, with a focus on both livestock and companion animals. The Company has a business, commercializing products across eight core species: cattle, swine, poultry, sheep and fish (collectively, livestock) and dogs, cats and horses (collectively, companion animals), and within five product categories: anti-infectives, vaccines, parasiticides, medicated fee...   \n",
       "\n",
       "     Volatility  \n",
       "0      0.013422  \n",
       "1      0.015707  \n",
       "2      0.014242  \n",
       "3      0.022429  \n",
       "4      0.013775  \n",
       "..          ...  \n",
       "495    0.012367  \n",
       "496    0.019611  \n",
       "497    0.017338  \n",
       "498    0.030188  \n",
       "499    0.013904  \n",
       "\n",
       "[500 rows x 3 columns]"
      ],
      "text/html": [
       "<div>\n",
       "<style scoped>\n",
       "    .dataframe tbody tr th:only-of-type {\n",
       "        vertical-align: middle;\n",
       "    }\n",
       "\n",
       "    .dataframe tbody tr th {\n",
       "        vertical-align: top;\n",
       "    }\n",
       "\n",
       "    .dataframe thead th {\n",
       "        text-align: right;\n",
       "    }\n",
       "</style>\n",
       "<table border=\"1\" class=\"dataframe\">\n",
       "  <thead>\n",
       "    <tr style=\"text-align: right;\">\n",
       "      <th></th>\n",
       "      <th>Symbol</th>\n",
       "      <th>text</th>\n",
       "      <th>Volatility</th>\n",
       "    </tr>\n",
       "  </thead>\n",
       "  <tbody>\n",
       "    <tr>\n",
       "      <th>0</th>\n",
       "      <td>MMM</td>\n",
       "      <td>About 3M Co3M Co is a technology company. The Company operates through four segments: Safety and Industrial, Transportation and Electronics, Health Care and Consumer. Safety and Industrial segment consist of abrasives, automotive aftermarket, closure and masking systems, communication markets, electrical markets, industrial adhesives and tapes, personal safety, roofing granules and other safety and industrial. Transportation and Electronics segment consists of advanced materials, automotive ...</td>\n",
       "      <td>0.013422</td>\n",
       "    </tr>\n",
       "    <tr>\n",
       "      <th>1</th>\n",
       "      <td>ABT</td>\n",
       "      <td>About Abbott LaboratoriesAbbott Laboratories (Abbott) is engaged in the discovery, development, manufacture, and sale of a diversified line of health care products. The Company operates through four segments: Established Pharmaceutical Products, Diagnostic Products, Nutritional Products, and Medical Devices. The Company focuses on cardiovascular, diabetes care, diagnostics, neuromodulation, nutrition and medicine. It offers products, including FreeStyle, PediaSure, Pedialyte, Similac, EleCar...</td>\n",
       "      <td>0.015707</td>\n",
       "    </tr>\n",
       "    <tr>\n",
       "      <th>2</th>\n",
       "      <td>ABBV</td>\n",
       "      <td>About AbbVie IncAbbVie Inc. (AbbVie) is a research-based biopharmaceutical company. The Company is engaged in research and development, manufacturing, commercialization and sale of medicines and therapies. AbbVie offers its products in various therapeutic categories, including Immunology products, which include Humira, Skyrizi and Rinvoq; Oncology products consists of Imbruvica and Venclexta; Aesthetics products include Botox Cosmetic, Juvederm Collection and other aesthetics; Neuroscience p...</td>\n",
       "      <td>0.014242</td>\n",
       "    </tr>\n",
       "    <tr>\n",
       "      <th>3</th>\n",
       "      <td>ABMD</td>\n",
       "      <td>About ABIOMED, Inc.ABIOMED, Inc. is a provider of temporary percutaneous mechanical circulatory support devices. The Company offers care to heart failure patients. The Company operates in the segment of the research, development and sale of medical devices to assist or replace the pumping function of the failing heart. The Company develops, manufactures and markets products that are designed to enable the heart to rest, heal and recover by improving blood flow to the coronary arteries and en...</td>\n",
       "      <td>0.022429</td>\n",
       "    </tr>\n",
       "    <tr>\n",
       "      <th>4</th>\n",
       "      <td>ACN</td>\n",
       "      <td>About Accenture PlcAccenture plc is a professional services company. It provides management and technology consulting services. Its segments include Communications, Media and Technology; Financial Services; Health and Public Service; Products, and Resources. The Communications, Media &amp; Technology segment serves communications, electronics, technology, media and entertainment industries. The Financial Services segment serves banking, capital markets and insurance industries. The Health &amp; Publ...</td>\n",
       "      <td>0.013775</td>\n",
       "    </tr>\n",
       "    <tr>\n",
       "      <th>...</th>\n",
       "      <td>...</td>\n",
       "      <td>...</td>\n",
       "      <td>...</td>\n",
       "    </tr>\n",
       "    <tr>\n",
       "      <th>495</th>\n",
       "      <td>YUM</td>\n",
       "      <td>About Yum! Brands, Inc.YUM! Brands, Inc. is engaged in restaurant business. The Company operates or franchised over 50,000 restaurants in more than 150 countries and territories operating under the KFC, Pizza Hut or Taco Bell (collectively the Concepts) brands. The Company operates through three segments: The KFC Division, which includes the operations of the KFC concept around the world; The Pizza Hut Division, which includes the operations of the Pizza Hut concept around the world, and The...</td>\n",
       "      <td>0.012367</td>\n",
       "    </tr>\n",
       "    <tr>\n",
       "      <th>496</th>\n",
       "      <td>ZBRA</td>\n",
       "      <td>About Zebra Technologies Corp.Zebra Technologies Corporation designs, manufactures and sells a range of automatic identification and data capture (AIDC) products. The Company's AIDC products include mobile computers, barcode scanners, radio frequency identification devices readers, specialty printers for barcode labeling and personal identification, real-time location systems, related accessories and supplies, such as self-adhesive labels and other consumables, and software utilities and app...</td>\n",
       "      <td>0.019611</td>\n",
       "    </tr>\n",
       "    <tr>\n",
       "      <th>497</th>\n",
       "      <td>ZBH</td>\n",
       "      <td>About Zimmer Biomet Holdings IncZimmer Biomet Holdings, Inc. is engaged in designing, manufacturing and marketing of orthopedic reconstructive products; sports medicine, biologics, extremities and trauma products; office-based technologies; spine, craniomaxillofacial and thoracic products; dental implants, and related surgical products. The Company's products and solutions help treat patients suffering from disorders of, or injuries to, bones, joints or supporting soft tissues. The Company m...</td>\n",
       "      <td>0.017338</td>\n",
       "    </tr>\n",
       "    <tr>\n",
       "      <th>498</th>\n",
       "      <td>ZION</td>\n",
       "      <td>About Zions Bancorporation NAZions Bancorporation, National Association is a financial holding company. The Company conducts its banking operations through separately managed and branded segments, including Zions Bank, Amegy Bank, California Bank &amp; Trust, National Bank of Arizona, Nevada State Bank (NSB), Vectra Bank Colorado, The Commerce Bank of Washington (TCBW) and Other. It focuses on providing community banking services through its business lines, including small and medium-sized busin...</td>\n",
       "      <td>0.030188</td>\n",
       "    </tr>\n",
       "    <tr>\n",
       "      <th>499</th>\n",
       "      <td>ZTS</td>\n",
       "      <td>About Zoetis IncZoetis Inc. is engaged in the discovery, development, manufacture and commercialization of animal health medicines and vaccines, with a focus on both livestock and companion animals. The Company has a business, commercializing products across eight core species: cattle, swine, poultry, sheep and fish (collectively, livestock) and dogs, cats and horses (collectively, companion animals), and within five product categories: anti-infectives, vaccines, parasiticides, medicated fee...</td>\n",
       "      <td>0.013904</td>\n",
       "    </tr>\n",
       "  </tbody>\n",
       "</table>\n",
       "<p>500 rows × 3 columns</p>\n",
       "</div>"
      ]
     },
     "metadata": {},
     "execution_count": 4
    }
   ],
   "metadata": {}
  },
  {
   "cell_type": "code",
   "execution_count": null,
   "source": [
    "\r\n",
    "# wordnet = nltk.WordNetLemmatizer()\r\n",
    "# def my_preprocessor(text):\r\n",
    "    \r\n",
    "#     text=text.lower() \r\n",
    "#     text=re.sub(\"\\\\W\",\" \",text) # remove special chars\r\n",
    "    \r\n",
    "#     # lemmatize words\r\n",
    "#     words=re.split(\"\\\\s+\",text)\r\n",
    "#     lemmatized_words=[wordnet.lemmatize(t) for t in words] \r\n",
    "#     return ' '.join(lemmatized_words)\r\n",
    "\r\n",
    "# df['text prep'] = df['text'].apply(my_preprocessor)\r\n",
    "# df\r\n",
    "\r\n",
    "\r\n",
    "\r\n",
    "# in a first step I want to try my preprocessor --> it removes any special chars and lemmatizes the words"
   ],
   "outputs": [],
   "metadata": {}
  },
  {
   "cell_type": "code",
   "execution_count": null,
   "source": [
    "count = CountVectorizer()\r\n",
    "bag = count.fit_transform(df['text'])\r\n",
    "bag  \r\n",
    "#still need to try to clean the data a bit"
   ],
   "outputs": [
    {
     "output_type": "execute_result",
     "data": {
      "text/plain": [
       "<500x7269 sparse matrix of type '<class 'numpy.int64'>'\n",
       "\twith 37356 stored elements in Compressed Sparse Row format>"
      ]
     },
     "metadata": {},
     "execution_count": 6
    }
   ],
   "metadata": {}
  },
  {
   "cell_type": "code",
   "execution_count": null,
   "source": [
    "# count.vocabulary_"
   ],
   "outputs": [],
   "metadata": {}
  },
  {
   "cell_type": "code",
   "execution_count": null,
   "source": [
    "def my_preprocessor(text):\r\n",
    "    \r\n",
    "    text=text.lower() \r\n",
    "    text=re.sub(\"\\\\W\",\" \",text) # remove special chars\r\n",
    "    \r\n",
    "    # lemmatize words\r\n",
    "    words=re.split(\"\\\\s+\",text)\r\n",
    "    wordnet = nltk.WordNetLemmatizer()\r\n",
    "    lemmatized_words=[wordnet.lemmatize(t) for t in words] \r\n",
    "    #stemmed_words=[porter_stemmer.stem(word=word) for word in words]\r\n",
    "    return ' '.join(lemmatized_words)\r\n",
    "\r\n",
    "count = CountVectorizer(stop_words='english',preprocessor=my_preprocessor)\r\n",
    "bag = count.fit_transform(df['text'])\r\n",
    "bag\r\n",
    "\r\n",
    "##with preprocessor we got rid of almost 10k stored elements"
   ],
   "outputs": [
    {
     "output_type": "stream",
     "name": "stderr",
     "text": [
      "c:\\Users\\Fabian\\Desktop\\Python\\projects\\Finance\\lib\\site-packages\\sklearn\\feature_extraction\\text.py:391: UserWarning: Your stop_words may be inconsistent with your preprocessing. Tokenizing the stop words generated tokens ['ha', 'le', 'wa'] not in stop_words.\n",
      "  'stop_words.' % sorted(inconsistent))\n"
     ]
    },
    {
     "output_type": "execute_result",
     "data": {
      "text/plain": [
       "<500x6449 sparse matrix of type '<class 'numpy.int64'>'\n",
       "\twith 28345 stored elements in Compressed Sparse Row format>"
      ]
     },
     "metadata": {},
     "execution_count": 8
    }
   ],
   "metadata": {}
  },
  {
   "cell_type": "code",
   "execution_count": null,
   "source": [
    "# count.vocabulary_"
   ],
   "outputs": [],
   "metadata": {}
  },
  {
   "cell_type": "code",
   "execution_count": null,
   "source": [
    "X = df['text']\r\n",
    "y = df['Volatility']"
   ],
   "outputs": [],
   "metadata": {}
  },
  {
   "cell_type": "code",
   "execution_count": null,
   "source": [
    "tfidf = TfidfVectorizer(stop_words='english',ngram_range=(1, 2),preprocessor=my_preprocessor, max_features=10000)   #bigrams and unigrams\r\n",
    "X_bag = tfidf.fit_transform(X)\r\n",
    "X_bag.shape"
   ],
   "outputs": [
    {
     "output_type": "execute_result",
     "data": {
      "text/plain": [
       "(500, 10000)"
      ]
     },
     "metadata": {},
     "execution_count": 11
    }
   ],
   "metadata": {}
  },
  {
   "cell_type": "code",
   "execution_count": null,
   "source": [
    "X_train, X_test, y_train, y_test = train_test_split(X_bag, y, test_size=0.2,random_state=1)"
   ],
   "outputs": [],
   "metadata": {}
  },
  {
   "cell_type": "code",
   "execution_count": null,
   "source": [
    "\r\n",
    "tree_reg = DecisionTreeRegressor(max_depth=2, random_state=42)\r\n",
    "tree_reg.fit(X_train, y_train)\r\n",
    "fig, ax = plt.subplots(figsize=(10, 10))\r\n",
    "plot_tree(tree_reg, filled = True, ax=ax)\r\n",
    "plt.show()\r\n",
    "\r\n"
   ],
   "outputs": [
    {
     "output_type": "display_data",
     "data": {
      "text/plain": [
       "<Figure size 720x720 with 1 Axes>"
      ],
      "image/png": "[encoded data removed]"
     },
     "metadata": {
      "needs_background": "light"
     }
    }
   ],
   "metadata": {}
  },
  {
   "cell_type": "code",
   "execution_count": null,
   "source": [
    "X_train_keras = X_train.toarray()\r\n",
    "X_train_keras.shape"
   ],
   "outputs": [
    {
     "output_type": "execute_result",
     "data": {
      "text/plain": [
       "(400, 10000)"
      ]
     },
     "metadata": {},
     "execution_count": 14
    }
   ],
   "metadata": {}
  },
  {
   "cell_type": "code",
   "execution_count": 24,
   "source": [
    "callbacks_list = [\r\n",
    "keras.callbacks.EarlyStopping(monitor='acc', patience=1,),\r\n",
    "keras.callbacks.ModelCheckpoint(filepath='neural_network.h5', monitor='val_loss', save_best_only=True,)\r\n",
    "]\r\n",
    "\r\n",
    "\r\n",
    "text_input =  Input(shape= (X_train.shape[1],), dtype='float64')\r\n",
    "x = layers.Flatten()(text_input)\r\n",
    "x = layers.Dense(8, activation='relu')(x)\r\n",
    "x = layers.Dense(4, activation='relu')(x)\r\n",
    "x = layers.Dense(4, activation='relu')(x)\r\n",
    "x = layers.Dense(4, activation='relu')(x)\r\n",
    "output = layers.Dense(1)(x)\r\n",
    "\r\n",
    "model = Model(text_input, output)\r\n",
    "model.compile(optimizer='adam',\r\n",
    "loss='mean_squared_error',\r\n",
    "metrics=['mse'])\r\n",
    "\r\n",
    "\r\n",
    "history = model.fit(X_train_keras, y_train, epochs=8, callbacks=callbacks_list, validation_split=0.1)"
   ],
   "outputs": [
    {
     "output_type": "stream",
     "name": "stdout",
     "text": [
      "Epoch 1/8\n",
      "12/12 [==============================] - 2s 50ms/step - loss: 3.3341e-04 - mse: 3.3341e-04 - val_loss: 8.0096e-05 - val_mse: 8.0096e-05\n",
      "WARNING:tensorflow:Early stopping conditioned on metric `acc` which is not available. Available metrics are: loss,mse,val_loss,val_mse\n",
      "Epoch 2/8\n",
      "12/12 [==============================] - 0s 15ms/step - loss: 4.0666e-05 - mse: 4.0666e-05 - val_loss: 6.7648e-05 - val_mse: 6.7648e-05\n",
      "WARNING:tensorflow:Early stopping conditioned on metric `acc` which is not available. Available metrics are: loss,mse,val_loss,val_mse\n",
      "Epoch 3/8\n",
      "12/12 [==============================] - 0s 17ms/step - loss: 5.3989e-05 - mse: 5.3989e-05 - val_loss: 6.0025e-05 - val_mse: 6.0025e-05\n",
      "WARNING:tensorflow:Early stopping conditioned on metric `acc` which is not available. Available metrics are: loss,mse,val_loss,val_mse\n",
      "Epoch 4/8\n",
      "12/12 [==============================] - 0s 13ms/step - loss: 4.0120e-05 - mse: 4.0120e-05 - val_loss: 6.4090e-05 - val_mse: 6.4090e-05\n",
      "WARNING:tensorflow:Early stopping conditioned on metric `acc` which is not available. Available metrics are: loss,mse,val_loss,val_mse\n",
      "Epoch 5/8\n",
      "12/12 [==============================] - 0s 16ms/step - loss: 3.9131e-05 - mse: 3.9131e-05 - val_loss: 5.6805e-05 - val_mse: 5.6805e-05\n",
      "WARNING:tensorflow:Early stopping conditioned on metric `acc` which is not available. Available metrics are: loss,mse,val_loss,val_mse\n",
      "Epoch 6/8\n",
      "12/12 [==============================] - 0s 15ms/step - loss: 3.8942e-05 - mse: 3.8942e-05 - val_loss: 5.5955e-05 - val_mse: 5.5955e-05\n",
      "WARNING:tensorflow:Early stopping conditioned on metric `acc` which is not available. Available metrics are: loss,mse,val_loss,val_mse\n",
      "Epoch 7/8\n",
      "12/12 [==============================] - 0s 9ms/step - loss: 3.0007e-05 - mse: 3.0007e-05 - val_loss: 5.4807e-05 - val_mse: 5.4807e-05\n",
      "WARNING:tensorflow:Early stopping conditioned on metric `acc` which is not available. Available metrics are: loss,mse,val_loss,val_mse\n",
      "Epoch 8/8\n",
      "12/12 [==============================] - 0s 15ms/step - loss: 2.6229e-05 - mse: 2.6229e-05 - val_loss: 5.1855e-05 - val_mse: 5.1855e-05\n",
      "WARNING:tensorflow:Early stopping conditioned on metric `acc` which is not available. Available metrics are: loss,mse,val_loss,val_mse\n"
     ]
    }
   ],
   "metadata": {}
  },
  {
   "cell_type": "code",
   "execution_count": 25,
   "source": [
    "loss = history.history['loss']\r\n",
    "val_loss = history.history['val_loss']\r\n",
    "epochs = range(1, len(loss) + 1)\r\n",
    "plt.figure()\r\n",
    "plt.plot(epochs, loss, 'bo', label='Training loss')\r\n",
    "plt.plot(epochs, val_loss, 'b', label='Validation loss')\r\n",
    "plt.title('Training and validation loss')\r\n",
    "plt.legend()\r\n",
    "plt.show()"
   ],
   "outputs": [
    {
     "output_type": "display_data",
     "data": {
      "text/plain": [
       "<Figure size 432x288 with 1 Axes>"
      ],
      "image/png": "[encoded data removed]"
     },
     "metadata": {
      "needs_background": "light"
     }
    }
   ],
   "metadata": {}
  },
  {
   "cell_type": "code",
   "execution_count": 28,
   "source": [
    "\r\n",
    " n_network = load_model('neural_network.h5')"
   ],
   "outputs": [
    {
     "output_type": "error",
     "ename": "NameError",
     "evalue": "name 'load_model' is not defined",
     "traceback": [
      "\u001b[1;31m---------------------------------------------------------------------------\u001b[0m",
      "\u001b[1;31mNameError\u001b[0m                                 Traceback (most recent call last)",
      "\u001b[1;32m<ipython-input-28-410758b74098>\u001b[0m in \u001b[0;36m<module>\u001b[1;34m\u001b[0m\n\u001b[1;32m----> 1\u001b[1;33m \u001b[0mmodel\u001b[0m \u001b[1;33m=\u001b[0m \u001b[0mload_model\u001b[0m\u001b[1;33m(\u001b[0m\u001b[1;34m'neural_network.h5'\u001b[0m\u001b[1;33m)\u001b[0m\u001b[1;33m\u001b[0m\u001b[1;33m\u001b[0m\u001b[0m\n\u001b[0m",
      "\u001b[1;31mNameError\u001b[0m: name 'load_model' is not defined"
     ]
    }
   ],
   "metadata": {}
  },
  {
   "cell_type": "code",
   "execution_count": 27,
   "source": [
    "test_loss, test_acc = n_network.evaluate(X_test.toarray(), y_test)\r\n",
    "print(test_acc)"
   ],
   "outputs": [
    {
     "output_type": "stream",
     "name": "stdout",
     "text": [
      "4/4 [==============================] - 0s 5ms/step - loss: 4.9529e-05 - mse: 4.9529e-05\n",
      "4.95292988489382e-05\n"
     ]
    }
   ],
   "metadata": {}
  }
 ],
 "metadata": {
  "kernelspec": {
   "display_name": "Python 3",
   "language": "python",
   "name": "python3"
  },
  "language_info": {
   "codemirror_mode": {
    "name": "ipython",
    "version": 3
   },
   "file_extension": ".py",
   "mimetype": "text/x-python",
   "name": "python",
   "nbconvert_exporter": "python",
   "pygments_lexer": "ipython3",
   "version": "3.8.5"
  }
 },
 "nbformat": 4,
 "nbformat_minor": 4
}