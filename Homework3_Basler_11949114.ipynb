{
 "cells": [
  {
   "cell_type": "markdown",
   "metadata": {},
   "source": [
    "# Homework exercise 3\n",
    "## Deadline: upload to Moodle by 7 June 18:00 h\n",
    "\n",
    "__Please submit your homework either as a Jupyter Notebook or using .py files.__\n",
    "\n",
    "If you use .py files, please also include a PDF containing the output of your code and your explanations. Either way, the code needs to be in a form that can be easily run on another computer.\n",
    "\n",
    "__Name 1:__Fabian Basler\n",
    "\n",
    "__Name 2:__Evamaria Hammerschmid\n",
    "\n",
    "__Name 3:__Julia Ornatowski\n",
    "\n",
    "\n",
    "The name of the file that you upload should be named *Homework1_YourLastName_YourStudentID*.\n",
    "\n",
    "Reminder: you are required to attend class on 26 May to earn points for this homework exercise unless you have a valid reason for your absence.\n",
    "\n",
    "You are encouraged to work on this exercise in teams of up to three students. If any part of the questions is unclear, please ask on the Moodle forum."
   ]
  },
  {
   "cell_type": "markdown",
   "metadata": {},
   "source": [
    "#### APIs, NLP, ML\n"
   ]
  },
  {
   "cell_type": "markdown",
   "metadata": {},
   "source": [
    "__Reddit__\n",
    "\n",
    "\n",
    "The Reddit offers an API providing free access to up to 1000 submissions (i.e. posts), comments on those submissions, and some meta data. `PRAW` is a module that facilitates usage of the Reddit API, and it is recommended that you use it. It is documented at https://praw.readthedocs.io/en/latest/index.html and the Quick Start page should give you most of the information you need.\n",
    "\n",
    "(If you would like to use more Reddit data, you may want to consider `PSAW`. You won't need it for this homework exercise, though it might be of interest if you'd like to use Reddit in your course project.)\n",
    "\n",
    "Please note that using the Reddit API requires users to register. Feel free to use any temporary email address if you have any concerns with sharing your usual address with Reddit.\n",
    "\n",
    "Please collect data for the top 1000 submissions and all the comments on those submissions for the subreddits 'wallstreetbets' and 'StockMarket'.\n",
    "\n",
    "The goal will be to classify submissions, i.e., to predict which subreddit each submission belongs to. \n",
    "\n",
    "Write a class RedditClassifier that contains two object attributes: the categorical variable to be used in the classification (here: the subreddit) and a list (for now, since you have only encountered a binary classifier, of length 2) of values for that category (i.e. a list of the names of the two subreddits). The class should be derived from the Perceptron class from Chapter 7. It should contain a method that combines the preprocessing and the estimation.\n",
    "\n",
    "The preprocessing should generate features that might help predict the category. Please don't use features such as the frequency of each word as we will take a look at appropriate ways of working with such information only in the next class. Possible features could be: length of title, number of comments, average sentence length, word length, number of sentences in the comments, shares of nouns, verbs, etc., number of stop words used compared to other words, etc.. Please add any other features that you think might be useful for this task but don't include features that are likely to perfectly predict the category (e.g. the author of a submission).\n",
    "\n",
    "Please use this class to classify the submissions. Plot the percentage of submissions that are incorrectly classified in each epoch for different learning rates. Don't expect to achieve near-perfect predictions as the features you employ may not be able to easily distinguish between categories the way they did in the example in class."
   ]
  },
  {
   "cell_type": "code",
   "execution_count": 1,
   "metadata": {
    "tags": []
   },
   "outputs": [],
   "source": [
    "import praw\n",
    "from praw.models import MoreComments\n",
    "import pandas as pd\n",
    "import numpy as np\n",
    "import matplotlib.pyplot as plt\n",
    "from tqdm.notebook import tqdm\n",
    "import nltk\n",
    "\n",
    "subreddits = [\"StockMarket\", 'wallstreetbets']\n",
    "reddit = praw.Reddit(\n",
    "    client_id=\"cuDmFCTelGCG4w\",\n",
    "    client_secret=\"JJKHv_s7LlxkTKJE90xkPMiZIEqFRQ\",\n",
    "    user_agent=\"Homework3\"\n",
    ")\n",
    "\n",
    "wallstreetbets=reddit.subreddit('wallstreetbets')\n",
    "stockmarket=reddit.subreddit('StockMarket')\n",
    "\n",
    "\n",
    "hot_stockmarket=stockmarket.hot(limit=1000)\n",
    "\n",
    "hot_wsb=wallstreetbets.hot(limit=1000)\n",
    "\n",
    "# values = [hot_stockmarket, hot_wsb]\n",
    "# labels = [\"StockMarket\", 'wallstreetbets']\n",
    "\n",
    "wsb_list = [submission for submission in hot_wsb]\n",
    "stockmarket_list = [submission for submission in hot_stockmarket]\n",
    "labels = [\"stockmarket\"]*len(stockmarket_list) +[\"wallstreetbets\"]*len(wsb_list)\n",
    "values = stockmarket_list + wsb_list\n",
    "\n"
   ]
  },
  {
   "cell_type": "code",
   "execution_count": 2,
   "metadata": {},
   "outputs": [],
   "source": [
    "# for subred in values:\n",
    "#     print(subred)"
   ]
  },
  {
   "cell_type": "code",
   "execution_count": 3,
   "metadata": {},
   "outputs": [],
   "source": [
    "# for subred in values:\n",
    "#     for submission in subred:\n",
    "#         print(submission.id)"
   ]
  },
  {
   "cell_type": "code",
   "execution_count": 7,
   "metadata": {},
   "outputs": [],
   "source": [
    "class Reddit_Perceptron(object):\n",
    "    \"\"\"Perceptron classifier.\n",
    "    Parameters\n",
    "    ------------\n",
    "    eta : float\n",
    "    Learning rate (between 0.0 and 1.0)\n",
    "    n_iter : int\n",
    "    Passes over the training dataset.\n",
    "    random_state : int\n",
    "    Random number generator seed for random weight\n",
    "    initialization.\n",
    "    Attributes\n",
    "    -----------\n",
    "    w_ : 1d-array\n",
    "    Weights after fitting.\n",
    "    errors_ : list\n",
    "    Number of misclassifications (updates) in each epoch.\n",
    "    \"\"\"\n",
    "\n",
    "    def __init__(self, eta=0.01, n_iter=50, random_state=1):\n",
    "        # self.X = X\n",
    "        # self.y = y\n",
    "        self.eta = eta\n",
    "        self.n_iter = n_iter\n",
    "        self.random_state = random_state\n",
    "        # Member variables in Classifier for X and y (saves already preprocessed inputs)\n",
    "        self.X = None\n",
    "        self.y = None\n",
    "    \n",
    "    # def __iter__(self):\n",
    "    #     return (subred for subred in self.X)\n",
    "        \n",
    "\n",
    "    def preprocessing(self, values, labels):\n",
    "        titles=[]\n",
    "        comment_count=[]\n",
    "        comments=[]\n",
    "        over_18=[]\n",
    "        upvote_ratio=[]\n",
    "        text=[]\n",
    "        spoiler=[]\n",
    "        lentitles=[]\n",
    "        isself=[]\n",
    "        subred=[]\n",
    "        sentencecount=[]\n",
    "        avgsentencelen=[]\n",
    "        avgwordlen=[]\n",
    "        avgwordlentext=[]\n",
    "        #share_nouns=[]\n",
    "        labels = np.array(labels)\n",
    "        y = np.where(labels == 'wallstreetbets', -1, 1)\n",
    "        print('Preprocessing Submissions.')\n",
    "        for submission in tqdm(values):\n",
    "            # print(submission.id)\n",
    "            over_18.append(float(submission.over_18))\n",
    "            upvote_ratio.append(submission.upvote_ratio)\n",
    "            titles.append(submission.title)\n",
    "            if submission.selftext=='': \n",
    "                text.append(0)\n",
    "            else: \n",
    "                text.append(submission.selftext)\n",
    "            spoiler.append(float(submission.spoiler))\n",
    "            #Whether or not the submission is a selfpost (text-only).\n",
    "            isself.append(float(submission.is_self))\n",
    "            \n",
    "            #Number of comments\n",
    "            if submission.num_comments==0: \n",
    "                comment_count.append(0)\n",
    "            else: \n",
    "                comment_count.append(float(submission.num_comments))\n",
    "\n",
    "\n",
    "            total_com=0\n",
    "            number_comments=0\n",
    "\n",
    "            sentence_count_per_commment = []\n",
    "            avg_wordlen_per_comment = []\n",
    "            avg_sentencelen_per_commment = []\n",
    "\n",
    "            for top_level_comment in submission.comments:\n",
    "                if isinstance(top_level_comment, MoreComments):\n",
    "                    continue\n",
    "\n",
    "            #number of sentences in the comments\n",
    "                count_sent=len(top_level_comment.body.split(\".\"))\n",
    "                sentence_count_per_commment.append(count_sent)\n",
    "\n",
    "            #average sentence length\n",
    "                num_words=len(top_level_comment.body.split(\" \"))\n",
    "                avg_sentencelen_per_commment.append(num_words/count_sent)\n",
    "            #average word length\n",
    "                avg_wordlen_per_comment.append(len(top_level_comment.body)/num_words)\n",
    "                \n",
    "            #shares of nouns(analogue for verbs, stopwords), but loads so long and accurary was ok, so left out\n",
    "            #tokenized = nltk.word_tokenize(top_level_comment.body)\n",
    "            #nouns = [word for (word, pos) in nltk.pos_tag(tokenized) if is_noun(pos)]\n",
    "            #shares_nouns= len(nouns)/num_words\n",
    "            #share_nouns.append((shares_nouns) if len(shares_nouns)>0 else 0)\n",
    "            \n",
    "            sentencecount.append(np.mean(sentence_count_per_commment) if len(sentence_count_per_commment) > 0 else 0)\n",
    "            avgwordlen.append(np.mean(avg_wordlen_per_comment) if len(avg_wordlen_per_comment) > 0 else 0 )\n",
    "            avgsentencelen.append(np.mean(avg_sentencelen_per_commment) if len(avg_sentencelen_per_commment) > 0 else 0)\n",
    "\n",
    "        for title in titles:\n",
    "            lentitles.append(len(title))\n",
    "            \n",
    "        for t in text:\n",
    "            if t != 0:\n",
    "                count=len(t.split(\" \"))\n",
    "                avgwordlentext.append(len(t)/count)\n",
    "\n",
    "            else:\n",
    "                avgwordlentext.append(0)\n",
    "        \n",
    "\n",
    "     \n",
    "        data = pd.DataFrame(\n",
    "        {'Comment Count':comment_count,\n",
    "         'Over 18':over_18, \n",
    "         'Upvote Ratio':upvote_ratio, \n",
    "         'Spoiler':spoiler, \n",
    "         'Isself':isself,\n",
    "         'Number of Sentences': sentencecount,\n",
    "         'Avg. Number of words': avgwordlen,\n",
    "         'Avg sentence length': avgsentencelen,\n",
    "         'Average word lenth text': avgwordlentext\n",
    "        })\n",
    "        return data.values, y\n",
    "\n",
    "  \n",
    "\n",
    "    def fit(self, values, labels, force_preprocess = False):\n",
    "        \"\"\"Fit training data.\n",
    "        Parameters\n",
    "        ----------\n",
    "        X : {array-like}, shape = [n_samples, n_features]\n",
    "        Training vectors, where n_samples is the number of samples and\n",
    "        n_features is the number of features.\n",
    "        y : array-like, shape = [n_samples]\n",
    "        Target values.\n",
    "        Returns\n",
    "        -------\n",
    "        self : object\n",
    "        \"\"\"\n",
    "        # Check if input data is already preprocessed and stored in self.X and self.y\n",
    "        if self.X is None or self.y is None or force_preprocess:\n",
    "            self.X, self.y = self.preprocessing(values, labels)\n",
    "        rgen = np.random.RandomState(self.random_state)\n",
    "        self.w_ = rgen.normal(loc=0.0, scale=0.01, size=1 + self.X.shape[1])\n",
    "        self.errors_ = []\n",
    "        self.error_rates_ = []\n",
    "        print(\"Fitting Perceptron\")\n",
    "        for _ in tqdm(range(self.n_iter)):\n",
    "            errors = 0\n",
    "            for xi, target in zip(self.X, self.y):\n",
    "                update = self.eta * (target - self.predict(xi))\n",
    "                self.w_[1:] += update * xi\n",
    "                self.w_[0] += update\n",
    "                errors += int(update != 0.0)\n",
    "            self.errors_.append(errors)\n",
    "            self.error_rates_.append(errors/len(self.X))\n",
    "        return self\n",
    "\n",
    "\n",
    "    def net_input(self, X):\n",
    "        \"\"\"Calculate net input\"\"\"\n",
    "        return np.dot(X, self.w_[1:]) + self.w_[0]\n",
    "    def predict(self,X):\n",
    "        \"\"\"Return class label after unit step\"\"\"\n",
    "        return np.where(self.net_input(X) >= 0.0, 1, -1)\n"
   ]
  },
  {
   "cell_type": "code",
   "execution_count": 8,
   "metadata": {},
   "outputs": [],
   "source": [
    "red_perceptron = Reddit_Perceptron()"
   ]
  },
  {
   "cell_type": "code",
   "execution_count": 15,
   "metadata": {},
   "outputs": [
    {
     "name": "stdout",
     "output_type": "stream",
     "text": [
      "Fitting Perceptron\n"
     ]
    },
    {
     "data": {
      "application/vnd.jupyter.widget-view+json": {
       "model_id": "7a4622e0be024d7ea11eadb669daa0c0",
       "version_major": 2,
       "version_minor": 0
      },
      "text/plain": [
       "HBox(children=(HTML(value=''), FloatProgress(value=0.0, max=10.0), HTML(value='')))"
      ]
     },
     "metadata": {},
     "output_type": "display_data"
    },
    {
     "name": "stdout",
     "output_type": "stream",
     "text": [
      "\n"
     ]
    },
    {
     "data": {
      "text/plain": [
       "<__main__.Reddit_Perceptron at 0x2bae9d5b550>"
      ]
     },
     "execution_count": 15,
     "metadata": {},
     "output_type": "execute_result"
    }
   ],
   "source": [
    "red_perceptron.fit(values, labels)"
   ]
  },
  {
   "cell_type": "code",
   "execution_count": 16,
   "metadata": {},
   "outputs": [
    {
     "name": "stdout",
     "output_type": "stream",
     "text": [
      "Fitting Perceptron\n"
     ]
    },
    {
     "data": {
      "application/vnd.jupyter.widget-view+json": {
       "model_id": "e27cd8fe3bee49e8a07ac1f455bd4677",
       "version_major": 2,
       "version_minor": 0
      },
      "text/plain": [
       "HBox(children=(HTML(value=''), FloatProgress(value=0.0), HTML(value='')))"
      ]
     },
     "metadata": {},
     "output_type": "display_data"
    },
    {
     "name": "stdout",
     "output_type": "stream",
     "text": [
      "\n"
     ]
    },
    {
     "data": {
      "image/png": "[encoded data removed]",
      "text/plain": [
       "<Figure size 432x288 with 1 Axes>"
      ]
     },
     "metadata": {
      "needs_background": "light"
     },
     "output_type": "display_data"
    }
   ],
   "source": [
    "import matplotlib.pyplot as plt\n",
    "red_perceptron.eta = 0.01\n",
    "red_perceptron.n_iter = 100\n",
    "red_perceptron.fit(values, labels)\n",
    "plt.plot(range(1, len(red_perceptron.error_rates_) + 1), red_perceptron.error_rates_, marker='o')\n",
    "plt.xlabel('Epochs')\n",
    "plt.ylabel('Error Rate')\n",
    "plt.title(f'Learning Rate = {red_perceptron.eta}; Epochs = {red_perceptron.n_iter}')\n",
    "plt.show()\n"
   ]
  },
  {
   "cell_type": "code",
   "execution_count": 17,
   "metadata": {},
   "outputs": [
    {
     "name": "stdout",
     "output_type": "stream",
     "text": [
      "Fitting Perceptron\n"
     ]
    },
    {
     "data": {
      "application/vnd.jupyter.widget-view+json": {
       "model_id": "ca1886c60856433fb22618ad677ec0a7",
       "version_major": 2,
       "version_minor": 0
      },
      "text/plain": [
       "HBox(children=(HTML(value=''), FloatProgress(value=0.0), HTML(value='')))"
      ]
     },
     "metadata": {},
     "output_type": "display_data"
    },
    {
     "name": "stdout",
     "output_type": "stream",
     "text": [
      "\n"
     ]
    },
    {
     "data": {
      "image/png": "[encoded data removed]",
      "text/plain": [
       "<Figure size 432x288 with 1 Axes>"
      ]
     },
     "metadata": {
      "needs_background": "light"
     },
     "output_type": "display_data"
    }
   ],
   "source": [
    "red_perceptron.eta = 0.05\n",
    "red_perceptron.n_iter = 100\n",
    "red_perceptron.fit(values, labels)\n",
    "plt.plot(range(1, len(red_perceptron.error_rates_) + 1), red_perceptron.error_rates_, marker='o')\n",
    "plt.xlabel('Epochs')\n",
    "plt.ylabel('Error Rate')\n",
    "plt.title(f'Learning Rate = {red_perceptron.eta}; Epochs = {red_perceptron.n_iter}')\n",
    "plt.show()"
   ]
  },
  {
   "cell_type": "code",
   "execution_count": 18,
   "metadata": {},
   "outputs": [
    {
     "name": "stdout",
     "output_type": "stream",
     "text": [
      "Fitting Perceptron\n"
     ]
    },
    {
     "data": {
      "application/vnd.jupyter.widget-view+json": {
       "model_id": "8b02e66041bc488b991cee5ffc14109e",
       "version_major": 2,
       "version_minor": 0
      },
      "text/plain": [
       "HBox(children=(HTML(value=''), FloatProgress(value=0.0), HTML(value='')))"
      ]
     },
     "metadata": {},
     "output_type": "display_data"
    },
    {
     "name": "stdout",
     "output_type": "stream",
     "text": [
      "\n"
     ]
    },
    {
     "data": {
      "image/png": "[encoded data removed]",
      "text/plain": [
       "<Figure size 432x288 with 1 Axes>"
      ]
     },
     "metadata": {
      "needs_background": "light"
     },
     "output_type": "display_data"
    }
   ],
   "source": [
    "red_perceptron.eta = 0.00000001\n",
    "red_perceptron.n_iter = 100\n",
    "red_perceptron.fit(values, labels)\n",
    "plt.plot(range(1, len(red_perceptron.error_rates_) + 1), red_perceptron.error_rates_, marker='o')\n",
    "plt.xlabel('Epochs')\n",
    "plt.ylabel('Error Rate')\n",
    "plt.title(f'Learning Rate = {red_perceptron.eta}; Epochs = {red_perceptron.n_iter}')\n",
    "plt.show()"
   ]
  },
  {
   "cell_type": "code",
   "execution_count": 19,
   "metadata": {},
   "outputs": [
    {
     "name": "stdout",
     "output_type": "stream",
     "text": [
      "Fitting Perceptron\n"
     ]
    },
    {
     "data": {
      "application/vnd.jupyter.widget-view+json": {
       "model_id": "1a124c4190f44af9a453a263509c2114",
       "version_major": 2,
       "version_minor": 0
      },
      "text/plain": [
       "HBox(children=(HTML(value=''), FloatProgress(value=0.0), HTML(value='')))"
      ]
     },
     "metadata": {},
     "output_type": "display_data"
    },
    {
     "name": "stdout",
     "output_type": "stream",
     "text": [
      "\n"
     ]
    },
    {
     "data": {
      "image/png": "[encoded data removed]",
      "text/plain": [
       "<Figure size 432x288 with 1 Axes>"
      ]
     },
     "metadata": {
      "needs_background": "light"
     },
     "output_type": "display_data"
    }
   ],
   "source": [
    "red_perceptron.eta = 0.000000001\n",
    "red_perceptron.n_iter = 100\n",
    "red_perceptron.fit(values, labels)\n",
    "plt.plot(range(1, len(red_perceptron.error_rates_) + 1), red_perceptron.error_rates_, marker='o')\n",
    "plt.xlabel('Epochs')\n",
    "plt.ylabel('Error Rate')\n",
    "plt.title(f'Learning Rate = {red_perceptron.eta}; Epochs = {red_perceptron.n_iter}')\n",
    "plt.show()"
   ]
  }
 ],
 "metadata": {
  "kernelspec": {
   "display_name": "Python 3",
   "language": "python",
   "name": "python3"
  },
  "language_info": {
   "codemirror_mode": {
    "name": "ipython",
    "version": 3
   },
   "file_extension": ".py",
   "mimetype": "text/x-python",
   "name": "python",
   "nbconvert_exporter": "python",
   "pygments_lexer": "ipython3",
   "version": "3.8.5"
  },
  "metadata": {
   "interpreter": {
    "hash": "d3adbaf49ae7f507e83f0ccfbb2546a5cc19668fb515a7486c42bc7952ccb80e"
   }
  },
  "varInspector": {
   "cols": {
    "lenName": 16,
    "lenType": 16,
    "lenVar": 40
   },
   "kernels_config": {
    "python": {
     "delete_cmd_postfix": "",
     "delete_cmd_prefix": "del ",
     "library": "var_list.py",
     "varRefreshCmd": "print(var_dic_list())"
    },
    "r": {
     "delete_cmd_postfix": ") ",
     "delete_cmd_prefix": "rm(",
     "library": "var_list.r",
     "varRefreshCmd": "cat(var_dic_list()) "
    }
   },
   "types_to_exclude": [
    "module",
    "function",
    "builtin_function_or_method",
    "instance",
    "_Feature"
   ],
   "window_display": false
  }
 },
 "nbformat": 4,
 "nbformat_minor": 4
}
