{
 "cells": [
  {
   "cell_type": "code",
   "execution_count": 1,
   "metadata": {},
   "outputs": [],
   "source": [
    "from sklearn import datasets\n",
    "\n",
    "from sklearn.model_selection import train_test_split\n",
    "from sklearn.preprocessing import StandardScaler\n",
    "from sklearn.ensemble import GradientBoostingRegressor\n",
    "from sklearn.pipeline import make_pipeline, Pipeline\n",
    "from sklearn.decomposition import PCA\n",
    "from sklearn.model_selection import GridSearchCV, learning_curve, validation_curve\n",
    "from sklearn.metrics import make_scorer\n",
    "from sklearn.linear_model import ElasticNet\n",
    "import sklearn\n",
    "\n",
    "from sklearn.metrics import confusion_matrix\n",
    "from sklearn import tree\n",
    "\n",
    "from sklearn.metrics import make_scorer \n",
    "from sklearn.metrics import mean_absolute_error \n",
    "from sklearn import metrics\n",
    "from sklearn.metrics import r2_score\n",
    "from sklearn.model_selection import cross_val_score\n",
    "from sklearn import linear_model\n",
    "\n",
    "\n",
    "import numpy as np\n",
    "from matplotlib.colors import ListedColormap\n",
    "import matplotlib.pyplot as plt\n",
    "import pandas as pd\n",
    "import re\n",
    "\n",
    "\n",
    "%matplotlib inline\n",
    "import seaborn as sns\n",
    "from sklearn.tree import DecisionTreeClassifier, DecisionTreeRegressor, plot_tree\n",
    "from sklearn.feature_extraction.text import CountVectorizer\n",
    "from sklearn.feature_extraction.text import TfidfVectorizer\n",
    "\n",
    "import nltk\n",
    "from nltk.corpus import reuters\n",
    "from nltk.corpus import stopwords\n",
    "from nltk import word_tokenize\n",
    "import re\n",
    "import string\n",
    "\n",
    "import tensorflow.keras as keras\n",
    "from tensorflow.keras.models import Model\n",
    "from tensorflow.keras.preprocessing.text import Tokenizer\n",
    "from tensorflow.keras.preprocessing.sequence import pad_sequences\n",
    "from tensorflow.keras import layers\n",
    "from tensorflow.keras import Input\n",
    "from tensorflow.keras import models"
   ]
  },
  {
   "cell_type": "code",
   "execution_count": 5,
   "metadata": {},
   "outputs": [
    {
     "name": "stderr",
     "output_type": "stream",
     "text": [
      "[nltk_data] Downloading package punkt to\n",
      "[nltk_data]     C:\\Users\\Evi\\AppData\\Roaming\\nltk_data...\n",
      "[nltk_data]   Package punkt is already up-to-date!\n",
      "[nltk_data] Downloading package stopwords to\n",
      "[nltk_data]     C:\\Users\\Evi\\AppData\\Roaming\\nltk_data...\n",
      "[nltk_data]   Package stopwords is already up-to-date!\n",
      "[nltk_data] Downloading package wordnet to\n",
      "[nltk_data]     C:\\Users\\Evi\\AppData\\Roaming\\nltk_data...\n",
      "[nltk_data]   Package wordnet is already up-to-date!\n"
     ]
    },
    {
     "data": {
      "text/plain": [
       "True"
      ]
     },
     "execution_count": 5,
     "metadata": {},
     "output_type": "execute_result"
    }
   ],
   "source": [
    "nltk.download('punkt')\n",
    "nltk.download('stopwords')\n",
    "nltk.download('wordnet')"
   ]
  },
  {
   "cell_type": "code",
   "execution_count": 6,
   "metadata": {},
   "outputs": [
    {
     "data": {
      "text/html": [
       "<div>\n",
       "<style scoped>\n",
       "    .dataframe tbody tr th:only-of-type {\n",
       "        vertical-align: middle;\n",
       "    }\n",
       "\n",
       "    .dataframe tbody tr th {\n",
       "        vertical-align: top;\n",
       "    }\n",
       "\n",
       "    .dataframe thead th {\n",
       "        text-align: right;\n",
       "    }\n",
       "</style>\n",
       "<table border=\"1\" class=\"dataframe\">\n",
       "  <thead>\n",
       "    <tr style=\"text-align: right;\">\n",
       "      <th></th>\n",
       "      <th>Symbol</th>\n",
       "      <th>text</th>\n",
       "      <th>Volatility</th>\n",
       "    </tr>\n",
       "  </thead>\n",
       "  <tbody>\n",
       "    <tr>\n",
       "      <th>0</th>\n",
       "      <td>MMM</td>\n",
       "      <td>About 3M Co3M Co is a technology company. The Company operates through four segments: Safety and Industrial, Transportation and Electronics, Health Care and Consumer. Safety and Industrial segment consist of abrasives, automotive aftermarket, closure and masking systems, communication markets, electrical markets, industrial adhesives and tapes, personal safety, roofing granules and other safety and industrial. Transportation and Electronics segment consists of advanced materials, automotive ...</td>\n",
       "      <td>0.013422</td>\n",
       "    </tr>\n",
       "    <tr>\n",
       "      <th>1</th>\n",
       "      <td>ABT</td>\n",
       "      <td>About Abbott LaboratoriesAbbott Laboratories (Abbott) is engaged in the discovery, development, manufacture, and sale of a diversified line of health care products. The Company operates through four segments: Established Pharmaceutical Products, Diagnostic Products, Nutritional Products, and Medical Devices. The Company focuses on cardiovascular, diabetes care, diagnostics, neuromodulation, nutrition and medicine. It offers products, including FreeStyle, PediaSure, Pedialyte, Similac, EleCar...</td>\n",
       "      <td>0.015707</td>\n",
       "    </tr>\n",
       "    <tr>\n",
       "      <th>2</th>\n",
       "      <td>ABBV</td>\n",
       "      <td>About AbbVie IncAbbVie Inc. (AbbVie) is a research-based biopharmaceutical company. The Company is engaged in research and development, manufacturing, commercialization and sale of medicines and therapies. AbbVie offers its products in various therapeutic categories, including Immunology products, which include Humira, Skyrizi and Rinvoq; Oncology products consists of Imbruvica and Venclexta; Aesthetics products include Botox Cosmetic, Juvederm Collection and other aesthetics; Neuroscience p...</td>\n",
       "      <td>0.014242</td>\n",
       "    </tr>\n",
       "    <tr>\n",
       "      <th>3</th>\n",
       "      <td>ABMD</td>\n",
       "      <td>About ABIOMED, Inc.ABIOMED, Inc. is a provider of temporary percutaneous mechanical circulatory support devices. The Company offers care to heart failure patients. The Company operates in the segment of the research, development and sale of medical devices to assist or replace the pumping function of the failing heart. The Company develops, manufactures and markets products that are designed to enable the heart to rest, heal and recover by improving blood flow to the coronary arteries and en...</td>\n",
       "      <td>0.022429</td>\n",
       "    </tr>\n",
       "    <tr>\n",
       "      <th>4</th>\n",
       "      <td>ACN</td>\n",
       "      <td>About Accenture PlcAccenture plc is a professional services company. It provides management and technology consulting services. Its segments include Communications, Media and Technology; Financial Services; Health and Public Service; Products, and Resources. The Communications, Media &amp; Technology segment serves communications, electronics, technology, media and entertainment industries. The Financial Services segment serves banking, capital markets and insurance industries. The Health &amp; Publ...</td>\n",
       "      <td>0.013775</td>\n",
       "    </tr>\n",
       "    <tr>\n",
       "      <th>...</th>\n",
       "      <td>...</td>\n",
       "      <td>...</td>\n",
       "      <td>...</td>\n",
       "    </tr>\n",
       "    <tr>\n",
       "      <th>495</th>\n",
       "      <td>YUM</td>\n",
       "      <td>About Yum! Brands, Inc.YUM! Brands, Inc. is engaged in restaurant business. The Company operates or franchised over 50,000 restaurants in more than 150 countries and territories operating under the KFC, Pizza Hut or Taco Bell (collectively the Concepts) brands. The Company operates through three segments: The KFC Division, which includes the operations of the KFC concept around the world; The Pizza Hut Division, which includes the operations of the Pizza Hut concept around the world, and The...</td>\n",
       "      <td>0.012367</td>\n",
       "    </tr>\n",
       "    <tr>\n",
       "      <th>496</th>\n",
       "      <td>ZBRA</td>\n",
       "      <td>About Zebra Technologies Corp.Zebra Technologies Corporation designs, manufactures and sells a range of automatic identification and data capture (AIDC) products. The Company's AIDC products include mobile computers, barcode scanners, radio frequency identification devices readers, specialty printers for barcode labeling and personal identification, real-time location systems, related accessories and supplies, such as self-adhesive labels and other consumables, and software utilities and app...</td>\n",
       "      <td>0.019611</td>\n",
       "    </tr>\n",
       "    <tr>\n",
       "      <th>497</th>\n",
       "      <td>ZBH</td>\n",
       "      <td>About Zimmer Biomet Holdings IncZimmer Biomet Holdings, Inc. is engaged in designing, manufacturing and marketing of orthopedic reconstructive products; sports medicine, biologics, extremities and trauma products; office-based technologies; spine, craniomaxillofacial and thoracic products; dental implants, and related surgical products. The Company's products and solutions help treat patients suffering from disorders of, or injuries to, bones, joints or supporting soft tissues. The Company m...</td>\n",
       "      <td>0.017338</td>\n",
       "    </tr>\n",
       "    <tr>\n",
       "      <th>498</th>\n",
       "      <td>ZION</td>\n",
       "      <td>About Zions Bancorporation NAZions Bancorporation, National Association is a financial holding company. The Company conducts its banking operations through separately managed and branded segments, including Zions Bank, Amegy Bank, California Bank &amp; Trust, National Bank of Arizona, Nevada State Bank (NSB), Vectra Bank Colorado, The Commerce Bank of Washington (TCBW) and Other. It focuses on providing community banking services through its business lines, including small and medium-sized busin...</td>\n",
       "      <td>0.030188</td>\n",
       "    </tr>\n",
       "    <tr>\n",
       "      <th>499</th>\n",
       "      <td>ZTS</td>\n",
       "      <td>About Zoetis IncZoetis Inc. is engaged in the discovery, development, manufacture and commercialization of animal health medicines and vaccines, with a focus on both livestock and companion animals. The Company has a business, commercializing products across eight core species: cattle, swine, poultry, sheep and fish (collectively, livestock) and dogs, cats and horses (collectively, companion animals), and within five product categories: anti-infectives, vaccines, parasiticides, medicated fee...</td>\n",
       "      <td>0.013904</td>\n",
       "    </tr>\n",
       "  </tbody>\n",
       "</table>\n",
       "<p>500 rows × 3 columns</p>\n",
       "</div>"
      ],
      "text/plain": [
       "    Symbol  \\\n",
       "0      MMM   \n",
       "1      ABT   \n",
       "2     ABBV   \n",
       "3     ABMD   \n",
       "4      ACN   \n",
       "..     ...   \n",
       "495    YUM   \n",
       "496   ZBRA   \n",
       "497    ZBH   \n",
       "498   ZION   \n",
       "499    ZTS   \n",
       "\n",
       "                                                                                                                                                                                                                                                                                                                                                                                                                                                                                                                    text  \\\n",
       "0    About 3M Co3M Co is a technology company. The Company operates through four segments: Safety and Industrial, Transportation and Electronics, Health Care and Consumer. Safety and Industrial segment consist of abrasives, automotive aftermarket, closure and masking systems, communication markets, electrical markets, industrial adhesives and tapes, personal safety, roofing granules and other safety and industrial. Transportation and Electronics segment consists of advanced materials, automotive ...   \n",
       "1    About Abbott LaboratoriesAbbott Laboratories (Abbott) is engaged in the discovery, development, manufacture, and sale of a diversified line of health care products. The Company operates through four segments: Established Pharmaceutical Products, Diagnostic Products, Nutritional Products, and Medical Devices. The Company focuses on cardiovascular, diabetes care, diagnostics, neuromodulation, nutrition and medicine. It offers products, including FreeStyle, PediaSure, Pedialyte, Similac, EleCar...   \n",
       "2    About AbbVie IncAbbVie Inc. (AbbVie) is a research-based biopharmaceutical company. The Company is engaged in research and development, manufacturing, commercialization and sale of medicines and therapies. AbbVie offers its products in various therapeutic categories, including Immunology products, which include Humira, Skyrizi and Rinvoq; Oncology products consists of Imbruvica and Venclexta; Aesthetics products include Botox Cosmetic, Juvederm Collection and other aesthetics; Neuroscience p...   \n",
       "3    About ABIOMED, Inc.ABIOMED, Inc. is a provider of temporary percutaneous mechanical circulatory support devices. The Company offers care to heart failure patients. The Company operates in the segment of the research, development and sale of medical devices to assist or replace the pumping function of the failing heart. The Company develops, manufactures and markets products that are designed to enable the heart to rest, heal and recover by improving blood flow to the coronary arteries and en...   \n",
       "4    About Accenture PlcAccenture plc is a professional services company. It provides management and technology consulting services. Its segments include Communications, Media and Technology; Financial Services; Health and Public Service; Products, and Resources. The Communications, Media & Technology segment serves communications, electronics, technology, media and entertainment industries. The Financial Services segment serves banking, capital markets and insurance industries. The Health & Publ...   \n",
       "..                                                                                                                                                                                                                                                                                                                                                                                                                                                                                                                   ...   \n",
       "495  About Yum! Brands, Inc.YUM! Brands, Inc. is engaged in restaurant business. The Company operates or franchised over 50,000 restaurants in more than 150 countries and territories operating under the KFC, Pizza Hut or Taco Bell (collectively the Concepts) brands. The Company operates through three segments: The KFC Division, which includes the operations of the KFC concept around the world; The Pizza Hut Division, which includes the operations of the Pizza Hut concept around the world, and The...   \n",
       "496  About Zebra Technologies Corp.Zebra Technologies Corporation designs, manufactures and sells a range of automatic identification and data capture (AIDC) products. The Company's AIDC products include mobile computers, barcode scanners, radio frequency identification devices readers, specialty printers for barcode labeling and personal identification, real-time location systems, related accessories and supplies, such as self-adhesive labels and other consumables, and software utilities and app...   \n",
       "497  About Zimmer Biomet Holdings IncZimmer Biomet Holdings, Inc. is engaged in designing, manufacturing and marketing of orthopedic reconstructive products; sports medicine, biologics, extremities and trauma products; office-based technologies; spine, craniomaxillofacial and thoracic products; dental implants, and related surgical products. The Company's products and solutions help treat patients suffering from disorders of, or injuries to, bones, joints or supporting soft tissues. The Company m...   \n",
       "498  About Zions Bancorporation NAZions Bancorporation, National Association is a financial holding company. The Company conducts its banking operations through separately managed and branded segments, including Zions Bank, Amegy Bank, California Bank & Trust, National Bank of Arizona, Nevada State Bank (NSB), Vectra Bank Colorado, The Commerce Bank of Washington (TCBW) and Other. It focuses on providing community banking services through its business lines, including small and medium-sized busin...   \n",
       "499  About Zoetis IncZoetis Inc. is engaged in the discovery, development, manufacture and commercialization of animal health medicines and vaccines, with a focus on both livestock and companion animals. The Company has a business, commercializing products across eight core species: cattle, swine, poultry, sheep and fish (collectively, livestock) and dogs, cats and horses (collectively, companion animals), and within five product categories: anti-infectives, vaccines, parasiticides, medicated fee...   \n",
       "\n",
       "     Volatility  \n",
       "0      0.013422  \n",
       "1      0.015707  \n",
       "2      0.014242  \n",
       "3      0.022429  \n",
       "4      0.013775  \n",
       "..          ...  \n",
       "495    0.012367  \n",
       "496    0.019611  \n",
       "497    0.017338  \n",
       "498    0.030188  \n",
       "499    0.013904  \n",
       "\n",
       "[500 rows x 3 columns]"
      ]
     },
     "execution_count": 6,
     "metadata": {},
     "output_type": "execute_result"
    }
   ],
   "source": [
    "df = pd.read_csv(\"final_data.csv\")\n",
    "text=df['text'] \n",
    "pd.options.display.max_colwidth=500\n",
    "df"
   ]
  },
  {
   "cell_type": "code",
   "execution_count": 8,
   "metadata": {},
   "outputs": [
    {
     "data": {
      "text/plain": [
       "<500x7269 sparse matrix of type '<class 'numpy.int64'>'\n",
       "\twith 37356 stored elements in Compressed Sparse Row format>"
      ]
     },
     "execution_count": 8,
     "metadata": {},
     "output_type": "execute_result"
    }
   ],
   "source": [
    "count = CountVectorizer()\n",
    "bag = count.fit_transform(df['text'])\n",
    "bag  \n",
    "#still need to try to clean the data a bit"
   ]
  },
  {
   "cell_type": "code",
   "execution_count": 9,
   "metadata": {},
   "outputs": [],
   "source": [
    "# count.vocabulary_"
   ]
  },
  {
   "cell_type": "code",
   "execution_count": 10,
   "metadata": {},
   "outputs": [
    {
     "name": "stderr",
     "output_type": "stream",
     "text": [
      "C:\\Users\\Evi\\anaconda3.1\\lib\\site-packages\\sklearn\\feature_extraction\\text.py:388: UserWarning: Your stop_words may be inconsistent with your preprocessing. Tokenizing the stop words generated tokens ['ha', 'le', 'wa'] not in stop_words.\n",
      "  warnings.warn('Your stop_words may be inconsistent with '\n"
     ]
    },
    {
     "data": {
      "text/plain": [
       "<500x6449 sparse matrix of type '<class 'numpy.int64'>'\n",
       "\twith 28345 stored elements in Compressed Sparse Row format>"
      ]
     },
     "execution_count": 10,
     "metadata": {},
     "output_type": "execute_result"
    }
   ],
   "source": [
    "def my_preprocessor(text):\n",
    "    \n",
    "    text=text.lower() \n",
    "    text=re.sub(\"\\\\W\",\" \",text) # remove special chars\n",
    "    \n",
    "    # lemmatize words\n",
    "    words=re.split(\"\\\\s+\",text)\n",
    "    wordnet = nltk.WordNetLemmatizer()\n",
    "    lemmatized_words=[wordnet.lemmatize(t) for t in words] \n",
    "    #stemmed_words=[porter_stemmer.stem(word=word) for word in words]\n",
    "    return ' '.join(lemmatized_words)\n",
    "\n",
    "count = CountVectorizer(stop_words='english',preprocessor=my_preprocessor)\n",
    "bag = count.fit_transform(df['text'])\n",
    "bag\n",
    "\n",
    "##with preprocessor we got rid of almost 10k stored elements"
   ]
  },
  {
   "cell_type": "code",
   "execution_count": 11,
   "metadata": {},
   "outputs": [],
   "source": [
    "# count.vocabulary_"
   ]
  },
  {
   "cell_type": "code",
   "execution_count": 12,
   "metadata": {},
   "outputs": [],
   "source": [
    "X = df['text']\n",
    "y = df['Volatility']"
   ]
  },
  {
   "cell_type": "code",
   "execution_count": 13,
   "metadata": {},
   "outputs": [
    {
     "data": {
      "text/plain": [
       "(500, 10000)"
      ]
     },
     "execution_count": 13,
     "metadata": {},
     "output_type": "execute_result"
    }
   ],
   "source": [
    "tfidf = TfidfVectorizer(stop_words='english',ngram_range=(1, 2),preprocessor=my_preprocessor, max_features=10000)   #bigrams and unigrams\n",
    "X_bag = tfidf.fit_transform(X)\n",
    "X_bag.shape"
   ]
  },
  {
   "cell_type": "code",
   "execution_count": 14,
   "metadata": {},
   "outputs": [
    {
     "data": {
      "text/plain": [
       "((400, 10000), (100, 10000), (400,), (100,))"
      ]
     },
     "execution_count": 14,
     "metadata": {},
     "output_type": "execute_result"
    }
   ],
   "source": [
    "X_train, X_test, y_train, y_test = train_test_split(X_bag, y, test_size=0.2,random_state=1)\n",
    "\n",
    "X_train.shape, X_test.shape, y_train.shape, y_test.shape"
   ]
  },
  {
   "cell_type": "code",
   "execution_count": 15,
   "metadata": {},
   "outputs": [
    {
     "data": {
      "text/plain": [
       "<AxesSubplot:title={'center':'Top 25 bigrams in review after removing stop words'}, xlabel='ReviewText', ylabel='Count'>"
      ]
     },
     "execution_count": 15,
     "metadata": {},
     "output_type": "execute_result"
    },
    {
     "data": {
      "image/png": "[encoded data removed]",
      "text/plain": [
       "<Figure size 432x288 with 1 Axes>"
      ]
     },
     "metadata": {
      "needs_background": "light"
     },
     "output_type": "display_data"
    }
   ],
   "source": [
    "def get_top_n_bigram(corpus, n=None):\n",
    "    words=re.split(\"\\\\s+\",corpus)\n",
    "    wordnet = nltk.WordNetLemmatizer()\n",
    "    lemmatized_words=[wordnet.lemmatize(t) for t in words] \n",
    "    #stemmed_words=[porter_stemmer.stem(word=word) for word in words]\n",
    "    corpus= ' '.join(lemmatized_words)\n",
    "    vec = CountVectorizer(ngram_range=(2, 2), stop_words='english').fit(corpus)\n",
    "    bag_of_words = vec.transform(corpus)\n",
    "    sum_words = bag_of_words.sum(axis=0) \n",
    "    words_freq = [(word, sum_words[0, idx]) for word, idx in vec.vocabulary_.items()]\n",
    "    words_freq =sorted(words_freq, key = lambda x: x[1], reverse=True)\n",
    "    return words_freq[:n]\n",
    "common_words = get_top_n_bigram(df['text'], 25)\n",
    "df4 = pd.DataFrame(common_words, columns = ['ReviewText' , 'count'])\n",
    "df4.groupby('ReviewText').sum()['count'].sort_values(ascending=False).plot(\n",
    "    kind='bar', ylabel='Count', title='Top 25 bigrams in review after removing stop words')"
   ]
  },
  {
   "cell_type": "code",
   "execution_count": 16,
   "metadata": {},
   "outputs": [
    {
     "name": "stderr",
     "output_type": "stream",
     "text": [
      "C:\\Users\\Evi\\anaconda3.1\\lib\\site-packages\\seaborn\\distributions.py:2551: FutureWarning: `distplot` is a deprecated function and will be removed in a future version. Please adapt your code to use either `displot` (a figure-level function with similar flexibility) or `histplot` (an axes-level function for histograms).\n",
      "  warnings.warn(msg, FutureWarning)\n"
     ]
    },
    {
     "data": {
      "text/plain": [
       "<AxesSubplot:xlabel='Volatility', ylabel='Density'>"
      ]
     },
     "execution_count": 16,
     "metadata": {},
     "output_type": "execute_result"
    },
    {
     "data": {
      "image/png": "[encoded data removed]",
      "text/plain": [
       "<Figure size 432x288 with 1 Axes>"
      ]
     },
     "metadata": {
      "needs_background": "light"
     },
     "output_type": "display_data"
    }
   ],
   "source": [
    "sns.distplot(df['Volatility'], hist=True, kde=True, \n",
    "             bins=int(180/5), color = 'darkblue', \n",
    "             hist_kws={'edgecolor':'black'},\n",
    "             kde_kws={'linewidth': 4})"
   ]
  },
  {
   "cell_type": "markdown",
   "metadata": {},
   "source": [
    "# Linear Regression"
   ]
  },
  {
   "cell_type": "code",
   "execution_count": 39,
   "metadata": {},
   "outputs": [],
   "source": [
    "model = linear_model.LinearRegression()\n",
    "scoring = make_scorer(r2_score)\n",
    "parameters = {'fit_intercept':[True,False], 'normalize':[True,False], 'copy_X':[True, False]}\n",
    "grid_linear = GridSearchCV(model,parameters,scoring=scoring, cv=None)\n",
    "grid_linear.fit(X_train, y_train)\n",
    "\n",
    "grid_linear.best_params_\n",
    "\n",
    "\n",
    "result = grid_linear.cv_results_\n",
    "\n",
    "score=r2_score(y_test, grid_linear.best_estimator_.predict(X_test))\n",
    "\n",
    "y_pred_linear=grid_linear.best_estimator_.predict(X_test)\n",
    "\n",
    "\n"
   ]
  },
  {
   "cell_type": "code",
   "execution_count": 18,
   "metadata": {},
   "outputs": [
    {
     "name": "stdout",
     "output_type": "stream",
     "text": [
      "Best Hyperparameters::\n",
      "{'copy_X': True, 'fit_intercept': True, 'normalize': False}\n",
      "Mean Absolute Error: 0.003979022986544954\n",
      "Mean Squared Error: 3.080750553406824e-05\n",
      "R2 score: 0.46919099418975585\n"
     ]
    }
   ],
   "source": [
    "print(\"Best Hyperparameters::\\n{}\".format(grid_linear.best_params_))\n",
    "print('Mean Absolute Error:', metrics.mean_absolute_error(y_test, y_pred_linear))\n",
    "print('Mean Squared Error:', metrics.mean_squared_error(y_test, y_pred_linear))\n",
    "print('R2 score:',score)\n"
   ]
  },
  {
   "cell_type": "markdown",
   "metadata": {},
   "source": [
    "# Regression Tree"
   ]
  },
  {
   "cell_type": "code",
   "execution_count": 36,
   "metadata": {},
   "outputs": [],
   "source": [
    "param_grid = {\"min_samples_split\": range(2, 1000),\n",
    "              \"max_depth\": range(2, 10)\n",
    "              \n",
    "             }\n",
    "                "
   ]
  },
  {
   "cell_type": "code",
   "execution_count": 37,
   "metadata": {},
   "outputs": [],
   "source": [
    "scoring = make_scorer(r2_score)\n",
    "grid_decisiontree = GridSearchCV(DecisionTreeRegressor(random_state=0), param_grid=param_grid, scoring=scoring, cv=None, refit=True)\n",
    "\n",
    "grid_decisiontree.fit(X_train, y_train)\n",
    "grid_decisiontree.best_params_\n",
    "\n",
    "\n",
    "result = grid_decisiontree.cv_results_\n",
    "\n",
    "score=r2_score(y_test, grid_decisiontree.best_estimator_.predict(X_test))\n",
    "\n",
    "y_pred_tree=grid_decisiontree.best_estimator_.predict(X_test)\n",
    "\n",
    "#B. In this next section, using cross-validation for performing GridSerach on the parameter 'min_samples_split', \n",
    "#then using the best estimator for scoring on the valiation/holdout set. "
   ]
  },
  {
   "cell_type": "code",
   "execution_count": 38,
   "metadata": {},
   "outputs": [
    {
     "name": "stdout",
     "output_type": "stream",
     "text": [
      "Best Hyperparameters::\n",
      "{'max_depth': 2, 'min_samples_split': 321}\n",
      "Mean Absolute Error: 0.005070219695706436\n",
      "Mean Squared Error: 4.292008602548731e-05\n"
     ]
    }
   ],
   "source": [
    "print(\"Best Hyperparameters::\\n{}\".format(grid_decisiontree.best_params_))\n",
    "print('Mean Absolute Error:', metrics.mean_absolute_error(y_test, y_pred_tree))\n",
    "print('Mean Squared Error:', metrics.mean_squared_error(y_test, y_pred_tree))\n"
   ]
  },
  {
   "cell_type": "markdown",
   "metadata": {},
   "source": [
    "# Neural Network"
   ]
  },
  {
   "cell_type": "code",
   "execution_count": 19,
   "metadata": {},
   "outputs": [
    {
     "data": {
      "text/plain": [
       "(400, 10000)"
      ]
     },
     "execution_count": 19,
     "metadata": {},
     "output_type": "execute_result"
    }
   ],
   "source": [
    "X_train_keras = X_train.toarray()\n",
    "X_train_keras.shape"
   ]
  },
  {
   "cell_type": "code",
   "execution_count": 20,
   "metadata": {},
   "outputs": [
    {
     "name": "stdout",
     "output_type": "stream",
     "text": [
      "Epoch 1/8\n",
      "12/12 [==============================] - 1s 35ms/step - loss: 1.0120e-04 - mse: 1.0120e-04 - val_loss: 6.5069e-05 - val_mse: 6.5069e-05\n",
      "WARNING:tensorflow:Early stopping conditioned on metric `acc` which is not available. Available metrics are: loss,mse,val_loss,val_mse\n",
      "Epoch 2/8\n",
      "12/12 [==============================] - 0s 17ms/step - loss: 5.3608e-05 - mse: 5.3608e-05 - val_loss: 8.7209e-05 - val_mse: 8.7209e-05\n",
      "WARNING:tensorflow:Early stopping conditioned on metric `acc` which is not available. Available metrics are: loss,mse,val_loss,val_mse\n",
      "Epoch 3/8\n",
      "12/12 [==============================] - 0s 16ms/step - loss: 2.4415e-05 - mse: 2.4415e-05 - val_loss: 7.6986e-05 - val_mse: 7.6986e-05\n",
      "WARNING:tensorflow:Early stopping conditioned on metric `acc` which is not available. Available metrics are: loss,mse,val_loss,val_mse\n",
      "Epoch 4/8\n",
      "12/12 [==============================] - 0s 16ms/step - loss: 1.1389e-05 - mse: 1.1389e-05 - val_loss: 6.2113e-05 - val_mse: 6.2113e-05\n",
      "WARNING:tensorflow:Early stopping conditioned on metric `acc` which is not available. Available metrics are: loss,mse,val_loss,val_mse\n",
      "Epoch 5/8\n",
      "12/12 [==============================] - 0s 17ms/step - loss: 7.3614e-06 - mse: 7.3614e-06 - val_loss: 7.7697e-05 - val_mse: 7.7697e-05\n",
      "WARNING:tensorflow:Early stopping conditioned on metric `acc` which is not available. Available metrics are: loss,mse,val_loss,val_mse\n",
      "Epoch 6/8\n",
      "12/12 [==============================] - 0s 17ms/step - loss: 4.5550e-06 - mse: 4.5550e-06 - val_loss: 6.9895e-05 - val_mse: 6.9895e-05\n",
      "WARNING:tensorflow:Early stopping conditioned on metric `acc` which is not available. Available metrics are: loss,mse,val_loss,val_mse\n",
      "Epoch 7/8\n",
      "12/12 [==============================] - 0s 15ms/step - loss: 3.4846e-06 - mse: 3.4846e-06 - val_loss: 6.5010e-05 - val_mse: 6.5010e-05\n",
      "WARNING:tensorflow:Early stopping conditioned on metric `acc` which is not available. Available metrics are: loss,mse,val_loss,val_mse\n",
      "Epoch 8/8\n",
      "12/12 [==============================] - 0s 17ms/step - loss: 1.9546e-06 - mse: 1.9546e-06 - val_loss: 7.3066e-05 - val_mse: 7.3066e-05\n",
      "WARNING:tensorflow:Early stopping conditioned on metric `acc` which is not available. Available metrics are: loss,mse,val_loss,val_mse\n"
     ]
    }
   ],
   "source": [
    "callbacks_list = [\n",
    "keras.callbacks.EarlyStopping(monitor='acc', patience=1,),\n",
    "keras.callbacks.ModelCheckpoint(filepath='neural_network.h5', monitor='val_loss', save_best_only=True,)\n",
    "]\n",
    "\n",
    "\n",
    "text_input =  Input(shape= (X_train.shape[1],), dtype='float64')\n",
    "x = layers.Flatten()(text_input)\n",
    "x = layers.Dense(8, activation='relu')(x)\n",
    "x = layers.Dense(4, activation='relu')(x)\n",
    "x = layers.Dense(4, activation='relu')(x)\n",
    "x = layers.Dense(4, activation='relu')(x)\n",
    "output = layers.Dense(1)(x)\n",
    "\n",
    "model = Model(text_input, output)\n",
    "model.compile(optimizer='adam',\n",
    "loss='mean_squared_error',\n",
    "metrics=['mse'])\n",
    "\n",
    "\n",
    "history = model.fit(X_train_keras, y_train, epochs=8, callbacks=callbacks_list, validation_split=0.1)"
   ]
  },
  {
   "cell_type": "code",
   "execution_count": 21,
   "metadata": {},
   "outputs": [
    {
     "data": {
      "image/png": "[encoded data removed]",
      "text/plain": [
       "<Figure size 432x288 with 1 Axes>"
      ]
     },
     "metadata": {
      "needs_background": "light"
     },
     "output_type": "display_data"
    }
   ],
   "source": [
    "loss = history.history['loss']\n",
    "val_loss = history.history['val_loss']\n",
    "epochs = range(1, len(loss) + 1)\n",
    "plt.figure()\n",
    "plt.plot(epochs, loss, 'bo', label='Training loss')\n",
    "plt.plot(epochs, val_loss, 'b', label='Validation loss')\n",
    "plt.title('Training and validation loss')\n",
    "plt.legend()\n",
    "plt.show()"
   ]
  },
  {
   "cell_type": "code",
   "execution_count": 22,
   "metadata": {},
   "outputs": [
    {
     "name": "stdout",
     "output_type": "stream",
     "text": [
      "Model: \"model\"\n",
      "_________________________________________________________________\n",
      "Layer (type)                 Output Shape              Param #   \n",
      "=================================================================\n",
      "input_1 (InputLayer)         [(None, 10000)]           0         \n",
      "_________________________________________________________________\n",
      "flatten (Flatten)            (None, 10000)             0         \n",
      "_________________________________________________________________\n",
      "dense (Dense)                (None, 8)                 80008     \n",
      "_________________________________________________________________\n",
      "dense_1 (Dense)              (None, 4)                 36        \n",
      "_________________________________________________________________\n",
      "dense_2 (Dense)              (None, 4)                 20        \n",
      "_________________________________________________________________\n",
      "dense_3 (Dense)              (None, 4)                 20        \n",
      "_________________________________________________________________\n",
      "dense_4 (Dense)              (None, 1)                 5         \n",
      "=================================================================\n",
      "Total params: 80,089\n",
      "Trainable params: 80,089\n",
      "Non-trainable params: 0\n",
      "_________________________________________________________________\n",
      "None\n"
     ]
    }
   ],
   "source": [
    "n_network = models.load_model('neural_network.h5')\n",
    "print(n_network.summary())"
   ]
  },
  {
   "cell_type": "code",
   "execution_count": 23,
   "metadata": {},
   "outputs": [
    {
     "name": "stdout",
     "output_type": "stream",
     "text": [
      "4/4 [==============================] - 0s 3ms/step - loss: 5.1101e-05 - mse: 5.1101e-05\n",
      "5.110067286295816e-05\n"
     ]
    }
   ],
   "source": [
    "test_loss, test_acc = n_network.evaluate(X_test.toarray(), y_test)\n",
    "print(test_acc)"
   ]
  },
  {
   "cell_type": "code",
   "execution_count": 24,
   "metadata": {},
   "outputs": [
    {
     "name": "stdout",
     "output_type": "stream",
     "text": [
      "0.005021947621312868 \n",
      " 5.110067236864534e-05 \n",
      " 0.22671594708447917\n"
     ]
    }
   ],
   "source": [
    "nn_predict = n_network.predict(X_test.toarray())\n",
    "nn_mae = sklearn.metrics.mean_absolute_error(y_test, nn_predict)\n",
    "nn_mse = sklearn.metrics.mean_squared_error(y_test, nn_predict)\n",
    "nn_mape = sklearn.metrics.mean_absolute_percentage_error(y_test, nn_predict)\n",
    "\n",
    "print(nn_mae,\"\\n\",nn_mse,\"\\n\",nn_mape)"
   ]
  },
  {
   "cell_type": "markdown",
   "metadata": {},
   "source": [
    "# Gradient Boosting"
   ]
  },
  {
   "cell_type": "code",
   "execution_count": 25,
   "metadata": {},
   "outputs": [],
   "source": [
    "param_gb = {'learning_rate': [0.05, 0.1, 0.15], 'n_estimators': range(100,140,5)}\n",
    "\n",
    "gb_grid = GridSearchCV(estimator=GradientBoostingRegressor(), param_grid=param_gb, cv=10, n_jobs=-1)\n",
    "gb_grid = gb_grid.fit(X_train, y_train)"
   ]
  },
  {
   "cell_type": "code",
   "execution_count": 26,
   "metadata": {},
   "outputs": [
    {
     "name": "stdout",
     "output_type": "stream",
     "text": [
      "{'learning_rate': 0.15, 'n_estimators': 130}\n"
     ]
    }
   ],
   "source": [
    "gb_predict = gb_grid.predict(X_test)\n",
    "print(gb_grid.best_params_)"
   ]
  },
  {
   "cell_type": "code",
   "execution_count": 27,
   "metadata": {},
   "outputs": [
    {
     "name": "stdout",
     "output_type": "stream",
     "text": [
      "0.004398267851155752 \n",
      " 3.8201156106664015e-05 \n",
      " 0.21760601288371378\n"
     ]
    }
   ],
   "source": [
    "gb_mae = sklearn.metrics.mean_absolute_error(y_test, gb_predict)\n",
    "gb_mse = sklearn.metrics.mean_squared_error(y_test, gb_predict)\n",
    "gb_mape = sklearn.metrics.mean_absolute_percentage_error(y_test, gb_predict)\n",
    "print(gb_mae,\"\\n\",gb_mse,\"\\n\",gb_mape)"
   ]
  },
  {
   "cell_type": "markdown",
   "metadata": {},
   "source": [
    "# Elastic Net"
   ]
  },
  {
   "cell_type": "code",
   "execution_count": 28,
   "metadata": {},
   "outputs": [],
   "source": [
    "param_en = {'alpha': np.arange(0.1,1,0.1), \"l1_ratio\": np.arange(0.1,1,0.1)}\n",
    "\n",
    "en_grid = GridSearchCV(estimator=ElasticNet(random_state = 0, positive=True), param_grid=param_en, cv=10, n_jobs=-1)\n",
    "en_grid = en_grid.fit(X_train, y_train)"
   ]
  },
  {
   "cell_type": "code",
   "execution_count": 29,
   "metadata": {},
   "outputs": [
    {
     "name": "stdout",
     "output_type": "stream",
     "text": [
      "{'alpha': 0.1, 'l1_ratio': 0.1}\n"
     ]
    }
   ],
   "source": [
    "en_predict = en_grid.predict(X_test)\n",
    "print(en_grid.best_params_)\n"
   ]
  },
  {
   "cell_type": "code",
   "execution_count": 30,
   "metadata": {},
   "outputs": [
    {
     "name": "stdout",
     "output_type": "stream",
     "text": [
      "0.0057241981217626865 \n",
      " 5.8554838551466324e-05 \n",
      " 0.28368402985094276\n"
     ]
    }
   ],
   "source": [
    "en_mae = sklearn.metrics.mean_absolute_error(y_test, en_predict)\n",
    "en_mse = sklearn.metrics.mean_squared_error(y_test, en_predict)\n",
    "en_mape = sklearn.metrics.mean_absolute_percentage_error(y_test, en_predict)\n",
    "\n",
    "print(en_mae,\"\\n\",en_mse,\"\\n\",en_mape)"
   ]
  },
  {
   "cell_type": "markdown",
   "metadata": {},
   "source": [
    "# Mean"
   ]
  },
  {
   "cell_type": "code",
   "execution_count": 31,
   "metadata": {},
   "outputs": [
    {
     "name": "stdout",
     "output_type": "stream",
     "text": [
      "0.005724198121762685 \n",
      " 5.855483855146635e-05 \n",
      " 0.2836840298509424\n"
     ]
    }
   ],
   "source": [
    "base_predict = [y_train.mean()]*100\n",
    "\n",
    "base_mae = sklearn.metrics.mean_absolute_error(y_test, base_predict)\n",
    "base_mse = sklearn.metrics.mean_squared_error(y_test, base_predict)\n",
    "base_mape = sklearn.metrics.mean_absolute_percentage_error(y_test, base_predict)\n",
    "\n",
    "print(base_mae,\"\\n\",base_mse,\"\\n\",base_mape)"
   ]
  },
  {
   "cell_type": "markdown",
   "metadata": {},
   "source": [
    "# Results"
   ]
  },
  {
   "cell_type": "markdown",
   "metadata": {},
   "source": [
    "MAE (Mean Absolute Error) output is non-negative floating point. The best value is 0.0.\n",
    "\n",
    "MSE (Mean Squared Error) is a non-negative floating point value (the best value is 0.0), or an array of floating point values, one for each individual target.\n",
    "\n",
    "MAPE output is non-negative floating point. The best value is 0.0. But note the fact that bad predictions can lead to arbitarily large MAPE values, especially if some y_true values are very close to zero. Note that we return a large value instead of inf when y_true is zero."
   ]
  },
  {
   "cell_type": "code",
   "execution_count": 59,
   "metadata": {},
   "outputs": [],
   "source": [
    "predictions = [base_predict, gb_predict, en_predict, y_pred_linear, y_pred_tree]\n",
    "classifier = [\"base\", \"Gradientboosting\", \"Elastic Net\", \"OLS\", \"Decision Tree\"]\n",
    "mae = []\n",
    "mse = []\n",
    "mape = []\n",
    "\n",
    "for y in predictions:\n",
    "    mae.append(sklearn.metrics.mean_absolute_error(y_test, y))\n",
    "    mse.append(sklearn.metrics.mean_squared_error(y_test, y))\n",
    "    mape.append(f\"{sklearn.metrics.mean_absolute_percentage_error(y_test, y)*100:.2f}%\")\n",
    "    \n"
   ]
  },
  {
   "cell_type": "code",
   "execution_count": 60,
   "metadata": {},
   "outputs": [
    {
     "data": {
      "text/html": [
       "<div>\n",
       "<style scoped>\n",
       "    .dataframe tbody tr th:only-of-type {\n",
       "        vertical-align: middle;\n",
       "    }\n",
       "\n",
       "    .dataframe tbody tr th {\n",
       "        vertical-align: top;\n",
       "    }\n",
       "\n",
       "    .dataframe thead th {\n",
       "        text-align: right;\n",
       "    }\n",
       "</style>\n",
       "<table border=\"1\" class=\"dataframe\">\n",
       "  <thead>\n",
       "    <tr style=\"text-align: right;\">\n",
       "      <th></th>\n",
       "      <th>base</th>\n",
       "      <th>Gradientboosting</th>\n",
       "      <th>Elastic Net</th>\n",
       "      <th>OLS</th>\n",
       "      <th>Decision Tree</th>\n",
       "    </tr>\n",
       "  </thead>\n",
       "  <tbody>\n",
       "    <tr>\n",
       "      <th>MAE</th>\n",
       "      <td>0.0057242</td>\n",
       "      <td>0.00439827</td>\n",
       "      <td>0.0057242</td>\n",
       "      <td>0.00397902</td>\n",
       "      <td>0.00507022</td>\n",
       "    </tr>\n",
       "    <tr>\n",
       "      <th>MSE</th>\n",
       "      <td>5.85548e-05</td>\n",
       "      <td>3.82012e-05</td>\n",
       "      <td>5.85548e-05</td>\n",
       "      <td>3.08075e-05</td>\n",
       "      <td>4.29201e-05</td>\n",
       "    </tr>\n",
       "    <tr>\n",
       "      <th>MAPE</th>\n",
       "      <td>28.37%</td>\n",
       "      <td>21.76%</td>\n",
       "      <td>28.37%</td>\n",
       "      <td>19.74%</td>\n",
       "      <td>25.84%</td>\n",
       "    </tr>\n",
       "  </tbody>\n",
       "</table>\n",
       "</div>"
      ],
      "text/plain": [
       "             base Gradientboosting  Elastic Net          OLS Decision Tree\n",
       "MAE     0.0057242       0.00439827    0.0057242   0.00397902    0.00507022\n",
       "MSE   5.85548e-05      3.82012e-05  5.85548e-05  3.08075e-05   4.29201e-05\n",
       "MAPE       28.37%           21.76%       28.37%       19.74%        25.84%"
      ]
     },
     "execution_count": 60,
     "metadata": {},
     "output_type": "execute_result"
    }
   ],
   "source": [
    "df=pd.DataFrame([mae,mse,mape], columns=classifier, index=['MAE','MSE','MAPE'])\n",
    "df"
   ]
  },
  {
   "cell_type": "code",
   "execution_count": null,
   "metadata": {},
   "outputs": [],
   "source": []
  }
 ],
 "metadata": {
  "kernelspec": {
   "display_name": "Python 3",
   "language": "python",
   "name": "python3"
  },
  "language_info": {
   "codemirror_mode": {
    "name": "ipython",
    "version": 3
   },
   "file_extension": ".py",
   "mimetype": "text/x-python",
   "name": "python",
   "nbconvert_exporter": "python",
   "pygments_lexer": "ipython3",
   "version": "3.8.5"
  }
 },
 "nbformat": 4,
 "nbformat_minor": 4
}
