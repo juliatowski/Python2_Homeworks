{
 "cells": [
  {
   "cell_type": "code",
   "execution_count": 1,
   "metadata": {},
   "outputs": [],
   "source": [
    "import requests\n",
    "from bs4 import BeautifulSoup\n",
    "import pandas as pd\n",
    "from datetime import datetime\n",
    "import time\n",
    "import json\n",
    "from selenium import webdriver\n",
    "import re\n",
    "import random\n",
    "import os\n",
    "from selenium.webdriver.common.keys import Keys\n"
   ]
  },
  {
   "cell_type": "code",
   "execution_count": 2,
   "metadata": {},
   "outputs": [],
   "source": [
    "main_url = \"https://finance.yahoo.com/news\"\n",
    "driver = webdriver.Chrome()\n",
    "driver.get(main_url)\n",
    "sleep_sec= 4"
   ]
  },
  {
   "cell_type": "code",
   "execution_count": 3,
   "metadata": {},
   "outputs": [],
   "source": [
    "# accepts the terms field\n",
    "driver.find_element_by_xpath(\"//button[@type='submit']\").click()\n",
    "# loop as long there get new posts loaded on the site. all posts are inside the \"li\" tag\n",
    "init_li=0\n",
    "new_li = 1\n",
    "while new_li > init_li:\n",
    "    init_li = len(driver.find_elements_by_tag_name(\"li\"))\n",
    "    driver.find_element_by_tag_name('body').send_keys(Keys.END)\n",
    "    time.sleep(sleep_sec)\n",
    "    new_li=len(driver.find_elements_by_tag_name(\"li\"))"
   ]
  },
  {
   "cell_type": "code",
   "execution_count": 4,
   "metadata": {},
   "outputs": [],
   "source": [
    "time.sleep(sleep_sec)\n",
    "# gets all urls of posts including ads\n",
    "posts_url = [x.get_attribute(\"href\") for x in driver.find_elements_by_xpath(\"//h3/a\")]\n",
    "# gets only the urls which lead to a yahoo finance news site\n",
    "articles_url = [x for x in posts_url if \"https://finance.yahoo.com/news\" in x]\n",
    "# driver.close()"
   ]
  },
  {
   "cell_type": "code",
   "execution_count": 5,
   "metadata": {
    "tags": []
   },
   "outputs": [
    {
     "output_type": "stream",
     "name": "stdout",
     "text": [
      "206 167\n"
     ]
    }
   ],
   "source": [
    "print(len(posts_url),len(articles_url))"
   ]
  },
  {
   "cell_type": "code",
   "execution_count": 6,
   "metadata": {},
   "outputs": [
    {
     "output_type": "stream",
     "name": "stdout",
     "text": [
      "https://finance.yahoo.com/news/asia-stocks-track-u-rise-215720588.html\nhttps://finance.yahoo.com/news/1-brazil-govt-cuts-2021-174528830.html\nhttps://finance.yahoo.com/news/analysis-retail-investors-learn-love-174327658.html\nhttps://finance.yahoo.com/news/fed-tools-showing-signs-stress-170702834.html\nhttps://finance.yahoo.com/news/alden-poised-acquire-tribune-soon-153053354.html\nhttps://finance.yahoo.com/news/municipal-market-sales-slacken-raising-173430866.html\nhttps://finance.yahoo.com/news/this-week-in-bideonomics-bidens-best-revenue-idea-172941001.html\nhttps://finance.yahoo.com/news/m-profit-seen-crashing-90-172915616.html\nhttps://finance.yahoo.com/news/quake-yunnan-china-kills-two-172616285.html\nhttps://finance.yahoo.com/news/k-c-southern-agrees-30-150300178.html\nhttps://finance.yahoo.com/news/1-elon-musk-says-tesla-172224645.html\nhttps://finance.yahoo.com/news/good-rx-ceo-dismisses-amazon-threat-customers-love-to-talk-to-a-person-in-a-white-coat-171844108.html\nhttps://finance.yahoo.com/news/india-asks-social-media-firms-171808928.html\nhttps://finance.yahoo.com/news/inflation-bets-mount-fear-brazil-100000434.html\nhttps://finance.yahoo.com/news/bmo-investment-arm-sold-microsoft-171234456.html\nhttps://finance.yahoo.com/news/1-feds-harker-says-important-171208089.html\nhttps://finance.yahoo.com/news/stock-market-news-live-updates-may-21-2021-221344440.html\nhttps://finance.yahoo.com/news/tech-group-solutions-30-considers-170428343.html\nhttps://finance.yahoo.com/news/factbox-five-things-know-epics-170159997.html\nhttps://finance.yahoo.com/news/1-kentucky-securities-regulator-opens-164634026.html\nhttps://finance.yahoo.com/news/crypto-limps-weekend-hammer-blows-055114490.html\nhttps://finance.yahoo.com/news/norwegian-air-raises-fresh-capital-164240523.html\nhttps://finance.yahoo.com/news/gold-heads-third-weekly-advance-023254336.html\nhttps://finance.yahoo.com/news/tesla-headed-longest-weekly-losing-163457064.html\nhttps://finance.yahoo.com/news/1-coca-cola-eu-antitrust-163358676.html\nhttps://finance.yahoo.com/news/1-enbridge-fluxys-eig-bid-163237151.html\nhttps://finance.yahoo.com/news/retail-traders-now-parking-cash-163109335.html\nhttps://finance.yahoo.com/news/1-investors-file-class-action-162712519.html\nhttps://finance.yahoo.com/news/n-y-offers-lottery-tickets-220608168.html\nhttps://finance.yahoo.com/news/large-lbo-back-goldman-sees-162223708.html\nhttps://finance.yahoo.com/news/colombia-risks-more-downgrades-forced-162142940.html\nhttps://finance.yahoo.com/news/colombia-bars-travelers-india-over-161920263.html\nhttps://finance.yahoo.com/news/heres-what-fast-food-giants-companies-are-doing-to-support-the-covid-19-vaccine-push-134213555.html\nhttps://finance.yahoo.com/news/archegos-fiasco-spurs-regulators-demand-161832771.html\nhttps://finance.yahoo.com/news/foot-locker-to-close-footaction-stores-after-colossal-q-1-earnings-161818976.html\nhttps://finance.yahoo.com/news/1-china-vows-crack-down-161730010.html\nhttps://finance.yahoo.com/news/cryptocurrency-price-crash-reminds-traders-of-one-harsh-truth-strategist-161416060.html\nhttps://finance.yahoo.com/news/eu-antitrust-regulators-investigating-coca-161313370.html\nhttps://finance.yahoo.com/news/china-must-set-near-term-161040005.html\nhttps://finance.yahoo.com/news/white-house-partners-dating-apps-161002139.html\nhttps://finance.yahoo.com/news/us-stocks-p-500-dow-160901760.html\nhttps://finance.yahoo.com/news/1-roughly-half-halliburtons-shareholders-160529160.html\nhttps://finance.yahoo.com/news/eu-antitrust-regulators-investigating-coca-160438863.html\nhttps://finance.yahoo.com/news/oil-steadies-near-62-slump-235209809.html\nhttps://finance.yahoo.com/news/g20-nations-join-g7-countries-154658945.html\nhttps://finance.yahoo.com/news/loeb-griffin-home-visit-nyc-174109395.html\nhttps://finance.yahoo.com/news/investors-file-class-action-against-154049455.html\nhttps://finance.yahoo.com/news/brazilian-infrastructure-firm-ccr-may-153859657.html\nhttps://finance.yahoo.com/news/sporting-lisbon-creditors-seek-exit-101107050.html\nhttps://finance.yahoo.com/news/top-hedge-fund-brazil-bolsters-153825567.html\nhttps://finance.yahoo.com/news/biden-needs-more-order-limit-060000429.html\nhttps://finance.yahoo.com/news/hollywood-can-absolutely-make-political-statements-tribeca-enterprises-ceo-153649331.html\nhttps://finance.yahoo.com/news/1-apples-tim-cook-takes-153554112.html\nhttps://finance.yahoo.com/news/u-k-homeowners-could-forced-140446225.html\nhttps://finance.yahoo.com/news/wrapup-1-u-manufacturing-powers-153356284.html\nhttps://finance.yahoo.com/news/italy-reports-218-coronavirus-deaths-153207446.html\nhttps://finance.yahoo.com/news/seaboard-foods-fails-attempt-delay-152921794.html\nhttps://finance.yahoo.com/news/kl-shipbuilder-gets-ahead-lawsuit-152536906.html\nhttps://finance.yahoo.com/news/indias-jsw-steel-examining-bid-152516163.html\nhttps://finance.yahoo.com/news/g7-nations-agree-stop-international-152506303.html\nhttps://finance.yahoo.com/news/1-imf-says-ending-covid-152322487.html\nhttps://finance.yahoo.com/news/emerging-markets-mexican-peso-dips-151741756.html\nhttps://finance.yahoo.com/news/treasuries-u-yields-trade-flat-151700186.html\nhttps://finance.yahoo.com/news/warren-buffett-gave-this-great-investing-tip-to-nfl-defenseman-ndamukong-suh-151628480.html\nhttps://finance.yahoo.com/news/decided-pull-pin-wheat-misery-151549721.html\nhttps://finance.yahoo.com/news/1-canadian-pacific-says-open-151534609.html\nhttps://finance.yahoo.com/news/gas-plants-spew-carbon-long-110031242.html\nhttps://finance.yahoo.com/news/roughly-46-halliburton-shareholders-reject-151405070.html\nhttps://finance.yahoo.com/news/clover-health-president-we-seek-talent-wherever-we-can-find-and-recruit-it-151302416.html\nhttps://finance.yahoo.com/news/1-korea-seeks-tax-deductions-151239846.html\nhttps://finance.yahoo.com/news/foreign-airlines-begin-resume-tel-150918731.html\nhttps://finance.yahoo.com/news/u-congress-hold-hearing-spacs-150647760.html\nhttps://finance.yahoo.com/news/why-we-should-expect-more-streaming-deals-after-shocker-warner-media-discovery-merger-150533985.html\nhttps://finance.yahoo.com/news/sinclair-sports-networks-start-formal-215105962.html\nhttps://finance.yahoo.com/news/jpmorgans-cfo-described-pensive-excel-150008166.html\nhttps://finance.yahoo.com/news/debt-relief-u-minority-farmers-150000441.html\nhttps://finance.yahoo.com/news/male-dominated-private-equity-lack-094951025.html\nhttps://finance.yahoo.com/news/1-britain-pandemic-radar-track-145830464.html\nhttps://finance.yahoo.com/news/snap-buy-augmented-reality-company-145639395.html\nhttps://finance.yahoo.com/news/commerce-secretary-gina-raimondo-corporate-tax-rate-145624155.html\nhttps://finance.yahoo.com/news/records-abound-ihs-markit-gauges-134500835.html\nhttps://finance.yahoo.com/news/ford-ceo-to-electric-truck-rivals-we-are-the-coca-cola-of-pickups-145514702.html\nhttps://finance.yahoo.com/news/china-says-crack-down-bitcoin-145443522.html\nhttps://finance.yahoo.com/news/defying-u-sanctions-russian-cybersecurity-145025245.html\nhttps://finance.yahoo.com/news/pandemic-helping-risky-real-estate-144907614.html\nhttps://finance.yahoo.com/news/snap-buy-augmented-reality-company-144804143.html\nhttps://finance.yahoo.com/news/microsoft-exec-ceos-that-force-workers-back-into-office-are-missing-the-point-143509733.html\nhttps://finance.yahoo.com/news/3-mexico-central-bank-chief-143506370.html\nhttps://finance.yahoo.com/news/forex-dollar-higher-upbeat-u-143200830.html\nhttps://finance.yahoo.com/news/delta-resume-flight-tel-aviv-143009605.html\nhttps://finance.yahoo.com/news/eu-persuades-u-ease-covid-142729780.html\nhttps://finance.yahoo.com/news/samsung-elec-invest-17-billion-142631495.html\nhttps://finance.yahoo.com/news/china-says-crack-down-bitcoin-142405226.html\nhttps://finance.yahoo.com/news/emerging-markets-latam-fx-muted-142239107.html\nhttps://finance.yahoo.com/news/us-stocks-wall-st-extends-142053818.html\nhttps://finance.yahoo.com/news/united-imaging-weighs-1-billion-101921604.html\nhttps://finance.yahoo.com/news/big-european-states-warm-u-141935452.html\nhttps://finance.yahoo.com/news/frenzy-raw-materials-reorders-6-101257246.html\nhttps://finance.yahoo.com/news/biden-restoring-soul-america-south-141757221.html\nhttps://finance.yahoo.com/news/u-sales-previously-owned-homes-141702629.html\nhttps://finance.yahoo.com/news/indias-indigo-selects-cfm-engines-141226029.html\nhttps://finance.yahoo.com/news/college-grads-how-to-get-hired-with-no-work-experience-141202388.html\nhttps://finance.yahoo.com/news/unicredit-stuns-investors-skipping-coupon-103240823.html\nhttps://finance.yahoo.com/news/u-existing-home-sales-extend-140526644.html\nhttps://finance.yahoo.com/news/1-euro-zone-upbeat-recovery-140139439.html\nhttps://finance.yahoo.com/news/existing-home-sales-april-2021-140007789-140119590.html\nhttps://finance.yahoo.com/news/private-equity-fumes-over-higher-135947396.html\nhttps://finance.yahoo.com/news/4-deere-raises-forecast-profit-135220061.html\nhttps://finance.yahoo.com/news/u-manufacturing-activity-powers-ahead-135107089.html\nhttps://finance.yahoo.com/news/canadian-pacific-says-open-engaging-134911097.html\nhttps://finance.yahoo.com/news/1-whatsapp-says-still-discussing-134757912.html\nhttps://finance.yahoo.com/news/commerce-secretary-gina-raimondo-china-trade-134452903.html\nhttps://finance.yahoo.com/news/nvidia-sets-4-1-stock-134342936.html\nhttps://finance.yahoo.com/news/1-canada-retail-sales-seen-134332512.html\nhttps://finance.yahoo.com/news/nvidia-shares-jump-announcing-4-134259491.html\nhttps://finance.yahoo.com/news/graphic-u-investors-flee-money-133951733.html\nhttps://finance.yahoo.com/news/1-nvidia-sets-4-1-133752914.html\nhttps://finance.yahoo.com/news/1-netflix-looking-hire-executive-133530076.html\nhttps://finance.yahoo.com/news/1-u-proposal-global-corporate-133517364.html\nhttps://finance.yahoo.com/news/canadian-pacific-says-open-engaging-133442165.html\nhttps://finance.yahoo.com/news/daimler-disagrees-tesla-vw-batteries-133000123.html\nhttps://finance.yahoo.com/news/1-india-pfizer-hit-impasse-132924694.html\nhttps://finance.yahoo.com/news/canada-fx-debt-canadian-dollar-132735870.html\nhttps://finance.yahoo.com/news/apple-ceo-tim-cook-epic-trial-testimony-132409632.html\nhttps://finance.yahoo.com/news/snoop-dogg-backed-oxford-cannabinoid-110338089.html\nhttps://finance.yahoo.com/news/netflix-looking-hire-executive-gaming-131840614.html\nhttps://finance.yahoo.com/news/german-prosecutors-arrest-man-over-131541851.html\nhttps://finance.yahoo.com/news/apparel-chain-gap-says-u-131101592.html\nhttps://finance.yahoo.com/news/google-ceo-sundar-pichai-on-the-future-of-work-131001210.html\nhttps://finance.yahoo.com/news/fujimori-looks-speed-projects-tap-204453313.html\nhttps://finance.yahoo.com/news/1-share-dollars-doses-rich-130249064.html\nhttps://finance.yahoo.com/news/white-house-partners-tinder-parent-125946980.html\nhttps://finance.yahoo.com/news/enbridge-fluxys-eig-bid-brazils-125759092.html\nhttps://finance.yahoo.com/news/us-stocks-wall-st-set-125703172.html\nhttps://finance.yahoo.com/news/southern-delays-georgia-vogtle-3-125623152.html\nhttps://finance.yahoo.com/news/kentucky-securities-regulator-opens-inquiry-125557975.html\nhttps://finance.yahoo.com/news/tgi-fridays-list-london-u-125040944.html\nhttps://finance.yahoo.com/news/6-japan-approves-more-covid-125009226.html\nhttps://finance.yahoo.com/news/1-uks-johnson-tells-china-124555674.html\nhttps://finance.yahoo.com/news/u-k-cases-covid-variant-211828837.html\nhttps://finance.yahoo.com/news/ecb-lagarde-signals-no-major-123952083.html\nhttps://finance.yahoo.com/news/imf-says-ending-covid-19-123853439.html\nhttps://finance.yahoo.com/news/iran-uses-crypto-mining-lessen-123728108.html\nhttps://finance.yahoo.com/news/exclusive-boeing-plans-737-max-123553717.html\nhttps://finance.yahoo.com/news/pope-francis-first-electric-popemobile-122750675.html\nhttps://finance.yahoo.com/news/1-ecbs-lagarde-says-too-122344623.html\nhttps://finance.yahoo.com/news/euro-zone-upbeat-recovery-wary-122225770.html\nhttps://finance.yahoo.com/news/1-eu-advises-against-second-122133483.html\nhttps://finance.yahoo.com/news/1-eu-regulator-backs-gsk-122111886.html\nhttps://finance.yahoo.com/news/daimler-truck-predicts-engine-job-121720348.html\nhttps://finance.yahoo.com/news/u-k-seeks-long-transition-121206614.html\nhttps://finance.yahoo.com/news/unicredit-skip-coupon-payment-cashes-121032563.html\nhttps://finance.yahoo.com/news/1-lebanon-president-says-pm-120533998.html\nhttps://finance.yahoo.com/news/typical-unicorn-founder-started-business-120026888.html\nhttps://finance.yahoo.com/news/u-airline-breeze-airways-makes-120000253.html\nhttps://finance.yahoo.com/news/generalist-funds-flow-back-mining-115819301.html\nhttps://finance.yahoo.com/news/malaysian-electronics-firm-ata-says-115406807.html\nhttps://finance.yahoo.com/news/3-eus-top-court-orders-115129477.html\nhttps://finance.yahoo.com/news/ford-ceo-told-biden-to-step-on-the-throttle-when-the-president-test-drove-the-new-all-electric-f-150-162152239.html\nhttps://finance.yahoo.com/news/commerce-secretary-gina-raimondo-corporate-tax-rate-145624155.html\nhttps://finance.yahoo.com/news/this-week-in-bideonomics-bidens-best-revenue-idea-172941001.html\nhttps://finance.yahoo.com/news/one-big-problem-biden-doesnt-have-a-plan-to-solve-190546145.html\nhttps://finance.yahoo.com/news/cryptocurrency-price-crash-reminds-traders-of-one-harsh-truth-strategist-161416060.html\nhttps://finance.yahoo.com/news/stimulus-checks-could-start-hitting-102016066.html\nhttps://finance.yahoo.com/news/good-rx-ceo-dismisses-amazon-threat-customers-love-to-talk-to-a-person-in-a-white-coat-171844108.html\nhttps://finance.yahoo.com/news/employer-mask-mandates-legal-covid-19-vaccination-121346094.html\nhttps://finance.yahoo.com/news/fourth-stimulus-check-over-80-193000385.html\n"
     ]
    }
   ],
   "source": [
    "for x in articles_url: \n",
    "    print(x)"
   ]
  },
  {
   "cell_type": "code",
   "execution_count": 7,
   "metadata": {},
   "outputs": [
    {
     "output_type": "stream",
     "name": "stdout",
     "text": [
      "directory created\n"
     ]
    }
   ],
   "source": [
    "dir_save=\"yahoo_finance_news\"\n",
    "base_path = os.getcwd()\n",
    "articles_paths = os.path.join(base_path, dir_save)\n",
    "dir_saved= os.path.join(articles_paths, dir_save)\n",
    "try:\n",
    "   os.mkdir(dir_save)\n",
    "   print(\"directory created\")\n",
    "except:\n",
    "   print(\"directory exists\")"
   ]
  },
  {
   "cell_type": "code",
   "execution_count": 15,
   "metadata": {},
   "outputs": [],
   "source": [
    "source=[]\n",
    "title=[]\n",
    "time=[]\n",
    "text=[]\n",
    "paths=[]\n",
    "html_names = []\n",
    "driver = webdriver.Chrome()\n",
    "for counter, article in enumerate(articles_url[:3],1):\n",
    "    driver.get(article)\n",
    "#agreing to terms and conditions of webpage\n",
    "    try:\n",
    "        button_agree = driver.find_element_by_xpath(\"//button[@type='submit']\").click()\n",
    "        button_agree.click()\n",
    "    except:\n",
    "        pass\n",
    "    # clicks button to see whole text\n",
    "    try:\n",
    "        driver.find_element_by_xpath(\"//button[contains( text(), 'Story continues')]\").click()\n",
    "    except:\n",
    "        pass\n",
    "    #title\n",
    "    title_s = driver.find_element_by_tag_name('h1')\n",
    "    #time\n",
    "    time_s= driver.find_element_by_tag_name('time')\n",
    "    #text content\n",
    "    #text_s=driver.find_element_by_class_name('caas-body')\n",
    "    #source\n",
    "    sources=driver.find_element_by_css_selector('header>div>a>img') \n",
    "    source_s=sources.get_attribute('alt')\n",
    "    source.append(source_s) \n",
    "    title.append(title_s.text) \n",
    "    time.append(time_s.text) \n",
    "    #text.append(text_s.text)\n",
    "    # specifies name and path if the html\n",
    "    html_name = f'{counter}_article.html'\n",
    "    html_path = os.path.join(articles_paths, html_name)\n",
    "\n",
    "    paths.append(f'\\{dir_save}\\{html_name}')\n",
    "    html_names.append(html_name)\n",
    "    # downloads page as html\n",
    "    with open(html_path, 'w') as f:\n",
    "        f.write(driver.page_source)\n",
    "article_infos = pd.DataFrame({'Title':title,'Source':source,'Datetime': time, 'file':html_names, 'path':paths})\n",
    "article_infos\n",
    "driver.close()"
   ]
  },
  {
   "cell_type": "code",
   "execution_count": 17,
   "metadata": {},
   "outputs": [
    {
     "output_type": "stream",
     "name": "stdout",
     "text": [
      "                                               Title     Source  \\\n0  U.S. Stocks Push Higher; Bitcoin Resumes Decli...  Bloomberg   \n1  UPDATE 1-Brazil govt cuts 2021 budget deficit ...    Reuters   \n2  Analysis: Retail investors learn to love the c...    Reuters   \n\n                     Datetime            file  \\\n0  Fri, May 21, 2021, 7:48 PM  1_article.html   \n1  Fri, May 21, 2021, 7:45 PM  2_article.html   \n2  Fri, May 21, 2021, 7:43 PM  3_article.html   \n\n                                 path  \n0  \\yahoo_finance_news\\1_article.html  \n1  \\yahoo_finance_news\\2_article.html  \n2  \\yahoo_finance_news\\3_article.html  \n"
     ]
    }
   ],
   "source": [
    "print(article_infos.head())"
   ]
  },
  {
   "cell_type": "code",
   "execution_count": 18,
   "metadata": {},
   "outputs": [],
   "source": [
    "csv_path= os.path.join(articles_paths, \"articles.csv\")\n",
    "article_infos.to_csv(csv_path)"
   ]
  },
  {
   "cell_type": "code",
   "execution_count": 76,
   "metadata": {},
   "outputs": [],
   "source": [
    "# #setting up driver for one artice\n",
    "# #article_url = 'https://finance.yahoo.com/news/1-scrubs-maker-figs-eyes-143010503.html'\n",
    "# article_url = 'https://finance.yahoo.com/news/whats-store-dxc-technology-dxc-142302406.html'\n",
    "# driver = webdriver.Chrome()\n",
    "# driver.get(article_url)\n",
    "# #agreing to terms and conditions of webpage\n",
    "# button_agree = driver.find_elements_by_tag_name('Button')[0]\n",
    "# button_agree.click()\n",
    "# # link_text=driver.find_elements_by_tag_name('a')[0]\n",
    "# # link_text.click()"
   ]
  },
  {
   "cell_type": "code",
   "execution_count": 78,
   "metadata": {},
   "outputs": [
    {
     "data": {
      "text/html": [
       "<div>\n",
       "<style scoped>\n",
       "    .dataframe tbody tr th:only-of-type {\n",
       "        vertical-align: middle;\n",
       "    }\n",
       "\n",
       "    .dataframe tbody tr th {\n",
       "        vertical-align: top;\n",
       "    }\n",
       "\n",
       "    .dataframe thead th {\n",
       "        text-align: right;\n",
       "    }\n",
       "</style>\n",
       "<table border=\"1\" class=\"dataframe\">\n",
       "  <thead>\n",
       "    <tr style=\"text-align: right;\">\n",
       "      <th></th>\n",
       "      <th>Title</th>\n",
       "      <th>Source</th>\n",
       "      <th>Datetime</th>\n",
       "    </tr>\n",
       "  </thead>\n",
       "  <tbody>\n",
       "    <tr>\n",
       "      <th>0</th>\n",
       "      <td>What's in Store for DXC Technology (DXC) This ...</td>\n",
       "      <td>Zacks</td>\n",
       "      <td>Fri, May 21, 2021, 4:23 PM</td>\n",
       "    </tr>\n",
       "  </tbody>\n",
       "</table>\n",
       "</div>"
      ],
      "text/plain": [
       "                                               Title Source  \\\n",
       "0  What's in Store for DXC Technology (DXC) This ...  Zacks   \n",
       "\n",
       "                     Datetime  \n",
       "0  Fri, May 21, 2021, 4:23 PM  "
      ]
     },
     "execution_count": 78,
     "metadata": {},
     "output_type": "execute_result"
    }
   ],
   "source": [
    "# #Scraping for info\n",
    "# #title\n",
    "# title_s = driver.find_element_by_tag_name('h1')\n",
    "# #time\n",
    "# time_s= driver.find_element_by_tag_name('time')\n",
    "# #text content\n",
    "# text_s=driver.find_element_by_class_name('caas-body')\n",
    "# #source\n",
    "# sources=driver.find_element_by_css_selector('header>div>a>img')\n",
    "# source_s=sources.get_attribute('alt')\n",
    "\n",
    "# source=[]\n",
    "# source.append(source_s)\n",
    "# title=[]\n",
    "# title.append(title_s.text)\n",
    "# time=[]\n",
    "# time.append(time_s.text)\n",
    "# text=[]\n",
    "# text.append(text_s.text)\n",
    "\n",
    "# article_infos = pd.DataFrame({'Title':title,'Source':source,'Datetime': time})\n",
    "# #({'Title':title,'Source':source, 'Datetime': time, 'Name': name, 'Path':path})\n",
    "                              \n",
    "# article_infos"
   ]
  },
  {
   "cell_type": "code",
   "execution_count": 40,
   "metadata": {},
   "outputs": [
    {
     "data": {
      "text/plain": [
       "'Reuters'"
      ]
     },
     "execution_count": 40,
     "metadata": {},
     "output_type": "execute_result"
    }
   ],
   "source": []
  }
 ],
 "metadata": {
  "kernelspec": {
   "name": "pythonjvsc74a57bd0d3adbaf49ae7f507e83f0ccfbb2546a5cc19668fb515a7486c42bc7952ccb80e",
   "display_name": "Python 3.7.4 64-bit ('Finance': venv)"
  },
  "language_info": {
   "codemirror_mode": {
    "name": "ipython",
    "version": 3
   },
   "file_extension": ".py",
   "mimetype": "text/x-python",
   "name": "python",
   "nbconvert_exporter": "python",
   "pygments_lexer": "ipython3",
   "version": "3.7.4"
  },
  "metadata": {
   "interpreter": {
    "hash": "d3adbaf49ae7f507e83f0ccfbb2546a5cc19668fb515a7486c42bc7952ccb80e"
   }
  }
 },
 "nbformat": 4,
 "nbformat_minor": 4
}