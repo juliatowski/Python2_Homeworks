{
 "cells": [
  {
   "cell_type": "markdown",
   "metadata": {},
   "source": [
    "# Homework exercise 2\n",
    "## Deadline: upload to Moodle by 31 May 18:00 h\n",
    "\n",
    "__Please submit your homework either as a Jupyter Notebook or using .py files.__\n",
    "\n",
    "If you use .py files, please also include a PDF containing the output of your code and your explanations. Either way, the code needs to be in a form that can be easily run on another computer.\n",
    "\n",
    "__Name 1:__Julia Ornatowski\n",
    "\n",
    "__Name 2:__Fabian Basler\n",
    "\n",
    "__Name 3:__Evamaria Hammerschmid\n",
    "\n",
    "\n",
    "The name of the file that you upload should be named *Homework1_YourLastName_YourStudentID*.\n",
    "\n",
    "Reminder: you are required to attend class on 1 June to earn points for this homework exercise unless you have a valid reason for your absence.\n",
    "\n",
    "You are encouraged to work on this exercise in teams of up to three students. If any part of the questions is unclear, please ask on the Moodle forum."
   ]
  },
  {
   "cell_type": "markdown",
   "metadata": {},
   "source": [
    "#### Selenium\n"
   ]
  },
  {
   "cell_type": "markdown",
   "metadata": {},
   "source": [
    "__Yahoo Finance News Crawling__\n",
    "\n",
    "Your task is to collect and organize articles from Yahoo Finance News, available at https://finance.yahoo.com/news\n",
    "\n",
    "This will require you to use Selenium for at least two reasons:\n",
    "\n",
    "* The site initially loads only partially such that scrolling is necessary to access additional news articles\n",
    "* The news articles themselves, if they are long, are initially shown (and downloadable) in an abbreviated form. Browser navigation is necessary to click on a button such that the whole article is displayed.\n",
    "\n",
    "There are about 200 news articles available at a time, stemming from various sources (e.g. Bloomberg, Reuters), and covering different topic areas (e.g. Business, World).\n",
    "\n",
    "Note that you will need to use some features of Selenium - in particular scrolling - that are not discussed in the class notebook but documented elsewhere. \n",
    "\n",
    "You are asked to\n",
    "\n",
    "* Download all of the about 200 news articles available from Yahoo Finance News\n",
    "* Exclude the advertisements listed in between the news articles\n",
    "* Try and remove everything that is not part of the article itself (e.g. the sidebar containing a list of popular articles and other content) and save the text of each article in a text file\n",
    "* Create a DataFrame containing the following information (to the extent it is available) for each article\n",
    "    * Title\n",
    "    * Source (e.g. Bloomberg)\n",
    "    * Time and date of publication\n",
    "    * Name and path of the file containing the article's text that you saved\n",
    "    \n",
    "Please save this DataFrame so that you can later reuse the data set you created."
   ]
  },
  {
   "cell_type": "code",
   "execution_count": 1,
   "metadata": {},
   "outputs": [],
   "source": [
    "import requests\n",
    "from bs4 import BeautifulSoup\n",
    "import pandas as pd\n",
    "from datetime import datetime\n",
    "import time\n",
    "import json\n",
    "from selenium import webdriver\n",
    "import re\n",
    "import random\n",
    "import os\n",
    "from selenium.webdriver.common.keys import Keys\n",
    "from selenium.webdriver.chrome.options import Options"
   ]
  },
  {
   "cell_type": "code",
   "execution_count": 2,
   "metadata": {},
   "outputs": [],
   "source": [
    "#option to not see the browser opening\n",
    "options = Options()\n",
    "options.headless = True  \n",
    "\n",
    "main_url = \"https://finance.yahoo.com/news\"\n",
    "driver = webdriver.Chrome(options=options)  \n",
    "\n",
    "driver.get(main_url)\n",
    "sleep_sec= 4"
   ]
  },
  {
   "cell_type": "code",
   "execution_count": 3,
   "metadata": {},
   "outputs": [],
   "source": [
    "# accepts the terms field\n",
    "driver.find_element_by_xpath(\"//button[@type='submit']\").click()\n",
    "# loop as long there get new posts loaded on the site. all posts are inside the \"li\" tag\n",
    "init_li=0\n",
    "new_li = 1\n",
    "while new_li > init_li:\n",
    "    init_li = len(driver.find_elements_by_tag_name(\"li\"))\n",
    "    driver.find_element_by_tag_name('body').send_keys(Keys.END)\n",
    "    time.sleep(sleep_sec)\n",
    "    new_li=len(driver.find_elements_by_tag_name(\"li\"))"
   ]
  },
  {
   "cell_type": "code",
   "execution_count": 4,
   "metadata": {},
   "outputs": [],
   "source": [
    "time.sleep(sleep_sec)\n",
    "# gets all urls of posts including ads\n",
    "posts_url = [x.get_attribute(\"href\") for x in driver.find_elements_by_xpath(\"//h3/a\")]\n",
    "# gets only the urls which lead to a yahoo finance news site\n",
    "articles_url = [x for x in posts_url if \"https://finance.yahoo.com/news\" in x]"
   ]
  },
  {
   "cell_type": "code",
   "execution_count": 5,
   "metadata": {},
   "outputs": [
    {
     "output_type": "stream",
     "name": "stdout",
     "text": [
      "192 150\n"
     ]
    }
   ],
   "source": [
    "print(len(posts_url),len(articles_url))"
   ]
  },
  {
   "cell_type": "code",
   "execution_count": 6,
   "metadata": {},
   "outputs": [
    {
     "output_type": "stream",
     "name": "stdout",
     "text": [
      "directory created\n"
     ]
    }
   ],
   "source": [
    "#creating folder, path\n",
    "dir_save=\"yahoo_finance_news\" \n",
    "base_path = os.getcwd()\n",
    "articles_paths = os.path.join(base_path, dir_save)\n",
    "dir_saved= os.path.join(articles_paths, dir_save)\n",
    "try:\n",
    "   os.mkdir(dir_save)\n",
    "   print(\"directory created\")\n",
    "except:\n",
    "   print(\"directory exists\")"
   ]
  },
  {
   "cell_type": "code",
   "execution_count": 7,
   "metadata": {},
   "outputs": [],
   "source": [
    "source=[]\n",
    "title=[]\n",
    "time=[]\n",
    "text=[]\n",
    "paths=[]\n",
    "txt_names = []\n",
    "\n",
    "for counter, article in enumerate(articles_url,1):\n",
    "    driver.get(article)\n",
    "#agreing to terms and conditions of webpage\n",
    "    try:\n",
    "        button_agree = driver.find_element_by_xpath(\"//button[@type='submit']\").click()\n",
    "        button_agree.click()\n",
    "    except:\n",
    "        pass\n",
    "    # clicks button to see whole text\n",
    "    try:\n",
    "        driver.find_element_by_xpath(\"//button[contains( text(), 'Story continues')]\").click()\n",
    "    except:\n",
    "        pass\n",
    "    #title\n",
    "    title_s = driver.find_element_by_tag_name('h1')\n",
    "    #time\n",
    "    time_s= driver.find_element_by_tag_name('time')\n",
    "    #text content\n",
    "    text_s=driver.find_element_by_class_name('caas-body')\n",
    "    #source\n",
    "    sources=driver.find_element_by_css_selector('header>div>a>img') \n",
    "    source_s=sources.get_attribute('alt')\n",
    "    source.append(source_s) \n",
    "    title.append(title_s.text) \n",
    "    time.append(time_s.text) \n",
    "    # text.append(text_s.text)\n",
    "    # specifies name and path if the html\n",
    "    txt_name = f'{counter}_article.txt'\n",
    "    txt_path = os.path.join(articles_paths, txt_name)\n",
    "    # crates text of the whole article\n",
    "    article_content = f\"{title_s.text}\\n{text_s.text}\"\n",
    "    paths.append(f'\\{dir_save}\\{txt_name}')\n",
    "    txt_names.append(txt_name)\n",
    "    \n",
    "    with open(txt_path, 'w') as f:\n",
    "        f.write(article_content)\n",
    "article_infos = pd.DataFrame({'Title':title,'Source':source,'Datetime': time, 'file':txt_names, 'path':paths})\n",
    "driver.close()"
   ]
  },
  {
   "cell_type": "code",
   "execution_count": 8,
   "metadata": {},
   "outputs": [
    {
     "output_type": "execute_result",
     "data": {
      "text/plain": [
       "                                                 Title          Source  \\\n",
       "0    Vegan Activists Block McDonald’s U.K. Burger S...       Bloomberg   \n",
       "1    ViacomCBS streaming head: We're 'extremely wel...   Yahoo Finance   \n",
       "2    UPDATE 1-Campaign group Animal Rebellion block...         Reuters   \n",
       "3    U.S. Weighs Financial Sanctions Against Ethiop...       Bloomberg   \n",
       "4    German cyber security chief fears hackers coul...         Reuters   \n",
       "..                                                 ...             ...   \n",
       "145  How Shake Shack, McDonald's and others are len...   Yahoo Finance   \n",
       "146  Warren Buffett gave this investing tip to NFL ...   Yahoo Finance   \n",
       "147  New Stimulus Checks Could Start Hitting Your A...  GOBankingRates   \n",
       "148  Can employers legally require unvaccinated wor...   Yahoo Finance   \n",
       "149  So long, Internet Explorer, and your decades o...      TechCrunch   \n",
       "\n",
       "                        Datetime             file  \\\n",
       "0     Sat, May 22, 2021, 1:03 PM    1_article.txt   \n",
       "1     Sat, May 22, 2021, 1:00 PM    2_article.txt   \n",
       "2    Sat, May 22, 2021, 12:48 PM    3_article.txt   \n",
       "3    Sat, May 22, 2021, 12:18 PM    4_article.txt   \n",
       "4    Sat, May 22, 2021, 12:07 PM    5_article.txt   \n",
       "..                           ...              ...   \n",
       "145   Fri, May 21, 2021, 6:18 PM  146_article.txt   \n",
       "146   Fri, May 21, 2021, 5:16 PM  147_article.txt   \n",
       "147  Fri, May 21, 2021, 12:20 PM  148_article.txt   \n",
       "148   Thu, May 20, 2021, 2:13 PM  149_article.txt   \n",
       "149   Thu, May 20, 2021, 2:45 PM  150_article.txt   \n",
       "\n",
       "                                    path  \n",
       "0      \\yahoo_finance_news\\1_article.txt  \n",
       "1      \\yahoo_finance_news\\2_article.txt  \n",
       "2      \\yahoo_finance_news\\3_article.txt  \n",
       "3      \\yahoo_finance_news\\4_article.txt  \n",
       "4      \\yahoo_finance_news\\5_article.txt  \n",
       "..                                   ...  \n",
       "145  \\yahoo_finance_news\\146_article.txt  \n",
       "146  \\yahoo_finance_news\\147_article.txt  \n",
       "147  \\yahoo_finance_news\\148_article.txt  \n",
       "148  \\yahoo_finance_news\\149_article.txt  \n",
       "149  \\yahoo_finance_news\\150_article.txt  \n",
       "\n",
       "[150 rows x 5 columns]"
      ],
      "text/html": "<div>\n<style scoped>\n    .dataframe tbody tr th:only-of-type {\n        vertical-align: middle;\n    }\n\n    .dataframe tbody tr th {\n        vertical-align: top;\n    }\n\n    .dataframe thead th {\n        text-align: right;\n    }\n</style>\n<table border=\"1\" class=\"dataframe\">\n  <thead>\n    <tr style=\"text-align: right;\">\n      <th></th>\n      <th>Title</th>\n      <th>Source</th>\n      <th>Datetime</th>\n      <th>file</th>\n      <th>path</th>\n    </tr>\n  </thead>\n  <tbody>\n    <tr>\n      <th>0</th>\n      <td>Vegan Activists Block McDonald’s U.K. Burger S...</td>\n      <td>Bloomberg</td>\n      <td>Sat, May 22, 2021, 1:03 PM</td>\n      <td>1_article.txt</td>\n      <td>\\yahoo_finance_news\\1_article.txt</td>\n    </tr>\n    <tr>\n      <th>1</th>\n      <td>ViacomCBS streaming head: We're 'extremely wel...</td>\n      <td>Yahoo Finance</td>\n      <td>Sat, May 22, 2021, 1:00 PM</td>\n      <td>2_article.txt</td>\n      <td>\\yahoo_finance_news\\2_article.txt</td>\n    </tr>\n    <tr>\n      <th>2</th>\n      <td>UPDATE 1-Campaign group Animal Rebellion block...</td>\n      <td>Reuters</td>\n      <td>Sat, May 22, 2021, 12:48 PM</td>\n      <td>3_article.txt</td>\n      <td>\\yahoo_finance_news\\3_article.txt</td>\n    </tr>\n    <tr>\n      <th>3</th>\n      <td>U.S. Weighs Financial Sanctions Against Ethiop...</td>\n      <td>Bloomberg</td>\n      <td>Sat, May 22, 2021, 12:18 PM</td>\n      <td>4_article.txt</td>\n      <td>\\yahoo_finance_news\\4_article.txt</td>\n    </tr>\n    <tr>\n      <th>4</th>\n      <td>German cyber security chief fears hackers coul...</td>\n      <td>Reuters</td>\n      <td>Sat, May 22, 2021, 12:07 PM</td>\n      <td>5_article.txt</td>\n      <td>\\yahoo_finance_news\\5_article.txt</td>\n    </tr>\n    <tr>\n      <th>...</th>\n      <td>...</td>\n      <td>...</td>\n      <td>...</td>\n      <td>...</td>\n      <td>...</td>\n    </tr>\n    <tr>\n      <th>145</th>\n      <td>How Shake Shack, McDonald's and others are len...</td>\n      <td>Yahoo Finance</td>\n      <td>Fri, May 21, 2021, 6:18 PM</td>\n      <td>146_article.txt</td>\n      <td>\\yahoo_finance_news\\146_article.txt</td>\n    </tr>\n    <tr>\n      <th>146</th>\n      <td>Warren Buffett gave this investing tip to NFL ...</td>\n      <td>Yahoo Finance</td>\n      <td>Fri, May 21, 2021, 5:16 PM</td>\n      <td>147_article.txt</td>\n      <td>\\yahoo_finance_news\\147_article.txt</td>\n    </tr>\n    <tr>\n      <th>147</th>\n      <td>New Stimulus Checks Could Start Hitting Your A...</td>\n      <td>GOBankingRates</td>\n      <td>Fri, May 21, 2021, 12:20 PM</td>\n      <td>148_article.txt</td>\n      <td>\\yahoo_finance_news\\148_article.txt</td>\n    </tr>\n    <tr>\n      <th>148</th>\n      <td>Can employers legally require unvaccinated wor...</td>\n      <td>Yahoo Finance</td>\n      <td>Thu, May 20, 2021, 2:13 PM</td>\n      <td>149_article.txt</td>\n      <td>\\yahoo_finance_news\\149_article.txt</td>\n    </tr>\n    <tr>\n      <th>149</th>\n      <td>So long, Internet Explorer, and your decades o...</td>\n      <td>TechCrunch</td>\n      <td>Thu, May 20, 2021, 2:45 PM</td>\n      <td>150_article.txt</td>\n      <td>\\yahoo_finance_news\\150_article.txt</td>\n    </tr>\n  </tbody>\n</table>\n<p>150 rows × 5 columns</p>\n</div>"
     },
     "metadata": {},
     "execution_count": 8
    }
   ],
   "source": [
    "article_infos"
   ]
  },
  {
   "cell_type": "code",
   "execution_count": 9,
   "metadata": {},
   "outputs": [],
   "source": [
    "#saves df\n",
    "csv_path= os.path.join(articles_paths, \"articles.csv\")\n",
    "article_infos.to_csv(csv_path)"
   ]
  },
  {
   "cell_type": "code",
   "execution_count": null,
   "metadata": {},
   "outputs": [],
   "source": []
  }
 ],
 "metadata": {
  "kernelspec": {
   "name": "pythonjvsc74a57bd0d3adbaf49ae7f507e83f0ccfbb2546a5cc19668fb515a7486c42bc7952ccb80e",
   "display_name": "Python 3.7.4  ('Finance': venv)"
  },
  "language_info": {
   "codemirror_mode": {
    "name": "ipython",
    "version": 3
   },
   "file_extension": ".py",
   "mimetype": "text/x-python",
   "name": "python",
   "nbconvert_exporter": "python",
   "pygments_lexer": "ipython3",
   "version": "3.7.4"
  },
  "varInspector": {
   "cols": {
    "lenName": 16,
    "lenType": 16,
    "lenVar": 40
   },
   "kernels_config": {
    "python": {
     "delete_cmd_postfix": "",
     "delete_cmd_prefix": "del ",
     "library": "var_list.py",
     "varRefreshCmd": "print(var_dic_list())"
    },
    "r": {
     "delete_cmd_postfix": ") ",
     "delete_cmd_prefix": "rm(",
     "library": "var_list.r",
     "varRefreshCmd": "cat(var_dic_list()) "
    }
   },
   "types_to_exclude": [
    "module",
    "function",
    "builtin_function_or_method",
    "instance",
    "_Feature"
   ],
   "window_display": false
  },
  "metadata": {
   "interpreter": {
    "hash": "d3adbaf49ae7f507e83f0ccfbb2546a5cc19668fb515a7486c42bc7952ccb80e"
   }
  }
 },
 "nbformat": 4,
 "nbformat_minor": 4
}