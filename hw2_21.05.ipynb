{
 "cells": [
  {
   "cell_type": "code",
   "execution_count": 24,
   "metadata": {},
   "outputs": [],
   "source": [
    "import requests\n",
    "from bs4 import BeautifulSoup\n",
    "import pandas as pd\n",
    "from datetime import datetime\n",
    "import time\n",
    "import json\n",
    "from selenium import webdriver\n",
    "import re\n",
    "import random\n",
    "import os\n",
    "from selenium.webdriver.common.keys import Keys\n"
   ]
  },
  {
   "cell_type": "code",
   "execution_count": 25,
   "metadata": {},
   "outputs": [],
   "source": [
    "main_url = \"https://finance.yahoo.com/news\"\n",
    "driver = webdriver.Chrome()\n",
    "driver.get(main_url)\n",
    "sleep_sec= 4"
   ]
  },
  {
   "cell_type": "code",
   "execution_count": 26,
   "metadata": {},
   "outputs": [],
   "source": [
    "# accepts the terms field\n",
    "driver.find_element_by_xpath(\"//button[@type='submit']\").click()\n",
    "# loop as long there get new posts loaded on the site. all posts are inside the \"li\" tag\n",
    "init_li=0\n",
    "new_li = 1\n",
    "# while new_li > init_li:\n",
    "#     init_li = len(driver.find_elements_by_tag_name(\"li\"))\n",
    "#     driver.find_element_by_tag_name('body').send_keys(Keys.END)\n",
    "#     time.sleep(sleep_sec)\n",
    "#     new_li=len(driver.find_elements_by_tag_name(\"li\"))"
   ]
  },
  {
   "cell_type": "code",
   "execution_count": 27,
   "metadata": {},
   "outputs": [],
   "source": [
    "time.sleep(sleep_sec)\n",
    "# gets all urls of posts including ads\n",
    "posts_url = [x.get_attribute(\"href\") for x in driver.find_elements_by_xpath(\"//h3/a\")]\n",
    "# gets only the urls which lead to a yahoo finance news site\n",
    "articles_url = [x for x in posts_url if \"https://finance.yahoo.com/news\" in x]"
   ]
  },
  {
   "cell_type": "code",
   "execution_count": 28,
   "metadata": {
    "tags": []
   },
   "outputs": [
    {
     "output_type": "stream",
     "name": "stdout",
     "text": [
      "38 18\nhttps://finance.yahoo.com/news/biden-needs-more-order-limit-060000429.html\nhttps://finance.yahoo.com/news/hollywood-can-absolutely-make-political-statements-tribeca-enterprises-ceo-153649331.html\nhttps://finance.yahoo.com/news/u-k-homeowners-could-forced-140446225.html\nhttps://finance.yahoo.com/news/stock-market-news-live-updates-may-21-2021-221344440.html\nhttps://finance.yahoo.com/news/asia-stocks-track-u-rise-215720588.html\nhttps://finance.yahoo.com/news/wrapup-1-u-manufacturing-powers-153356284.html\nhttps://finance.yahoo.com/news/seaboard-foods-fails-attempt-delay-152921794.html\nhttps://finance.yahoo.com/news/kl-shipbuilder-gets-ahead-lawsuit-152536906.html\nhttps://finance.yahoo.com/news/indias-jsw-steel-examining-bid-152516163.html\nhttps://finance.yahoo.com/news/ford-ceo-told-biden-to-step-on-the-throttle-when-the-president-test-drove-the-new-all-electric-f-150-162152239.html\nhttps://finance.yahoo.com/news/existing-home-sales-april-2021-140007789-140119590.html\nhttps://finance.yahoo.com/news/warren-buffett-gave-this-great-investing-tip-to-nfl-defenseman-ndamukong-suh-151628480.html\nhttps://finance.yahoo.com/news/one-big-problem-biden-doesnt-have-a-plan-to-solve-190546145.html\nhttps://finance.yahoo.com/news/stimulus-checks-could-start-hitting-102016066.html\nhttps://finance.yahoo.com/news/yahoo-finance-users-love-dogecoin-morning-brief-101645082.html\nhttps://finance.yahoo.com/news/clover-health-president-we-seek-talent-wherever-we-can-find-and-recruit-it-151302416.html\nhttps://finance.yahoo.com/news/retirement-reform-is-on-track-for-bidens-signature-hopefully-this-year-rep-kevin-brady-170138525.html\nhttps://finance.yahoo.com/news/robinhood-allow-users-buy-ipos-150512062.html\n"
     ]
    }
   ],
   "source": [
    "print(len(posts_url),len(articles_url))\n",
    "\n",
    "for x in articles_url: \n",
    "    print(x)"
   ]
  },
  {
   "cell_type": "code",
   "execution_count": 54,
   "metadata": {},
   "outputs": [
    {
     "output_type": "stream",
     "name": "stdout",
     "text": [
      "directory created\n"
     ]
    }
   ],
   "source": [
    "dir_save=\"yahoo_finance_news\"\n",
    "base_path = os.getcwd()\n",
    "article_path = os.path.join(base_path, dir_save)\n",
    "dir_saved= os.path.join(article_path, dir_save)\n",
    "try:\n",
    "   os.mkdir(dir_save)\n",
    "   print(\"directory created\")\n",
    "except:\n",
    "   print(\"directory exists\")"
   ]
  },
  {
   "cell_type": "code",
   "execution_count": 35,
   "metadata": {},
   "outputs": [
    {
     "output_type": "stream",
     "name": "stdout",
     "text": [
      "test\n",
      "test\n"
     ]
    }
   ],
   "source": [
    "#bsp für einen post \n",
    "post_url ='https://finance.yahoo.com/news/commerce-secretary-gina-raimondo-china-trade-134452903.html'\n",
    "driver = webdriver.Chrome()\n",
    "driver.get(post_url)\n",
    "#agreing to terms and conditions of webpage\n",
    "driver.find_element_by_xpath(\"//button[@type='submit']\").click()\n",
    "# driver.find_element_by_tag_name('a').click()\n",
    "# driver.close()\n",
    "\n",
    "# clicks button to see whole text\n",
    "try:\n",
    "    driver.find_element_by_xpath(\"//button[contains( text(), 'Story continues')]\").click()\n",
    "except:\n",
    "    print(\"whole article already loaded\")"
   ]
  },
  {
   "cell_type": "code",
   "execution_count": null,
   "metadata": {},
   "outputs": [],
   "source": []
  },
  {
   "cell_type": "code",
   "execution_count": null,
   "metadata": {},
   "outputs": [],
   "source": [
    "#Scraping for info\n",
    "#title\n",
    "title_s = driver.find_element_by_tag_name('h1')\n",
    "#time\n",
    "time_s= driver.find_element_by_tag_name('time')\n",
    "#text content\n",
    "text_s=driver.find_element_by_class_name('caas-body')\n",
    "##knopf um ganzen text zu laden\n",
    "\n",
    "#Source (Funktioniert nicht, eventuell von der main page abrufen)\n",
    "#source_s= driver.find_element_by_css_selector(\"a[alt ='Reuters'][class='caas-img caas-loaded']\")\n",
    "source=[]\n",
    "#source.append(source_s.text)\n",
    "title=[]\n",
    "title.append(title_s.text)\n",
    "time=[]\n",
    "time.append(time_s.text)\n",
    "text=[]\n",
    "text.append(text_s.text)\n",
    "\n",
    "article_infos = pd.DataFrame({'Title':title,'Datetime': time})\n",
    "#({'Title':title,'Source':source, 'Datetime': time, 'Name': name, 'Path':path})\n",
    "                              \n",
    "print(article_infos)"
   ]
  },
  {
   "cell_type": "code",
   "execution_count": 52,
   "metadata": {},
   "outputs": [],
   "source": [
    "df = pd.DataFrame()\n",
    "csv_path= os.path.join(article_path, \"article.csv\")\n",
    "df.to_csv(csv_path)"
   ]
  }
 ],
 "metadata": {
  "kernelspec": {
   "name": "pythonjvsc74a57bd0d3adbaf49ae7f507e83f0ccfbb2546a5cc19668fb515a7486c42bc7952ccb80e",
   "display_name": "Python 3.7.4 64-bit ('Finance': venv)"
  },
  "language_info": {
   "codemirror_mode": {
    "name": "ipython",
    "version": 3
   },
   "file_extension": ".py",
   "mimetype": "text/x-python",
   "name": "python",
   "nbconvert_exporter": "python",
   "pygments_lexer": "ipython3",
   "version": "3.7.4"
  },
  "metadata": {
   "interpreter": {
    "hash": "d3adbaf49ae7f507e83f0ccfbb2546a5cc19668fb515a7486c42bc7952ccb80e"
   }
  }
 },
 "nbformat": 4,
 "nbformat_minor": 4
}